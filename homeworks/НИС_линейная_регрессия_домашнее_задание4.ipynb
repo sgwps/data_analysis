{
  "cells": [
    {
      "cell_type": "markdown",
      "metadata": {
        "id": "2zowFSx1tsHz"
      },
      "source": [
        "# Домашее задание №4"
      ]
    },
    {
      "cell_type": "markdown",
      "metadata": {
        "id": "Kzd25HOqtsH3"
      },
      "source": [
        "С 2015 года ежегодно проводится анонимный опрос европейских ИТ-специалистов, включающий информацию об их доходах.\n",
        "\n",
        "Источник: https://www.kaggle.com/parulpandey/2020-it-salary-survey-for-eu-region\n",
        "\n",
        "В файле IT_Salary_Survey_EU_2020.csv содержаться следующие переменные:\n",
        "\n",
        "    - Age\n",
        "    - Gender\n",
        "    - City\n",
        "    - Position\n",
        "    - Total years of experience\n",
        "    - Years of experience in Germany\n",
        "    - Seniority level\n",
        "    - Your main technology / programming language\n",
        "    - Other technologies/programming languages you use often\n",
        "    - Yearly brutto salary (without bonus and stocks) in EUR\n",
        "    - Yearly bonus + stocks in EUR\n",
        "    - Annual brutto salary (without bonus and stocks) one year ago. Only answer if staying in the same country\n",
        "    - Annual bonus+stocks one year ago. Only answer if staying in same country\n",
        "    - Number of vacation days\n",
        "    - Employment status\n",
        "    - Сontract duration\n",
        "    - Main language at work\n",
        "    - Company size\n",
        "    - Company type\n",
        "    - Have you lost your job due to the coronavirus outbreak?\n",
        "    - Have you been forced to have a shorter working week (Kurzarbeit)? If yes, how many hours per week\n",
        "    - Have you received additional monetary support from your employer due to Work From Home? If yes, how much in 2020 in EUR!\n",
        "\n",
        "\n",
        "\n",
        "Задания:\n",
        "\n",
        "    •\tПостройте модель множественной линейной регрессии выбрав в качестве зависимой одну из переменных, характеризующих доход IT-специалиста. Выберите не менее 7-ми переменных в качестве независимых. Среди независимых переменных должно быть не менее 2 категориальных.\n",
        "    \n",
        "    •\tСформулируйте гипотезы исследования.\n",
        "    \n",
        "    •\tНапишите уравнение регрессии.\n",
        "    \n",
        "    •\tОцените характеристики регрессионной модели в целом.\n",
        "    \n",
        "    •\tОцените значимость регрессионных коэффициентов. Сравните их между собой по силе взаимосвязи с зависимой переменной.\n",
        "    \n",
        "    •\tПодробно интерпретируйте особенности взаимосвязи между каждым из предикторов и зависимой переменной. Это очень важный пункт задания, поскольку именно в нем мы делаем выводы о том, какие факторы и как могут влиять за зарплату IT-специалиста!\n",
        "    \n",
        "    •\tПроведите диагностику модели. Есть ли в модели выбросы и/или влияющие наблюдения? Чем это может объясняться?\n",
        "    \n",
        "    •\tСформулируйте общие содержательные выводы по результатам регрессионного анализа данных. Какие результаты анализа данных для вас оказались очевидными, а какие неожиданными?"
      ]
    },
    {
      "cell_type": "markdown",
      "metadata": {
        "id": "C_h_EhC0tsH4"
      },
      "source": [
        "Обратите внимание, что все пункты задания должны сопровождаться _выполненным_ фрагментом кода!"
      ]
    },
    {
      "cell_type": "markdown",
      "metadata": {
        "id": "qo7OXyoXtsH5"
      },
      "source": [
        "## Let's get it started"
      ]
    },
    {
      "cell_type": "code",
      "execution_count": 29,
      "metadata": {
        "id": "v_CRMyRstsH5"
      },
      "outputs": [],
      "source": [
        "import pandas as pd\n",
        "import seaborn as sns\n",
        "import matplotlib.pyplot as plt\n",
        "from scipy import stats\n",
        "import numpy as np\n",
        "from statsmodels.stats.outliers_influence import variance_inflation_factor as vif"
      ]
    },
    {
      "cell_type": "code",
      "execution_count": 30,
      "metadata": {
        "colab": {
          "base_uri": "https://localhost:8080/"
        },
        "id": "hRs3-haLtsH6",
        "outputId": "c99d5ef3-fbd6-4b28-abff-fbeba1470d5d"
      },
      "outputs": [
        {
          "data": {
            "text/plain": [
              "(1253, 22)"
            ]
          },
          "execution_count": 30,
          "metadata": {},
          "output_type": "execute_result"
        }
      ],
      "source": [
        "df = pd.read_csv('IT_Salary_Survey_EU_2020.csv', index_col=0)\n",
        "df.shape"
      ]
    },
    {
      "cell_type": "code",
      "execution_count": 31,
      "metadata": {
        "colab": {
          "base_uri": "https://localhost:8080/"
        },
        "id": "3F5iuyp8tsH7",
        "outputId": "38c96903-2a9d-4f5c-e9c9-28024b0b8c9d"
      },
      "outputs": [
        {
          "name": "stdout",
          "output_type": "stream",
          "text": [
            "Type: float64\n",
            "['Age' 'Yearly brutto salary (without bonus and stocks) in EUR'\n",
            " 'Annual brutto salary (without bonus and stocks) one year ago. Only answer if staying in the same country'\n",
            " 'Have you been forced to have a shorter working week (Kurzarbeit)? If yes, how many hours per week']\n",
            "\n",
            "Type: object\n",
            "['Gender' 'City' 'Position ' 'Total years of experience'\n",
            " 'Years of experience in Germany' 'Seniority level'\n",
            " 'Your main technology / programming language'\n",
            " 'Other technologies/programming languages you use often'\n",
            " 'Yearly bonus + stocks in EUR'\n",
            " 'Annual bonus+stocks one year ago. Only answer if staying in same country'\n",
            " 'Number of vacation days' 'Employment status' 'Сontract duration'\n",
            " 'Main language at work' 'Company size' 'Company type'\n",
            " 'Have you lost your job due to the coronavirus outbreak?'\n",
            " 'Have you received additional monetary support from your employer due to Work From Home? If yes, how much in 2020 in EUR']\n",
            "\n"
          ]
        }
      ],
      "source": [
        "# Названия переменных, сгруппированные по типам данных\n",
        "for t in df.dtypes.unique():\n",
        "     print('Type: {}\\n{}\\n'.format(t, df.dtypes[df.dtypes==t].index.values))"
      ]
    },
    {
      "cell_type": "code",
      "execution_count": 32,
      "metadata": {
        "colab": {
          "base_uri": "https://localhost:8080/",
          "height": 739
        },
        "id": "5eckJEOmtsH8",
        "outputId": "bd88760e-9bd1-4406-ce5c-d4a33ef1f443"
      },
      "outputs": [
        {
          "data": {
            "text/html": [
              "<div>\n",
              "<style scoped>\n",
              "    .dataframe tbody tr th:only-of-type {\n",
              "        vertical-align: middle;\n",
              "    }\n",
              "\n",
              "    .dataframe tbody tr th {\n",
              "        vertical-align: top;\n",
              "    }\n",
              "\n",
              "    .dataframe thead th {\n",
              "        text-align: right;\n",
              "    }\n",
              "</style>\n",
              "<table border=\"1\" class=\"dataframe\">\n",
              "  <thead>\n",
              "    <tr style=\"text-align: right;\">\n",
              "      <th></th>\n",
              "      <th>Процент пропущенных значений</th>\n",
              "    </tr>\n",
              "  </thead>\n",
              "  <tbody>\n",
              "    <tr>\n",
              "      <th>Have you been forced to have a shorter working week (Kurzarbeit)? If yes, how many hours per week</th>\n",
              "      <td>70.231445</td>\n",
              "    </tr>\n",
              "    <tr>\n",
              "      <th>Have you received additional monetary support from your employer due to Work From Home? If yes, how much in 2020 in EUR</th>\n",
              "      <td>63.128492</td>\n",
              "    </tr>\n",
              "    <tr>\n",
              "      <th>Annual bonus+stocks one year ago. Only answer if staying in same country</th>\n",
              "      <td>50.997606</td>\n",
              "    </tr>\n",
              "    <tr>\n",
              "      <th>Yearly bonus + stocks in EUR</th>\n",
              "      <td>33.838787</td>\n",
              "    </tr>\n",
              "    <tr>\n",
              "      <th>Annual brutto salary (without bonus and stocks) one year ago. Only answer if staying in the same country</th>\n",
              "      <td>29.369513</td>\n",
              "    </tr>\n",
              "    <tr>\n",
              "      <th>Other technologies/programming languages you use often</th>\n",
              "      <td>12.529928</td>\n",
              "    </tr>\n",
              "    <tr>\n",
              "      <th>Your main technology / programming language</th>\n",
              "      <td>10.135674</td>\n",
              "    </tr>\n",
              "    <tr>\n",
              "      <th>Number of vacation days</th>\n",
              "      <td>5.426975</td>\n",
              "    </tr>\n",
              "    <tr>\n",
              "      <th>Years of experience in Germany</th>\n",
              "      <td>2.553871</td>\n",
              "    </tr>\n",
              "    <tr>\n",
              "      <th>Сontract duration</th>\n",
              "      <td>2.314445</td>\n",
              "    </tr>\n",
              "    <tr>\n",
              "      <th>Age</th>\n",
              "      <td>2.154828</td>\n",
              "    </tr>\n",
              "    <tr>\n",
              "      <th>Company type</th>\n",
              "      <td>1.995211</td>\n",
              "    </tr>\n",
              "    <tr>\n",
              "      <th>Have you lost your job due to the coronavirus outbreak?</th>\n",
              "      <td>1.596169</td>\n",
              "    </tr>\n",
              "    <tr>\n",
              "      <th>Company size</th>\n",
              "      <td>1.436552</td>\n",
              "    </tr>\n",
              "    <tr>\n",
              "      <th>Employment status</th>\n",
              "      <td>1.356744</td>\n",
              "    </tr>\n",
              "    <tr>\n",
              "      <th>Total years of experience</th>\n",
              "      <td>1.276935</td>\n",
              "    </tr>\n",
              "    <tr>\n",
              "      <th>Main language at work</th>\n",
              "      <td>1.276935</td>\n",
              "    </tr>\n",
              "    <tr>\n",
              "      <th>Seniority level</th>\n",
              "      <td>0.957702</td>\n",
              "    </tr>\n",
              "    <tr>\n",
              "      <th>Gender</th>\n",
              "      <td>0.798085</td>\n",
              "    </tr>\n",
              "    <tr>\n",
              "      <th>Position</th>\n",
              "      <td>0.478851</td>\n",
              "    </tr>\n",
              "    <tr>\n",
              "      <th>Yearly brutto salary (without bonus and stocks) in EUR</th>\n",
              "      <td>0.000000</td>\n",
              "    </tr>\n",
              "    <tr>\n",
              "      <th>City</th>\n",
              "      <td>0.000000</td>\n",
              "    </tr>\n",
              "  </tbody>\n",
              "</table>\n",
              "</div>"
            ],
            "text/plain": [
              "                                                    Процент пропущенных значений\n",
              "Have you been forced to have a shorter working ...                     70.231445\n",
              "Have you received additional monetary support f...                     63.128492\n",
              "Annual bonus+stocks one year ago. Only answer i...                     50.997606\n",
              "Yearly bonus + stocks in EUR                                           33.838787\n",
              "Annual brutto salary (without bonus and stocks)...                     29.369513\n",
              "Other technologies/programming languages you us...                     12.529928\n",
              "Your main technology / programming language                            10.135674\n",
              "Number of vacation days                                                 5.426975\n",
              "Years of experience in Germany                                          2.553871\n",
              "Сontract duration                                                       2.314445\n",
              "Age                                                                     2.154828\n",
              "Company type                                                            1.995211\n",
              "Have you lost your job due to the coronavirus o...                      1.596169\n",
              "Company size                                                            1.436552\n",
              "Employment status                                                       1.356744\n",
              "Total years of experience                                               1.276935\n",
              "Main language at work                                                   1.276935\n",
              "Seniority level                                                         0.957702\n",
              "Gender                                                                  0.798085\n",
              "Position                                                                0.478851\n",
              "Yearly brutto salary (without bonus and stocks)...                      0.000000\n",
              "City                                                                    0.000000"
            ]
          },
          "execution_count": 32,
          "metadata": {},
          "output_type": "execute_result"
        }
      ],
      "source": [
        "#Процент пропущенных значений по переменным, содержащим пропуски\n",
        "missing = (df.isna().sum() / len(df)) * 100\n",
        "missing = missing[missing >= 0].sort_values(ascending=False)\n",
        "missing = pd.DataFrame({'Процент пропущенных значений' : missing})\n",
        "missing"
      ]
    },
    {
      "cell_type": "markdown",
      "metadata": {
        "id": "_Uk2NIkytsH8"
      },
      "source": [
        "## Независимые переменные"
      ]
    },
    {
      "cell_type": "markdown",
      "metadata": {
        "id": "yvEH5X0ItsH8"
      },
      "source": [
        "#### Выпишем независимые переменные\n",
        "- Возраст (Age)\n",
        "- Общий опыт работы (Total years of experience)\n",
        "- Опыт работы в Германии (Years of experience in Germany)\n",
        "\n",
        "Из них категориальные:\n",
        "- Основной язык в работе (Main language at work)\n",
        "- Размер компании (Company size)\n",
        "- Пол (Gender)\n",
        "- Грейд (Seniority level)"
      ]
    },
    {
      "cell_type": "code",
      "execution_count": 33,
      "metadata": {
        "id": "D5eW9pNYtsH9"
      },
      "outputs": [],
      "source": [
        "df = df.dropna(subset=['Age'])\n"
      ]
    },
    {
      "cell_type": "markdown",
      "metadata": {
        "id": "vo1bz1rptsH9"
      },
      "source": [
        "#### Основной язык в работе"
      ]
    },
    {
      "cell_type": "code",
      "execution_count": 34,
      "metadata": {
        "colab": {
          "base_uri": "https://localhost:8080/"
        },
        "id": "pu_AGejptsH9",
        "outputId": "ca954e5a-ae49-4043-b674-69a8f50dbd6e"
      },
      "outputs": [
        {
          "data": {
            "text/plain": [
              "Main language at work\n",
              "English               1002\n",
              "German                 181\n",
              "Russian                 12\n",
              "Italian                  3\n",
              "Spanish                  3\n",
              "English and German       2\n",
              "Polish                   2\n",
              "Русский                  2\n",
              "Czech                    2\n",
              "50/50                    1\n",
              "Deuglisch                1\n",
              "French                   1\n",
              "both                     1\n",
              "Russian, English         1\n",
              "Name: count, dtype: int64"
            ]
          },
          "execution_count": 34,
          "metadata": {},
          "output_type": "execute_result"
        }
      ],
      "source": [
        "df['Main language at work'].value_counts()\n"
      ]
    },
    {
      "cell_type": "markdown",
      "metadata": {
        "id": "XBW3g2mstsH9"
      },
      "source": [
        "Оставим только английский и немецкий, случаями их комбинации (например, English and German) пренебрежём в силу их малого количества."
      ]
    },
    {
      "cell_type": "code",
      "execution_count": 35,
      "metadata": {
        "id": "YOhqp4uStsH-"
      },
      "outputs": [],
      "source": [
        "lang_dict = {'English' : 1, 'German' : 0}\n",
        "\n",
        "df['is_main_lang_english'] = df['Main language at work'].apply(lambda x: lang_dict.get(x))\n",
        "df['is_main_lang_english'].value_counts()\n",
        "df = df.dropna(subset=['is_main_lang_english'])\n"
      ]
    },
    {
      "cell_type": "markdown",
      "metadata": {
        "id": "aXlqDmsj2tzC"
      },
      "source": [
        "#### Общий опыт работы"
      ]
    },
    {
      "cell_type": "code",
      "execution_count": 36,
      "metadata": {
        "colab": {
          "base_uri": "https://localhost:8080/"
        },
        "id": "NTqqeGyg2P-g",
        "outputId": "76141b4e-c8ec-4868-8b4f-ca6ff679959e"
      },
      "outputs": [
        {
          "data": {
            "text/plain": [
              "Total years of experience\n",
              "10                                                     132\n",
              "5                                                      126\n",
              "6                                                       97\n",
              "8                                                       86\n",
              "7                                                       83\n",
              "4                                                       75\n",
              "12                                                      65\n",
              "15                                                      60\n",
              "3                                                       60\n",
              "9                                                       59\n",
              "2                                                       50\n",
              "13                                                      41\n",
              "11                                                      41\n",
              "14                                                      38\n",
              "1                                                       29\n",
              "20                                                      27\n",
              "16                                                      19\n",
              "18                                                      15\n",
              "17                                                      12\n",
              "19                                                       7\n",
              "25                                                       6\n",
              "0                                                        6\n",
              "30                                                       4\n",
              "22                                                       4\n",
              "21                                                       3\n",
              "2.5                                                      3\n",
              "0.8                                                      2\n",
              "1.5                                                      2\n",
              "1,5                                                      2\n",
              "3.5                                                      2\n",
              "4.5                                                      2\n",
              "27                                                       2\n",
              "23                                                       2\n",
              "1 (as QA Engineer) / 11 in total                         1\n",
              "6 (not as a data scientist, but as a lab scientist)      1\n",
              "383                                                      1\n",
              "31                                                       1\n",
              "15, thereof 8 as CTO                                     1\n",
              "2,5                                                      1\n",
              "5.5                                                      1\n",
              "24                                                       1\n",
              "29                                                       1\n",
              "28                                                       1\n",
              "6.5                                                      1\n",
              "26                                                       1\n",
              "40                                                       1\n",
              "less than year                                           1\n",
              "Name: count, dtype: int64"
            ]
          },
          "execution_count": 36,
          "metadata": {},
          "output_type": "execute_result"
        }
      ],
      "source": [
        "df['Total years of experience'].value_counts()\n"
      ]
    },
    {
      "cell_type": "markdown",
      "metadata": {
        "id": "G25lkyrt2hmC"
      },
      "source": [
        "Заменим недопустимые встречающиеся значения переменной 'Total years of experience':"
      ]
    },
    {
      "cell_type": "code",
      "execution_count": 37,
      "metadata": {
        "colab": {
          "base_uri": "https://localhost:8080/"
        },
        "id": "pFQFQY3DtsH-",
        "outputId": "ff7c8507-181d-40e0-93b6-7526d5c59ef8"
      },
      "outputs": [],
      "source": [
        "df['Total years of experience'] = df['Total years of experience'].replace('less than year',0)\n",
        "df['Total years of experience'] = df['Total years of experience'].replace('1,5',1.5)\n",
        "df['Total years of experience'] = df['Total years of experience'].replace('2,5',2.5)\n",
        "df['Total years of experience'] = df['Total years of experience'].replace('1 (as QA Engineer) / 11 in total', None)\n",
        "df['Total years of experience'] = df['Total years of experience'].replace('15, thereof 8 as CTO', None)\n",
        "df['Total years of experience'] = df['Total years of experience'].replace('16 (not as a data scientist, but as a lab scientist)', None)\n",
        "df['Total years of experience'] = df['Total years of experience'].replace('6 (not as a data scientist, but as a lab scientist)', None)\n",
        "df = df.dropna(subset=['Total years of experience'])\n",
        "df['Total_years_of_experience'] = df['Total years of experience'].apply(lambda x: float(x))\n",
        "df = df.dropna(subset=['Total_years_of_experience'])\n"
      ]
    },
    {
      "cell_type": "markdown",
      "metadata": {
        "id": "KMXphpbI28yc"
      },
      "source": [
        "#### Опыт работы в Германии"
      ]
    },
    {
      "cell_type": "markdown",
      "metadata": {
        "id": "huz-4mZU3In8"
      },
      "source": [
        "Аналогично убираем недопустимые принимаемые значения:"
      ]
    },
    {
      "cell_type": "code",
      "execution_count": 38,
      "metadata": {
        "id": "s0NtnrNPtsH-"
      },
      "outputs": [],
      "source": [
        "df['Years of experience in Germany'] = df['Years of experience in Germany'].replace('4 (in Switzerland). 0 (in Germany)', 0)\n",
        "df['Years of experience in Germany'] = df['Years of experience in Germany'].replace('4 month', 0.3)\n",
        "df['Years of experience in Germany'] = df['Years of experience in Germany'].replace('3 months', 0.25)\n",
        "df['Years of experience in Germany'] = df['Years of experience in Germany'].replace('3 (in Poland)', 0)\n",
        "\n",
        "df['Years of experience in Germany'] = df['Years of experience in Germany'].apply(lambda x: str(x).replace(',', '.'))\n",
        "values = df['Years of experience in Germany'].values.tolist()\n",
        "for i in values:\n",
        "    try:\n",
        "        float(i)\n",
        "    except ValueError:\n",
        "        df['Years of experience in Germany'] = df['Years of experience in Germany'].replace(i, None)\n",
        "\n",
        "\n",
        "df = df.dropna(subset=['Years of experience in Germany'])\n",
        "df['Years_of_experience_in_Germany']= df['Years of experience in Germany'].apply(lambda x: float(x))\n",
        "\n",
        "df = df.dropna(subset=['Years_of_experience_in_Germany'])\n"
      ]
    },
    {
      "cell_type": "markdown",
      "metadata": {
        "id": "mHAhG4c_3PQS"
      },
      "source": [
        "#### Размер компании"
      ]
    },
    {
      "cell_type": "code",
      "execution_count": 39,
      "metadata": {
        "colab": {
          "base_uri": "https://localhost:8080/"
        },
        "id": "1owMO27btsH-",
        "outputId": "4dcfba44-5cbf-4855-ff20-9a9d08e7fdf1"
      },
      "outputs": [
        {
          "data": {
            "text/plain": [
              "Company_size\n",
              "1000+       411\n",
              "101-1000    382\n",
              "11-50       160\n",
              "51-100      137\n",
              "up to 10     57\n",
              "Name: count, dtype: int64"
            ]
          },
          "execution_count": 39,
          "metadata": {},
          "output_type": "execute_result"
        }
      ],
      "source": [
        "df = df.rename(columns={'Company size' : 'Company_size'})\n",
        "df['Company_size'].value_counts()"
      ]
    },
    {
      "cell_type": "markdown",
      "metadata": {
        "id": "wCKsqX6s3Xnv"
      },
      "source": [
        "Убираем пропуски:"
      ]
    },
    {
      "cell_type": "code",
      "execution_count": 40,
      "metadata": {
        "id": "Oo9wmSiQtsH-"
      },
      "outputs": [],
      "source": [
        "df = df.dropna(subset=['Company_size'])"
      ]
    },
    {
      "cell_type": "markdown",
      "metadata": {
        "id": "T1tkxJFQ3elt"
      },
      "source": [
        "Создаем дамми-переменные:"
      ]
    },
    {
      "cell_type": "code",
      "execution_count": 41,
      "metadata": {
        "id": "r843o8I_tsH_"
      },
      "outputs": [],
      "source": [
        "company_size_dummies = pd.get_dummies(df.Company_size, prefix='Company_size', prefix_sep='_', dtype=int)\n",
        "\n",
        "df = pd.concat([df, company_size_dummies], axis=1)"
      ]
    },
    {
      "cell_type": "markdown",
      "metadata": {
        "id": "qu_VhYRONpAB"
      },
      "source": [
        "### Пол"
      ]
    },
    {
      "cell_type": "code",
      "execution_count": 42,
      "metadata": {
        "colab": {
          "base_uri": "https://localhost:8080/"
        },
        "id": "RnXNRexENpAB",
        "outputId": "023ab0b9-0956-4293-b67c-011cc9e78ff3"
      },
      "outputs": [
        {
          "data": {
            "text/plain": [
              "Gender\n",
              "Male       963\n",
              "Female     179\n",
              "Diverse      2\n",
              "Name: count, dtype: int64"
            ]
          },
          "execution_count": 42,
          "metadata": {},
          "output_type": "execute_result"
        }
      ],
      "source": [
        "df['Gender'].value_counts()"
      ]
    },
    {
      "cell_type": "code",
      "execution_count": 43,
      "metadata": {
        "id": "f-tgveAHNpAC"
      },
      "outputs": [],
      "source": [
        "gender_dict = {'Male' : 1, 'Female' : 0}\n",
        "\n",
        "df['is_male'] = df['Gender'].apply(lambda x: gender_dict.get(x))\n",
        "df = df.dropna(subset=['is_male'])"
      ]
    },
    {
      "cell_type": "markdown",
      "metadata": {
        "id": "omhvNxgHNpAC"
      },
      "source": [
        "### Грейд\n"
      ]
    },
    {
      "cell_type": "code",
      "execution_count": 44,
      "metadata": {
        "colab": {
          "base_uri": "https://localhost:8080/"
        },
        "id": "H8G6hdCCNpAC",
        "outputId": "ca1b6a84-c1a0-4e66-a991-6ad5c3e0c9d0"
      },
      "outputs": [
        {
          "data": {
            "text/plain": [
              "Seniority level\n",
              "Senior                                       520\n",
              "Middle                                       331\n",
              "Lead                                         155\n",
              "Junior                                        71\n",
              "Head                                          40\n",
              "Principal                                      3\n",
              "C-level executive manager                      1\n",
              "Intern                                         1\n",
              "Entry level                                    1\n",
              "Working Student                                1\n",
              "no idea, there are no ranges in the firm       1\n",
              "Student                                        1\n",
              "intern                                         1\n",
              "Director                                       1\n",
              "Key                                            1\n",
              "No level                                       1\n",
              "CTO                                            1\n",
              "Work Center Manager                            1\n",
              "Manager                                        1\n",
              "VP                                             1\n",
              "No level                                       1\n",
              "Self employed                                  1\n",
              "Name: count, dtype: int64"
            ]
          },
          "execution_count": 44,
          "metadata": {},
          "output_type": "execute_result"
        }
      ],
      "source": [
        "col = 'Seniority level'\n",
        "df[col].value_counts()"
      ]
    },
    {
      "cell_type": "code",
      "execution_count": 45,
      "metadata": {
        "id": "k8DKQIRyNpAC"
      },
      "outputs": [],
      "source": [
        "grade_dict = {\n",
        "    # Intern\n",
        "    'intern' : 0,\n",
        "    'Entry level': 0,\n",
        "    'Working Student' : 0,\n",
        "    'Student': 0,\n",
        "\n",
        "    #Junior\n",
        "    'Junior' : 1,\n",
        "\n",
        "    # Middle\n",
        "    'Middle' : 2,\n",
        "\n",
        "    # Senior\n",
        "    'Senior' : 3,\n",
        "\n",
        "    # Managers\n",
        "    'Head' : 4,\n",
        "    'Lead': 4,\n",
        "    'Manager' : 4,\n",
        "    'Work Center Manager' : 4,\n",
        "\n",
        "    # Top managers\n",
        "    'Principal' : 5,\n",
        "    'C-level executive manager' : 5,\n",
        "    'Director' : 5,\n",
        "    'Key' : 5,\n",
        "    'CTO' : 5,\n",
        "    'VP' : 5\n",
        "}"
      ]
    },
    {
      "cell_type": "code",
      "execution_count": 46,
      "metadata": {
        "id": "wsPpKixbNpAC"
      },
      "outputs": [],
      "source": [
        "df['grade'] = df[col].apply(lambda x: grade_dict.get(x))\n",
        "df = df.dropna(subset=['grade'])"
      ]
    },
    {
      "cell_type": "code",
      "execution_count": 47,
      "metadata": {
        "id": "4DIhV0wHtsH_"
      },
      "outputs": [],
      "source": [
        "independent_vars = [\n",
        "    'Company_size_1000+',\n",
        "    'Company_size_101-1000',\n",
        "    'Company_size_11-50',\n",
        "    'Company_size_51-100',\n",
        "    'Age',\n",
        "    'Total_years_of_experience',\n",
        "    'Years_of_experience_in_Germany',\n",
        "    'is_main_lang_english',\n",
        "    'is_male',\n",
        "    'grade'\n",
        "]   #     'Company_size_up to 10' - референтная группа"
      ]
    },
    {
      "cell_type": "markdown",
      "metadata": {
        "id": "m2iDBw_FtsH_"
      },
      "source": [
        "## Зависимая переменная (brutto_salary)"
      ]
    },
    {
      "cell_type": "code",
      "execution_count": 48,
      "metadata": {
        "colab": {
          "base_uri": "https://localhost:8080/"
        },
        "id": "kXyuURLCtsH_",
        "outputId": "10b1bf04-8f0b-41a1-ff8f-fbb0b39b176c"
      },
      "outputs": [],
      "source": [
        "df['brutto_salary'] = df['Yearly brutto salary (without bonus and stocks) in EUR'].apply(lambda x : int(x))\n",
        "\n",
        "# Удалим особо исключительные значения\n",
        "df = df.drop(df[df.brutto_salary == 99999999999].index)\n",
        "df = df.drop(df[df.brutto_salary == 500000000].index)"
      ]
    },
    {
      "cell_type": "code",
      "execution_count": 49,
      "metadata": {
        "colab": {
          "base_uri": "https://localhost:8080/"
        },
        "id": "EPHOUBybtsH_",
        "outputId": "d9dd6c28-4e8f-42f2-e1b8-cbc11f3dc0f2"
      },
      "outputs": [
        {
          "data": {
            "text/plain": [
              "count      1130.000000\n",
              "mean      72326.361062\n",
              "std       32705.435988\n",
              "min       10001.000000\n",
              "25%       60000.000000\n",
              "50%       70000.000000\n",
              "75%       80000.000000\n",
              "max      850000.000000\n",
              "Name: brutto_salary, dtype: float64"
            ]
          },
          "execution_count": 49,
          "metadata": {},
          "output_type": "execute_result"
        }
      ],
      "source": [
        "df['brutto_salary'].describe()\n"
      ]
    },
    {
      "cell_type": "code",
      "execution_count": 50,
      "metadata": {
        "colab": {
          "base_uri": "https://localhost:8080/"
        },
        "id": "vGCo3eNqtsH_",
        "outputId": "b77fba7f-d300-40d2-b09a-3b290bf162f5"
      },
      "outputs": [
        {
          "data": {
            "text/plain": [
              "70000.0"
            ]
          },
          "execution_count": 50,
          "metadata": {},
          "output_type": "execute_result"
        }
      ],
      "source": [
        "df['brutto_salary'].median()"
      ]
    },
    {
      "cell_type": "code",
      "execution_count": 51,
      "metadata": {
        "colab": {
          "base_uri": "https://localhost:8080/",
          "height": 673
        },
        "id": "gvGRowLEtsIA",
        "outputId": "ab5573b4-f1fa-4e68-90d8-1b5b0f9a62d2"
      },
      "outputs": [
        {
          "name": "stderr",
          "output_type": "stream",
          "text": [
            "/tmp/ipykernel_5515/3698175039.py:1: UserWarning: \n",
            "\n",
            "`distplot` is a deprecated function and will be removed in seaborn v0.14.0.\n",
            "\n",
            "Please adapt your code to use either `displot` (a figure-level function with\n",
            "similar flexibility) or `histplot` (an axes-level function for histograms).\n",
            "\n",
            "For a guide to updating your code to use the new functions, please see\n",
            "https://gist.github.com/mwaskom/de44147ed2974457ad6372750bbe5751\n",
            "\n",
            "  sns.distplot(df.brutto_salary, fit=stats.norm)\n"
          ]
        },
        {
          "data": {
            "text/plain": [
              "<Axes: xlabel='brutto_salary', ylabel='Density'>"
            ]
          },
          "execution_count": 51,
          "metadata": {},
          "output_type": "execute_result"
        },
        {
          "data": {
            "image/png": "[encoded data removed]",
            "text/plain": [
              "<Figure size 640x480 with 1 Axes>"
            ]
          },
          "metadata": {},
          "output_type": "display_data"
        }
      ],
      "source": [
        "sns.distplot(df.brutto_salary, fit=stats.norm)\n"
      ]
    },
    {
      "cell_type": "code",
      "execution_count": 52,
      "metadata": {
        "colab": {
          "base_uri": "https://localhost:8080/"
        },
        "id": "Fi8bkadptsIA",
        "outputId": "2be6ee34-3d50-4205-b8d1-798e064de974"
      },
      "outputs": [
        {
          "name": "stdout",
          "output_type": "stream",
          "text": [
            "Skewness: 12.8098\n",
            "Kurtosis: 286.6223\n",
            "Quartile Deviation: 10000.0000\n",
            "Decile Ratio: 1.9000\n"
          ]
        }
      ],
      "source": [
        "print('Skewness: {:.4f}'.format(df['brutto_salary'].skew()))\n",
        "print('Kurtosis: {:.4f}'.format(df['brutto_salary'].kurt()))\n",
        "print('Quartile Deviation: {:.4f}'.format((df['brutto_salary'].quantile(0.75) - df['brutto_salary'].quantile(0.25))/2))\n",
        "print('Decile Ratio: {:.4f}'.format(df['brutto_salary'].quantile(0.9)/df['brutto_salary'].quantile(0.1)))"
      ]
    },
    {
      "cell_type": "code",
      "execution_count": 53,
      "metadata": {
        "colab": {
          "base_uri": "https://localhost:8080/"
        },
        "id": "MhLGwr7rtsIA",
        "outputId": "73071202-f91d-4e1b-90a7-9c684ea1f396"
      },
      "outputs": [
        {
          "data": {
            "text/plain": [
              "KstestResult(statistic=0.18458807593399418, pvalue=3.574308557505665e-34, statistic_location=85000, statistic_sign=1)"
            ]
          },
          "execution_count": 53,
          "metadata": {},
          "output_type": "execute_result"
        }
      ],
      "source": [
        "stats.kstest(df.brutto_salary, 'norm', args=(df.brutto_salary.mean(), df.brutto_salary.std()))"
      ]
    },
    {
      "cell_type": "markdown",
      "metadata": {
        "id": "MbXPgvGrtsIA"
      },
      "source": [
        "Зависимая переменная \"brutto_salary\" имеет распределение отличное от нормального (pvalue < 0.05). Также оно асимметрично (сдвиг в сторону меньших значений) и характеризуется пиковостью. Среднее значение - 72.5 тысяч евро, стандартное отклонение довольно высокое - 33 тысячи евро. Медиана  - 70 тысяч евро. Межквартильная широта - 10 тысяч евро, что также характеризует довольно большой разброс серединных 50% значений относительно медианы. Децильное отношение - 1.9."
      ]
    },
    {
      "cell_type": "markdown",
      "metadata": {
        "id": "qQZxPKUgEQx4"
      },
      "source": [
        "## Гипотезы"
      ]
    },
    {
      "cell_type": "markdown",
      "metadata": {
        "id": "eZ8eEOV8tsIA"
      },
      "source": [
        "О зависимой переменной:\n",
        "- H0 (нулевая гипотеза): Средний доход IT-специалиста не зависит от возраста, общего опыта работы, опыта работы в Германии, размера компании, основного языка в работе, пола и грейда.\n",
        "- H1 (альтернативная гипотеза): Существует статистически значимая зависимость между выбранными факторами и доходом IT-специалиста.\n",
        "\n",
        "О независимых переменных:\n",
        "- H0 (нулевая гипотеза): Каждая из независимых переменных не оказывает статистически значимого влияния на доход IT-специалиста.\n",
        "- H1 (альтернативная гипотеза): Некоторые из независимых переменных оказывают статистически значимое влияние на доход IT-специалиста.\n",
        "\n",
        "\n",
        "\n",
        "\n",
        "\n",
        "\n"
      ]
    },
    {
      "cell_type": "markdown",
      "metadata": {
        "id": "ppc2XGEYtsIA"
      },
      "source": [
        "## Формирование модели"
      ]
    },
    {
      "cell_type": "code",
      "execution_count": 54,
      "metadata": {
        "colab": {
          "base_uri": "https://localhost:8080/"
        },
        "id": "uuS6U7-HtsIB",
        "outputId": "4f1e88b7-f427-4442-ca06-dfe8a5ffc4fb"
      },
      "outputs": [
        {
          "data": {
            "text/plain": [
              "(1130, 33)"
            ]
          },
          "execution_count": 54,
          "metadata": {},
          "output_type": "execute_result"
        }
      ],
      "source": [
        "import statsmodels.api as sm\n",
        "\n",
        "df.shape"
      ]
    },
    {
      "cell_type": "code",
      "execution_count": 55,
      "metadata": {
        "id": "7DX5gAumtsIB"
      },
      "outputs": [],
      "source": [
        "y = df['brutto_salary']\n",
        "x_mult = df[independent_vars]\n",
        "x_mult_constant = sm.add_constant(x_mult)"
      ]
    },
    {
      "cell_type": "code",
      "execution_count": 56,
      "metadata": {
        "colab": {
          "base_uri": "https://localhost:8080/"
        },
        "id": "sUD94ao_tsIB",
        "outputId": "c05b5959-b4e0-4738-bf2d-8c94d5197be5"
      },
      "outputs": [
        {
          "name": "stdout",
          "output_type": "stream",
          "text": [
            "                            OLS Regression Results                            \n",
            "==============================================================================\n",
            "Dep. Variable:          brutto_salary   R-squared:                       0.175\n",
            "Model:                            OLS   Adj. R-squared:                  0.167\n",
            "Method:                 Least Squares   F-statistic:                     23.70\n",
            "Date:                Thu, 16 Nov 2023   Prob (F-statistic):           8.49e-41\n",
            "Time:                        13:07:27   Log-Likelihood:                -13241.\n",
            "No. Observations:                1130   AIC:                         2.650e+04\n",
            "Df Residuals:                    1119   BIC:                         2.656e+04\n",
            "Df Model:                          10                                         \n",
            "Covariance Type:            nonrobust                                         \n",
            "==================================================================================================\n",
            "                                     coef    std err          t      P>|t|      [0.025      0.975]\n",
            "--------------------------------------------------------------------------------------------------\n",
            "const                           1.552e+04   7789.927      1.992      0.047     236.109    3.08e+04\n",
            "Company_size_1000+              6880.8749   4398.256      1.564      0.118   -1748.882    1.55e+04\n",
            "Company_size_101-1000           3465.5301   4421.438      0.784      0.433   -5209.713    1.21e+04\n",
            "Company_size_11-50             -2611.6734   4784.526     -0.546      0.585    -1.2e+04    6775.979\n",
            "Company_size_51-100            -3067.6033   4874.623     -0.629      0.529   -1.26e+04    6496.827\n",
            "Age                              174.6811    213.170      0.819      0.413    -243.577     592.939\n",
            "Total_years_of_experience         19.3477     83.498      0.232      0.817    -144.483     183.178\n",
            "Years_of_experience_in_Germany   734.8479    323.052      2.275      0.023     100.992    1368.704\n",
            "is_main_lang_english            6766.1570   2721.482      2.486      0.013    1426.376    1.21e+04\n",
            "is_male                         7699.5344   2548.102      3.022      0.003    2699.939    1.27e+04\n",
            "grade                           1.198e+04   1203.215      9.960      0.000    9623.058    1.43e+04\n",
            "==============================================================================\n",
            "Omnibus:                     2347.440   Durbin-Watson:                   2.022\n",
            "Prob(Omnibus):                  0.000   Jarque-Bera (JB):          7672480.550\n",
            "Skew:                          16.452   Prob(JB):                         0.00\n",
            "Kurtosis:                     405.334   Cond. No.                         392.\n",
            "==============================================================================\n",
            "\n",
            "Notes:\n",
            "[1] Standard Errors assume that the covariance matrix of the errors is correctly specified.\n"
          ]
        }
      ],
      "source": [
        "df.head(25)\n",
        "\n",
        "model2 = sm.OLS(y, x_mult_constant).fit()\n",
        "print(model2.summary())"
      ]
    },
    {
      "cell_type": "markdown",
      "metadata": {
        "id": "CafaCu5mtsID"
      },
      "source": [
        "## Характеристики регрессионной модели и значимость коэффициентов"
      ]
    },
    {
      "cell_type": "code",
      "execution_count": 57,
      "metadata": {
        "colab": {
          "base_uri": "https://localhost:8080/"
        },
        "id": "KLRW_YyPtsIB",
        "outputId": "04d06385-eb9a-4268-ff0f-dc99c3822c42"
      },
      "outputs": [
        {
          "name": "stdout",
          "output_type": "stream",
          "text": [
            "R^2 = 0.174763\n",
            "F-test significance = 0.000000\n"
          ]
        }
      ],
      "source": [
        "print('R^2 = {:f}'.format(model2.rsquared))\n",
        "print('F-test significance = {:f}'.format(model2.f_pvalue))"
      ]
    },
    {
      "cell_type": "markdown",
      "metadata": {
        "id": "QW2xE-HStsIB"
      },
      "source": [
        "Модель статистически незначима. Объясняет только 17,5% вариации значений зависимой переменной."
      ]
    },
    {
      "cell_type": "code",
      "execution_count": 58,
      "metadata": {
        "colab": {
          "base_uri": "https://localhost:8080/",
          "height": 35
        },
        "id": "fpgnEHOYtsIC",
        "outputId": "e64b4c8d-c234-409e-edca-fc25f12cb977"
      },
      "outputs": [
        {
          "data": {
            "text/plain": [
              "\"Статистически значимые параметры модели: ['const' 'Years_of_experience_in_Germany' 'is_main_lang_english' 'is_male'\\n 'grade']\""
            ]
          },
          "execution_count": 58,
          "metadata": {},
          "output_type": "execute_result"
        }
      ],
      "source": [
        "f'Статистически значимые параметры модели: {model2.pvalues[model2.pvalues < 0.05].index.values}'"
      ]
    },
    {
      "cell_type": "code",
      "execution_count": 59,
      "metadata": {
        "colab": {
          "base_uri": "https://localhost:8080/",
          "height": 35
        },
        "id": "7saF7YsDtsIC",
        "outputId": "87659dfe-7139-4e5f-e6ae-3d6adc5948cc"
      },
      "outputs": [
        {
          "data": {
            "text/plain": [
              "\"Статистически не значимые параметры модели: ['Company_size_1000+' 'Company_size_101-1000' 'Company_size_11-50'\\n 'Company_size_51-100' 'Age' 'Total_years_of_experience']\""
            ]
          },
          "execution_count": 59,
          "metadata": {},
          "output_type": "execute_result"
        }
      ],
      "source": [
        "f'Статистически не значимые параметры модели: {model2.pvalues[model2.pvalues > 0.05].index.values}'"
      ]
    },
    {
      "cell_type": "markdown",
      "metadata": {
        "id": "HwJYt6YPO02G"
      },
      "source": [
        "Уравнение модели:"
      ]
    },
    {
      "cell_type": "code",
      "execution_count": 60,
      "metadata": {
        "colab": {
          "base_uri": "https://localhost:8080/"
        },
        "id": "f16irBA3tsID",
        "outputId": "42d7a6b7-929d-4ae3-dddd-77edb3925484"
      },
      "outputs": [
        {
          "name": "stdout",
          "output_type": "stream",
          "text": [
            "Y = 15520.618061 +\n",
            "6880.87 * Company_size_1000+ + \n",
            "3465.53 * Company_size_101-1000 + \n",
            "-2611.67 * Company_size_11-50 + \n",
            "-3067.60 * Company_size_51-100 + \n",
            "174.68 * Age + \n",
            "19.35 * Total_years_of_experience + \n",
            "734.85 * Years_of_experience_in_Germany + \n",
            "6766.16 * is_main_lang_english + \n",
            "7699.53 * is_male + \n",
            "11983.87 * grade\n"
          ]
        },
        {
          "name": "stderr",
          "output_type": "stream",
          "text": [
            "/tmp/ipykernel_5515/1667814345.py:5: FutureWarning: Series.__getitem__ treating keys as positions is deprecated. In a future version, integer keys will always be treated as labels (consistent with DataFrame behavior). To access a value by position, use `ser.iloc[pos]`\n",
            "  print('Y = {:2f} +\\n{}'.format(model2.params[0], ' + \\n'.join(l)))\n"
          ]
        }
      ],
      "source": [
        "l = []\n",
        "for (param, index) in zip(model2.params[1:], model2.params.index[1:]):\n",
        "    l.append('{:.2f} * {}'.format(param, index))\n",
        "\n",
        "print('Y = {:2f} +\\n{}'.format(model2.params[0], ' + \\n'.join(l)))"
      ]
    },
    {
      "cell_type": "markdown",
      "metadata": {
        "id": "czjHYtk7tsID"
      },
      "source": [
        "- Количество сотрудников компании не влияет на зарплату (статистически не значим)о.\n",
        "- Возраст не оказывает влияние на зарплату (статистически не значим).\n",
        "- Опыт работы тоже статистически не значим.\n",
        "- **С каждым годом стажа в Германии** зарплата увеличивается на **734.8479**.\n",
        "- **Владение английским языком**, как основным, увеличивает зарплату на **6766.1570**.\n",
        "- **Мужчины** получают в среднем зарплаты на **7699.5344** больше.\n",
        "- **С повышением уровня квалификации** зарплата увеличивается на **11980**.\n",
        "\n"
      ]
    },
    {
      "cell_type": "markdown",
      "metadata": {
        "id": "FEskoUw6tsIE"
      },
      "source": [
        "## Диагностика модели"
      ]
    },
    {
      "cell_type": "code",
      "execution_count": 61,
      "metadata": {
        "colab": {
          "base_uri": "https://localhost:8080/"
        },
        "id": "KbeDGTrFtsIE",
        "outputId": "979736a3-4ab2-4115-f619-ba11d4b8bd3f"
      },
      "outputs": [
        {
          "name": "stdout",
          "output_type": "stream",
          "text": [
            "P-value: 0.000\n"
          ]
        }
      ],
      "source": [
        "p = stats.kstest(model2.resid, 'norm', args=(model2.resid.mean(), model2.resid.std())).pvalue\n",
        "print('P-value: {:.3f}'.format(p))"
      ]
    },
    {
      "cell_type": "code",
      "execution_count": 62,
      "metadata": {
        "colab": {
          "base_uri": "https://localhost:8080/",
          "height": 653
        },
        "id": "QRjOPvhgtsIE",
        "outputId": "762007f9-e0cb-47e8-af79-bf9e0f6a0104"
      },
      "outputs": [
        {
          "name": "stderr",
          "output_type": "stream",
          "text": [
            "/tmp/ipykernel_5515/1191203255.py:1: UserWarning: \n",
            "\n",
            "`distplot` is a deprecated function and will be removed in seaborn v0.14.0.\n",
            "\n",
            "Please adapt your code to use either `displot` (a figure-level function with\n",
            "similar flexibility) or `histplot` (an axes-level function for histograms).\n",
            "\n",
            "For a guide to updating your code to use the new functions, please see\n",
            "https://gist.github.com/mwaskom/de44147ed2974457ad6372750bbe5751\n",
            "\n",
            "  sns.distplot(model2.resid, fit=stats.norm)\n"
          ]
        },
        {
          "data": {
            "text/plain": [
              "<Axes: ylabel='Density'>"
            ]
          },
          "execution_count": 62,
          "metadata": {},
          "output_type": "execute_result"
        },
        {
          "data": {
            "image/png": "[encoded data removed]",
            "text/plain": [
              "<Figure size 640x480 with 1 Axes>"
            ]
          },
          "metadata": {},
          "output_type": "display_data"
        }
      ],
      "source": [
        "sns.distplot(model2.resid, fit=stats.norm)"
      ]
    },
    {
      "cell_type": "markdown",
      "metadata": {
        "id": "7YK7j6ystsIE"
      },
      "source": [
        "Распределение остатков отличается от нормального."
      ]
    },
    {
      "cell_type": "markdown",
      "metadata": {
        "id": "XR51uE3-tsIE"
      },
      "source": [
        "### Гетероскедастичность"
      ]
    },
    {
      "cell_type": "code",
      "execution_count": 63,
      "metadata": {
        "colab": {
          "base_uri": "https://localhost:8080/",
          "height": 471
        },
        "id": "JKrmtbzntsIF",
        "outputId": "e4caad8e-d80d-42b4-8bb1-377209883f9e"
      },
      "outputs": [
        {
          "data": {
            "image/png": "[encoded data removed]",
            "text/plain": [
              "<Figure size 800x500 with 1 Axes>"
            ]
          },
          "metadata": {},
          "output_type": "display_data"
        }
      ],
      "source": [
        "plt.figure(figsize=(8,5))\n",
        "plt.scatter(x=model2.fittedvalues, y=model2.resid, color='blue', edgecolor='k')\n",
        "plt.grid(True)\n",
        "plt.xlabel('Fitted value', fontsize=14)\n",
        "plt.ylabel('Residual', fontsize=14)\n",
        "plt.show()"
      ]
    },
    {
      "cell_type": "markdown",
      "metadata": {
        "id": "YvCmM0n5tsIF"
      },
      "source": [
        "Наблюдается взаимосвязь между остатками и спредсказанными значениями зависимой переменной. Следовательно существует проблема гетероскедастичности."
      ]
    },
    {
      "cell_type": "markdown",
      "metadata": {
        "id": "sHnEKKQYtsIF"
      },
      "source": [
        "### Мультиколлинеарность"
      ]
    },
    {
      "cell_type": "code",
      "execution_count": 64,
      "metadata": {
        "id": "D6a4Ouy0tsIF"
      },
      "outputs": [],
      "source": [
        "vifs = np.array([vif(model2.model.exog, i) for i in range(model2.model.exog.shape[1])])"
      ]
    },
    {
      "cell_type": "code",
      "execution_count": 65,
      "metadata": {
        "colab": {
          "base_uri": "https://localhost:8080/",
          "height": 363
        },
        "id": "STDMTruVtsIF",
        "outputId": "e48814cb-3462-47d4-8b67-a75a77ce1283"
      },
      "outputs": [
        {
          "data": {
            "text/html": [
              "<div>\n",
              "<style scoped>\n",
              "    .dataframe tbody tr th:only-of-type {\n",
              "        vertical-align: middle;\n",
              "    }\n",
              "\n",
              "    .dataframe tbody tr th {\n",
              "        vertical-align: top;\n",
              "    }\n",
              "\n",
              "    .dataframe thead th {\n",
              "        text-align: right;\n",
              "    }\n",
              "</style>\n",
              "<table border=\"1\" class=\"dataframe\">\n",
              "  <thead>\n",
              "    <tr style=\"text-align: right;\">\n",
              "      <th></th>\n",
              "      <th>VIF</th>\n",
              "      <th>Features</th>\n",
              "    </tr>\n",
              "  </thead>\n",
              "  <tbody>\n",
              "    <tr>\n",
              "      <th>8</th>\n",
              "      <td>1.078237</td>\n",
              "      <td>is_male</td>\n",
              "    </tr>\n",
              "    <tr>\n",
              "      <th>7</th>\n",
              "      <td>1.206882</td>\n",
              "      <td>is_main_lang_english</td>\n",
              "    </tr>\n",
              "    <tr>\n",
              "      <th>9</th>\n",
              "      <td>1.323222</td>\n",
              "      <td>grade</td>\n",
              "    </tr>\n",
              "    <tr>\n",
              "      <th>5</th>\n",
              "      <td>1.334450</td>\n",
              "      <td>Total_years_of_experience</td>\n",
              "    </tr>\n",
              "    <tr>\n",
              "      <th>6</th>\n",
              "      <td>1.604067</td>\n",
              "      <td>Years_of_experience_in_Germany</td>\n",
              "    </tr>\n",
              "    <tr>\n",
              "      <th>4</th>\n",
              "      <td>1.783194</td>\n",
              "      <td>Age</td>\n",
              "    </tr>\n",
              "    <tr>\n",
              "      <th>3</th>\n",
              "      <td>3.151270</td>\n",
              "      <td>Company_size_51-100</td>\n",
              "    </tr>\n",
              "    <tr>\n",
              "      <th>2</th>\n",
              "      <td>3.474799</td>\n",
              "      <td>Company_size_11-50</td>\n",
              "    </tr>\n",
              "    <tr>\n",
              "      <th>1</th>\n",
              "      <td>5.536195</td>\n",
              "      <td>Company_size_101-1000</td>\n",
              "    </tr>\n",
              "    <tr>\n",
              "      <th>0</th>\n",
              "      <td>5.650214</td>\n",
              "      <td>Company_size_1000+</td>\n",
              "    </tr>\n",
              "  </tbody>\n",
              "</table>\n",
              "</div>"
            ],
            "text/plain": [
              "        VIF                        Features\n",
              "8  1.078237                         is_male\n",
              "7  1.206882            is_main_lang_english\n",
              "9  1.323222                           grade\n",
              "5  1.334450       Total_years_of_experience\n",
              "6  1.604067  Years_of_experience_in_Germany\n",
              "4  1.783194                             Age\n",
              "3  3.151270             Company_size_51-100\n",
              "2  3.474799              Company_size_11-50\n",
              "1  5.536195           Company_size_101-1000\n",
              "0  5.650214              Company_size_1000+"
            ]
          },
          "execution_count": 65,
          "metadata": {},
          "output_type": "execute_result"
        }
      ],
      "source": [
        "vif_df = pd.DataFrame()\n",
        "vif_df['VIF'] = vifs[1:]\n",
        "vif_df['Features'] = model2.params.index[1:]\n",
        "vif_df.sort_values(by=['VIF'])"
      ]
    },
    {
      "cell_type": "markdown",
      "metadata": {
        "id": "9eKEV4MftsIG"
      },
      "source": [
        "Нет значений VIF, превышающих 10. Проблема мультиколлинеарности отсутствует."
      ]
    },
    {
      "cell_type": "markdown",
      "metadata": {
        "id": "p5mVdr_stsIG"
      },
      "source": [
        "### Выбросы и влияющие наблюдения"
      ]
    },
    {
      "cell_type": "code",
      "execution_count": 66,
      "metadata": {
        "colab": {
          "base_uri": "https://localhost:8080/",
          "height": 666
        },
        "id": "ZXqYGVVJtsIG",
        "outputId": "3dbe72e0-0686-4daf-a598-ea34480714a5"
      },
      "outputs": [
        {
          "data": {
            "text/html": [
              "<div>\n",
              "<style scoped>\n",
              "    .dataframe tbody tr th:only-of-type {\n",
              "        vertical-align: middle;\n",
              "    }\n",
              "\n",
              "    .dataframe tbody tr th {\n",
              "        vertical-align: top;\n",
              "    }\n",
              "\n",
              "    .dataframe thead th {\n",
              "        text-align: right;\n",
              "    }\n",
              "</style>\n",
              "<table border=\"1\" class=\"dataframe\">\n",
              "  <thead>\n",
              "    <tr style=\"text-align: right;\">\n",
              "      <th></th>\n",
              "      <th>dfb_const</th>\n",
              "      <th>dfb_Company_size_1000+</th>\n",
              "      <th>dfb_Company_size_101-1000</th>\n",
              "      <th>dfb_Company_size_11-50</th>\n",
              "      <th>dfb_Company_size_51-100</th>\n",
              "      <th>dfb_Age</th>\n",
              "      <th>dfb_Total_years_of_experience</th>\n",
              "      <th>dfb_Years_of_experience_in_Germany</th>\n",
              "      <th>dfb_is_main_lang_english</th>\n",
              "      <th>dfb_is_male</th>\n",
              "      <th>dfb_grade</th>\n",
              "      <th>cooks_d</th>\n",
              "      <th>standard_resid</th>\n",
              "      <th>hat_diag</th>\n",
              "      <th>dffits_internal</th>\n",
              "      <th>student_resid</th>\n",
              "      <th>dffits</th>\n",
              "    </tr>\n",
              "    <tr>\n",
              "      <th>Timestamp</th>\n",
              "      <th></th>\n",
              "      <th></th>\n",
              "      <th></th>\n",
              "      <th></th>\n",
              "      <th></th>\n",
              "      <th></th>\n",
              "      <th></th>\n",
              "      <th></th>\n",
              "      <th></th>\n",
              "      <th></th>\n",
              "      <th></th>\n",
              "      <th></th>\n",
              "      <th></th>\n",
              "      <th></th>\n",
              "      <th></th>\n",
              "      <th></th>\n",
              "      <th></th>\n",
              "    </tr>\n",
              "  </thead>\n",
              "  <tbody>\n",
              "    <tr>\n",
              "      <th>01/01/2021 10:51:57</th>\n",
              "      <td>-0.001838</td>\n",
              "      <td>0.001100</td>\n",
              "      <td>-0.003570</td>\n",
              "      <td>0.000989</td>\n",
              "      <td>0.000622</td>\n",
              "      <td>0.007643</td>\n",
              "      <td>-0.001457</td>\n",
              "      <td>-0.001141</td>\n",
              "      <td>-0.000089</td>\n",
              "      <td>-0.000465</td>\n",
              "      <td>-0.011865</td>\n",
              "      <td>3.382214e-05</td>\n",
              "      <td>-0.260759</td>\n",
              "      <td>0.005442</td>\n",
              "      <td>-0.019288</td>\n",
              "      <td>-0.260651</td>\n",
              "      <td>-0.019280</td>\n",
              "    </tr>\n",
              "    <tr>\n",
              "      <th>01/01/2021 13:40:08</th>\n",
              "      <td>0.000816</td>\n",
              "      <td>-0.000465</td>\n",
              "      <td>0.000153</td>\n",
              "      <td>0.000186</td>\n",
              "      <td>0.000141</td>\n",
              "      <td>-0.000551</td>\n",
              "      <td>-0.000004</td>\n",
              "      <td>0.001802</td>\n",
              "      <td>0.000316</td>\n",
              "      <td>-0.000220</td>\n",
              "      <td>-0.001662</td>\n",
              "      <td>7.704417e-07</td>\n",
              "      <td>-0.034058</td>\n",
              "      <td>0.007253</td>\n",
              "      <td>-0.002911</td>\n",
              "      <td>-0.034042</td>\n",
              "      <td>-0.002910</td>\n",
              "    </tr>\n",
              "    <tr>\n",
              "      <th>01/12/2020 00:06:49</th>\n",
              "      <td>0.013531</td>\n",
              "      <td>0.007077</td>\n",
              "      <td>0.001085</td>\n",
              "      <td>0.001151</td>\n",
              "      <td>0.001261</td>\n",
              "      <td>-0.004001</td>\n",
              "      <td>-0.004374</td>\n",
              "      <td>-0.004204</td>\n",
              "      <td>-0.028924</td>\n",
              "      <td>-0.027463</td>\n",
              "      <td>0.016071</td>\n",
              "      <td>2.015837e-04</td>\n",
              "      <td>0.414344</td>\n",
              "      <td>0.012751</td>\n",
              "      <td>0.047089</td>\n",
              "      <td>0.414190</td>\n",
              "      <td>0.047072</td>\n",
              "    </tr>\n",
              "    <tr>\n",
              "      <th>01/12/2020 00:16:18</th>\n",
              "      <td>0.003543</td>\n",
              "      <td>-0.000019</td>\n",
              "      <td>-0.006220</td>\n",
              "      <td>0.000524</td>\n",
              "      <td>0.000356</td>\n",
              "      <td>-0.002851</td>\n",
              "      <td>0.001469</td>\n",
              "      <td>0.009535</td>\n",
              "      <td>0.000303</td>\n",
              "      <td>-0.004404</td>\n",
              "      <td>-0.003740</td>\n",
              "      <td>4.370026e-05</td>\n",
              "      <td>-0.365328</td>\n",
              "      <td>0.003589</td>\n",
              "      <td>-0.021925</td>\n",
              "      <td>-0.365187</td>\n",
              "      <td>-0.021916</td>\n",
              "    </tr>\n",
              "    <tr>\n",
              "      <th>01/12/2020 00:20:42</th>\n",
              "      <td>-0.000352</td>\n",
              "      <td>0.000272</td>\n",
              "      <td>0.000199</td>\n",
              "      <td>0.000090</td>\n",
              "      <td>0.004223</td>\n",
              "      <td>0.000993</td>\n",
              "      <td>-0.000381</td>\n",
              "      <td>-0.002125</td>\n",
              "      <td>0.000504</td>\n",
              "      <td>0.001616</td>\n",
              "      <td>-0.002055</td>\n",
              "      <td>6.812465e-06</td>\n",
              "      <td>0.089739</td>\n",
              "      <td>0.009220</td>\n",
              "      <td>0.008657</td>\n",
              "      <td>0.089699</td>\n",
              "      <td>0.008653</td>\n",
              "    </tr>\n",
              "    <tr>\n",
              "      <th>...</th>\n",
              "      <td>...</td>\n",
              "      <td>...</td>\n",
              "      <td>...</td>\n",
              "      <td>...</td>\n",
              "      <td>...</td>\n",
              "      <td>...</td>\n",
              "      <td>...</td>\n",
              "      <td>...</td>\n",
              "      <td>...</td>\n",
              "      <td>...</td>\n",
              "      <td>...</td>\n",
              "      <td>...</td>\n",
              "      <td>...</td>\n",
              "      <td>...</td>\n",
              "      <td>...</td>\n",
              "      <td>...</td>\n",
              "      <td>...</td>\n",
              "    </tr>\n",
              "    <tr>\n",
              "      <th>30/11/2020 23:38:05</th>\n",
              "      <td>0.000393</td>\n",
              "      <td>0.006604</td>\n",
              "      <td>0.000758</td>\n",
              "      <td>0.000254</td>\n",
              "      <td>0.000471</td>\n",
              "      <td>0.000764</td>\n",
              "      <td>0.002763</td>\n",
              "      <td>-0.004705</td>\n",
              "      <td>0.003339</td>\n",
              "      <td>0.007184</td>\n",
              "      <td>-0.009387</td>\n",
              "      <td>4.349823e-05</td>\n",
              "      <td>0.336322</td>\n",
              "      <td>0.004212</td>\n",
              "      <td>0.021874</td>\n",
              "      <td>0.336189</td>\n",
              "      <td>0.021866</td>\n",
              "    </tr>\n",
              "    <tr>\n",
              "      <th>30/12/2020 02:23:59</th>\n",
              "      <td>-0.012918</td>\n",
              "      <td>0.007431</td>\n",
              "      <td>-0.007539</td>\n",
              "      <td>0.005401</td>\n",
              "      <td>0.004112</td>\n",
              "      <td>0.014971</td>\n",
              "      <td>0.008601</td>\n",
              "      <td>0.002575</td>\n",
              "      <td>-0.002348</td>\n",
              "      <td>0.065638</td>\n",
              "      <td>-0.053139</td>\n",
              "      <td>7.211422e-04</td>\n",
              "      <td>-0.795439</td>\n",
              "      <td>0.012382</td>\n",
              "      <td>-0.089065</td>\n",
              "      <td>-0.795309</td>\n",
              "      <td>-0.089050</td>\n",
              "    </tr>\n",
              "    <tr>\n",
              "      <th>30/12/2020 13:18:32</th>\n",
              "      <td>-0.000117</td>\n",
              "      <td>0.000023</td>\n",
              "      <td>0.000037</td>\n",
              "      <td>0.000066</td>\n",
              "      <td>-0.001521</td>\n",
              "      <td>0.000368</td>\n",
              "      <td>-0.000113</td>\n",
              "      <td>0.000594</td>\n",
              "      <td>-0.000012</td>\n",
              "      <td>-0.000303</td>\n",
              "      <td>-0.000522</td>\n",
              "      <td>8.799802e-07</td>\n",
              "      <td>-0.033664</td>\n",
              "      <td>0.008469</td>\n",
              "      <td>-0.003111</td>\n",
              "      <td>-0.033649</td>\n",
              "      <td>-0.003110</td>\n",
              "    </tr>\n",
              "    <tr>\n",
              "      <th>30/12/2020 16:32:25</th>\n",
              "      <td>-0.001458</td>\n",
              "      <td>0.000124</td>\n",
              "      <td>-0.001853</td>\n",
              "      <td>0.000014</td>\n",
              "      <td>-0.000020</td>\n",
              "      <td>0.003099</td>\n",
              "      <td>-0.000016</td>\n",
              "      <td>-0.002784</td>\n",
              "      <td>-0.001258</td>\n",
              "      <td>-0.001027</td>\n",
              "      <td>-0.000611</td>\n",
              "      <td>4.366296e-06</td>\n",
              "      <td>-0.108794</td>\n",
              "      <td>0.004041</td>\n",
              "      <td>-0.006930</td>\n",
              "      <td>-0.108746</td>\n",
              "      <td>-0.006927</td>\n",
              "    </tr>\n",
              "    <tr>\n",
              "      <th>31/12/2020 17:56:25</th>\n",
              "      <td>-0.000489</td>\n",
              "      <td>0.000443</td>\n",
              "      <td>-0.000167</td>\n",
              "      <td>-0.000156</td>\n",
              "      <td>-0.000131</td>\n",
              "      <td>-0.000075</td>\n",
              "      <td>0.000136</td>\n",
              "      <td>-0.000333</td>\n",
              "      <td>0.000156</td>\n",
              "      <td>0.000139</td>\n",
              "      <td>0.001392</td>\n",
              "      <td>5.160263e-07</td>\n",
              "      <td>0.035195</td>\n",
              "      <td>0.004562</td>\n",
              "      <td>0.002382</td>\n",
              "      <td>0.035179</td>\n",
              "      <td>0.002381</td>\n",
              "    </tr>\n",
              "  </tbody>\n",
              "</table>\n",
              "<p>1136 rows × 17 columns</p>\n",
              "</div>"
            ],
            "text/plain": [
              "                     dfb_const  dfb_Company_size_1000+  \\\n",
              "Timestamp                                                \n",
              "01/01/2021 10:51:57  -0.001838                0.001100   \n",
              "01/01/2021 13:40:08   0.000816               -0.000465   \n",
              "01/12/2020 00:06:49   0.013531                0.007077   \n",
              "01/12/2020 00:16:18   0.003543               -0.000019   \n",
              "01/12/2020 00:20:42  -0.000352                0.000272   \n",
              "...                        ...                     ...   \n",
              "30/11/2020 23:38:05   0.000393                0.006604   \n",
              "30/12/2020 02:23:59  -0.012918                0.007431   \n",
              "30/12/2020 13:18:32  -0.000117                0.000023   \n",
              "30/12/2020 16:32:25  -0.001458                0.000124   \n",
              "31/12/2020 17:56:25  -0.000489                0.000443   \n",
              "\n",
              "                     dfb_Company_size_101-1000  dfb_Company_size_11-50  \\\n",
              "Timestamp                                                                \n",
              "01/01/2021 10:51:57                  -0.003570                0.000989   \n",
              "01/01/2021 13:40:08                   0.000153                0.000186   \n",
              "01/12/2020 00:06:49                   0.001085                0.001151   \n",
              "01/12/2020 00:16:18                  -0.006220                0.000524   \n",
              "01/12/2020 00:20:42                   0.000199                0.000090   \n",
              "...                                        ...                     ...   \n",
              "30/11/2020 23:38:05                   0.000758                0.000254   \n",
              "30/12/2020 02:23:59                  -0.007539                0.005401   \n",
              "30/12/2020 13:18:32                   0.000037                0.000066   \n",
              "30/12/2020 16:32:25                  -0.001853                0.000014   \n",
              "31/12/2020 17:56:25                  -0.000167               -0.000156   \n",
              "\n",
              "                     dfb_Company_size_51-100   dfb_Age  \\\n",
              "Timestamp                                                \n",
              "01/01/2021 10:51:57                 0.000622  0.007643   \n",
              "01/01/2021 13:40:08                 0.000141 -0.000551   \n",
              "01/12/2020 00:06:49                 0.001261 -0.004001   \n",
              "01/12/2020 00:16:18                 0.000356 -0.002851   \n",
              "01/12/2020 00:20:42                 0.004223  0.000993   \n",
              "...                                      ...       ...   \n",
              "30/11/2020 23:38:05                 0.000471  0.000764   \n",
              "30/12/2020 02:23:59                 0.004112  0.014971   \n",
              "30/12/2020 13:18:32                -0.001521  0.000368   \n",
              "30/12/2020 16:32:25                -0.000020  0.003099   \n",
              "31/12/2020 17:56:25                -0.000131 -0.000075   \n",
              "\n",
              "                     dfb_Total_years_of_experience  \\\n",
              "Timestamp                                            \n",
              "01/01/2021 10:51:57                      -0.001457   \n",
              "01/01/2021 13:40:08                      -0.000004   \n",
              "01/12/2020 00:06:49                      -0.004374   \n",
              "01/12/2020 00:16:18                       0.001469   \n",
              "01/12/2020 00:20:42                      -0.000381   \n",
              "...                                            ...   \n",
              "30/11/2020 23:38:05                       0.002763   \n",
              "30/12/2020 02:23:59                       0.008601   \n",
              "30/12/2020 13:18:32                      -0.000113   \n",
              "30/12/2020 16:32:25                      -0.000016   \n",
              "31/12/2020 17:56:25                       0.000136   \n",
              "\n",
              "                     dfb_Years_of_experience_in_Germany  \\\n",
              "Timestamp                                                 \n",
              "01/01/2021 10:51:57                           -0.001141   \n",
              "01/01/2021 13:40:08                            0.001802   \n",
              "01/12/2020 00:06:49                           -0.004204   \n",
              "01/12/2020 00:16:18                            0.009535   \n",
              "01/12/2020 00:20:42                           -0.002125   \n",
              "...                                                 ...   \n",
              "30/11/2020 23:38:05                           -0.004705   \n",
              "30/12/2020 02:23:59                            0.002575   \n",
              "30/12/2020 13:18:32                            0.000594   \n",
              "30/12/2020 16:32:25                           -0.002784   \n",
              "31/12/2020 17:56:25                           -0.000333   \n",
              "\n",
              "                     dfb_is_main_lang_english  dfb_is_male  dfb_grade  \\\n",
              "Timestamp                                                               \n",
              "01/01/2021 10:51:57                 -0.000089    -0.000465  -0.011865   \n",
              "01/01/2021 13:40:08                  0.000316    -0.000220  -0.001662   \n",
              "01/12/2020 00:06:49                 -0.028924    -0.027463   0.016071   \n",
              "01/12/2020 00:16:18                  0.000303    -0.004404  -0.003740   \n",
              "01/12/2020 00:20:42                  0.000504     0.001616  -0.002055   \n",
              "...                                       ...          ...        ...   \n",
              "30/11/2020 23:38:05                  0.003339     0.007184  -0.009387   \n",
              "30/12/2020 02:23:59                 -0.002348     0.065638  -0.053139   \n",
              "30/12/2020 13:18:32                 -0.000012    -0.000303  -0.000522   \n",
              "30/12/2020 16:32:25                 -0.001258    -0.001027  -0.000611   \n",
              "31/12/2020 17:56:25                  0.000156     0.000139   0.001392   \n",
              "\n",
              "                          cooks_d  standard_resid  hat_diag  dffits_internal  \\\n",
              "Timestamp                                                                      \n",
              "01/01/2021 10:51:57  3.382214e-05       -0.260759  0.005442        -0.019288   \n",
              "01/01/2021 13:40:08  7.704417e-07       -0.034058  0.007253        -0.002911   \n",
              "01/12/2020 00:06:49  2.015837e-04        0.414344  0.012751         0.047089   \n",
              "01/12/2020 00:16:18  4.370026e-05       -0.365328  0.003589        -0.021925   \n",
              "01/12/2020 00:20:42  6.812465e-06        0.089739  0.009220         0.008657   \n",
              "...                           ...             ...       ...              ...   \n",
              "30/11/2020 23:38:05  4.349823e-05        0.336322  0.004212         0.021874   \n",
              "30/12/2020 02:23:59  7.211422e-04       -0.795439  0.012382        -0.089065   \n",
              "30/12/2020 13:18:32  8.799802e-07       -0.033664  0.008469        -0.003111   \n",
              "30/12/2020 16:32:25  4.366296e-06       -0.108794  0.004041        -0.006930   \n",
              "31/12/2020 17:56:25  5.160263e-07        0.035195  0.004562         0.002382   \n",
              "\n",
              "                     student_resid    dffits  \n",
              "Timestamp                                     \n",
              "01/01/2021 10:51:57      -0.260651 -0.019280  \n",
              "01/01/2021 13:40:08      -0.034042 -0.002910  \n",
              "01/12/2020 00:06:49       0.414190  0.047072  \n",
              "01/12/2020 00:16:18      -0.365187 -0.021916  \n",
              "01/12/2020 00:20:42       0.089699  0.008653  \n",
              "...                            ...       ...  \n",
              "30/11/2020 23:38:05       0.336189  0.021866  \n",
              "30/12/2020 02:23:59      -0.795309 -0.089050  \n",
              "30/12/2020 13:18:32      -0.033649 -0.003110  \n",
              "30/12/2020 16:32:25      -0.108746 -0.006927  \n",
              "31/12/2020 17:56:25       0.035179  0.002381  \n",
              "\n",
              "[1136 rows x 17 columns]"
            ]
          },
          "execution_count": 66,
          "metadata": {},
          "output_type": "execute_result"
        }
      ],
      "source": [
        "influence = model2.get_influence()\n",
        "inf_sum = influence.summary_frame()\n",
        "inf_sum"
      ]
    },
    {
      "cell_type": "code",
      "execution_count": 67,
      "metadata": {
        "colab": {
          "base_uri": "https://localhost:8080/"
        },
        "id": "HaaX8-DYtsIG",
        "outputId": "94641daf-4c07-4c12-afc8-305eac205284"
      },
      "outputs": [
        {
          "data": {
            "text/plain": [
              "Timestamp\n",
              "06/12/2020 21:51:21   -7.734182\n",
              "26/11/2020 17:08:47    3.146785\n",
              "Name: dffits, dtype: float64"
            ]
          },
          "execution_count": 67,
          "metadata": {},
          "output_type": "execute_result"
        }
      ],
      "source": [
        "inf_sum['dffits'][(inf_sum['dffits']>1) | (inf_sum['dffits']<-1)].sort_values()\n",
        "#потенциальные влияющие наблюдения"
      ]
    },
    {
      "cell_type": "code",
      "execution_count": 68,
      "metadata": {
        "colab": {
          "base_uri": "https://localhost:8080/"
        },
        "id": "Zs11J9yWtsIG",
        "outputId": "1c747e3f-42b9-407a-bcbb-70c5a24d5179"
      },
      "outputs": [
        {
          "data": {
            "text/plain": [
              "Timestamp\n",
              "30/11/2020 13:17:39     3.060062\n",
              "24/11/2020 21:36:24     3.297085\n",
              "25/11/2020 13:16:43     3.726523\n",
              "27/11/2020 13:02:41     3.846090\n",
              "30/11/2020 14:36:32     4.240114\n",
              "26/11/2020 22:41:33     5.062658\n",
              "25/11/2020 15:53:21     5.315555\n",
              "25/11/2020 13:26:21     8.400276\n",
              "26/11/2020 17:08:47    25.853072\n",
              "Name: standard_resid, dtype: float64"
            ]
          },
          "execution_count": 68,
          "metadata": {},
          "output_type": "execute_result"
        }
      ],
      "source": [
        "inf_sum['standard_resid'][(inf_sum['standard_resid']>3) | (inf_sum['standard_resid']<-3)].sort_values()\n",
        "#потенциальные выбросы"
      ]
    },
    {
      "cell_type": "markdown",
      "metadata": {
        "id": "dx0OsMbztsIG"
      },
      "source": [
        "## Выводы\n",
        "- На доход IT-специалиста оказывают статистическую значимость его пол, опыт работы в Германии, знание английского языка и уровень квалификации. У них положительные коэффициенты, то есть с увеличением этих характеристик, доход будет расти (в случае с полом, у мужчин выше зарплаты, чем у женщин).\n",
        "- Модель статистически незначима, объясняет всего 17,5% вариации значений зависимой переменной.\n",
        "- Неожиданными результатами можно выделить отсутствие влияния опыта работы и размера компании на зарплату программистов."
      ]
    },
    {
      "cell_type": "markdown",
      "metadata": {
        "id": "ThAXAT68tsIH"
      },
      "source": [
        "# Этот файл нужно сохранить как Notebook (.ipynb) и загрузить в Smart LMS до 23:55 16 ноября."
      ]
    }
  ],
  "metadata": {
    "colab": {
      "collapsed_sections": [
        "yvEH5X0ItsH8",
        "vo1bz1rptsH9",
        "aXlqDmsj2tzC",
        "KMXphpbI28yc",
        "qu_VhYRONpAB"
      ],
      "provenance": []
    },
    "kernelspec": {
      "display_name": "Python 3 (ipykernel)",
      "language": "python",
      "name": "python3"
    },
    "language_info": {
      "codemirror_mode": {
        "name": "ipython",
        "version": 3
      },
      "file_extension": ".py",
      "mimetype": "text/x-python",
      "name": "python",
      "nbconvert_exporter": "python",
      "pygments_lexer": "ipython3",
      "version": "3.10.12"
    }
  },
  "nbformat": 4,
  "nbformat_minor": 0
}
