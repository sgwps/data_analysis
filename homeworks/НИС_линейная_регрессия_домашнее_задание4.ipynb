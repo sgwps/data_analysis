{
 "cells": [
  {
   "cell_type": "markdown",
   "metadata": {},
   "source": [
    "# Домашее задание №4"
   ]
  },
  {
   "attachments": {},
   "cell_type": "markdown",
   "metadata": {},
   "source": [
    "С 2015 года ежегодно проводится анонимный опрос европейских ИТ-специалистов, включающий информацию об их доходах. \n",
    "\n",
    "Источник: https://www.kaggle.com/parulpandey/2020-it-salary-survey-for-eu-region\n",
    "\n",
    "В файле IT_Salary_Survey_EU_2020.csv содержаться следующие переменные:\n",
    "\n",
    "    - Age\t\n",
    "    - Gender\t\n",
    "    - City\t\n",
    "    - Position \t\n",
    "    - Total years of experience\t\n",
    "    - Years of experience in Germany\t\n",
    "    - Seniority level\t\n",
    "    - Your main technology / programming language\t\n",
    "    - Other technologies/programming languages you use often\t\n",
    "    - Yearly brutto salary (without bonus and stocks) in EUR\t\n",
    "    - Yearly bonus + stocks in EUR\t\n",
    "    - Annual brutto salary (without bonus and stocks) one year ago. Only answer if staying in the same country\t\n",
    "    - Annual bonus+stocks one year ago. Only answer if staying in same country\t\n",
    "    - Number of vacation days\t\n",
    "    - Employment status\t\n",
    "    - Сontract duration\t\n",
    "    - Main language at work\t\n",
    "    - Company size\t\n",
    "    - Company type\t\n",
    "    - Have you lost your job due to the coronavirus outbreak?\t\n",
    "    - Have you been forced to have a shorter working week (Kurzarbeit)? If yes, how many hours per week\t\n",
    "    - Have you received additional monetary support from your employer due to Work From Home? If yes, how much in 2020 in EUR!\n",
    "\n",
    "\n",
    "\n",
    "Задания:\n",
    "\n",
    "    •\tПостройте модель множественной линейной регрессии выбрав в качестве зависимой одну из переменных, характеризующих доход IT-специалиста. Выберите не менее 7-ми переменных в качестве независимых. Среди независимых переменных должно быть не менее 2 категориальных.\n",
    "    \n",
    "    •\tСформулируйте гипотезы исследования.\n",
    "    \n",
    "    •\tНапишите уравнение регрессии. \n",
    "    \n",
    "    •\tОцените характеристики регрессионной модели в целом. \n",
    "    \n",
    "    •\tОцените значимость регрессионных коэффициентов. Сравните их между собой по силе взаимосвязи с зависимой переменной. \n",
    "    \n",
    "    •\tПодробно интерпретируйте особенности взаимосвязи между каждым из предикторов и зависимой переменной. Это очень важный пункт задания, поскольку именно в нем мы делаем выводы о том, какие факторы и как могут влиять за зарплату IT-специалиста!\n",
    "    \n",
    "    •\tПроведите диагностику модели. Есть ли в модели выбросы и/или влияющие наблюдения? Чем это может объясняться?\n",
    "    \n",
    "    •\tСформулируйте общие содержательные выводы по результатам регрессионного анализа данных. Какие результаты анализа данных для вас оказались очевидными, а какие неожиданными?"
   ]
  },
  {
   "cell_type": "markdown",
   "metadata": {},
   "source": [
    "Обратите внимание, что все пункты задания должны сопровождаться _выполненным_ фрагментом кода!"
   ]
  },
  {
   "cell_type": "markdown",
   "metadata": {},
   "source": [
    "## Let's get it started"
   ]
  },
  {
   "cell_type": "code",
   "execution_count": 190,
   "metadata": {},
   "outputs": [],
   "source": [
    "import pandas as pd\n",
    "import seaborn as sns\n",
    "import matplotlib.pyplot as plt\n",
    "from scipy import stats \n",
    "import numpy as np\n",
    "from statsmodels.stats.outliers_influence import variance_inflation_factor as vif"
   ]
  },
  {
   "cell_type": "code",
   "execution_count": 191,
   "metadata": {},
   "outputs": [
    {
     "data": {
      "text/plain": [
       "(1253, 22)"
      ]
     },
     "execution_count": 191,
     "metadata": {},
     "output_type": "execute_result"
    }
   ],
   "source": [
    "df = pd.read_csv('IT_Salary_Survey_EU_2020.csv', index_col=0)\n",
    "df.shape"
   ]
  },
  {
   "cell_type": "code",
   "execution_count": 192,
   "metadata": {},
   "outputs": [
    {
     "name": "stdout",
     "output_type": "stream",
     "text": [
      "Type: float64\n",
      "['Age' 'Yearly brutto salary (without bonus and stocks) in EUR'\n",
      " 'Annual brutto salary (without bonus and stocks) one year ago. Only answer if staying in the same country'\n",
      " 'Have you been forced to have a shorter working week (Kurzarbeit)? If yes, how many hours per week']\n",
      "\n",
      "Type: object\n",
      "['Gender' 'City' 'Position ' 'Total years of experience'\n",
      " 'Years of experience in Germany' 'Seniority level'\n",
      " 'Your main technology / programming language'\n",
      " 'Other technologies/programming languages you use often'\n",
      " 'Yearly bonus + stocks in EUR'\n",
      " 'Annual bonus+stocks one year ago. Only answer if staying in same country'\n",
      " 'Number of vacation days' 'Employment status' 'Сontract duration'\n",
      " 'Main language at work' 'Company size' 'Company type'\n",
      " 'Have you lost your job due to the coronavirus outbreak?'\n",
      " 'Have you received additional monetary support from your employer due to Work From Home? If yes, how much in 2020 in EUR']\n",
      "\n"
     ]
    }
   ],
   "source": [
    "# Названия переменных, сгруппированные по типам данных\n",
    "for t in df.dtypes.unique():\n",
    "     print('Type: {}\\n{}\\n'.format(t, df.dtypes[df.dtypes==t].index.values))"
   ]
  },
  {
   "cell_type": "code",
   "execution_count": 193,
   "metadata": {},
   "outputs": [
    {
     "data": {
      "text/html": [
       "<div>\n",
       "<style scoped>\n",
       "    .dataframe tbody tr th:only-of-type {\n",
       "        vertical-align: middle;\n",
       "    }\n",
       "\n",
       "    .dataframe tbody tr th {\n",
       "        vertical-align: top;\n",
       "    }\n",
       "\n",
       "    .dataframe thead th {\n",
       "        text-align: right;\n",
       "    }\n",
       "</style>\n",
       "<table border=\"1\" class=\"dataframe\">\n",
       "  <thead>\n",
       "    <tr style=\"text-align: right;\">\n",
       "      <th></th>\n",
       "      <th>Процент пропущенных значений</th>\n",
       "    </tr>\n",
       "  </thead>\n",
       "  <tbody>\n",
       "    <tr>\n",
       "      <th>Have you been forced to have a shorter working week (Kurzarbeit)? If yes, how many hours per week</th>\n",
       "      <td>70.231445</td>\n",
       "    </tr>\n",
       "    <tr>\n",
       "      <th>Have you received additional monetary support from your employer due to Work From Home? If yes, how much in 2020 in EUR</th>\n",
       "      <td>63.128492</td>\n",
       "    </tr>\n",
       "    <tr>\n",
       "      <th>Annual bonus+stocks one year ago. Only answer if staying in same country</th>\n",
       "      <td>50.997606</td>\n",
       "    </tr>\n",
       "    <tr>\n",
       "      <th>Yearly bonus + stocks in EUR</th>\n",
       "      <td>33.838787</td>\n",
       "    </tr>\n",
       "    <tr>\n",
       "      <th>Annual brutto salary (without bonus and stocks) one year ago. Only answer if staying in the same country</th>\n",
       "      <td>29.369513</td>\n",
       "    </tr>\n",
       "    <tr>\n",
       "      <th>Other technologies/programming languages you use often</th>\n",
       "      <td>12.529928</td>\n",
       "    </tr>\n",
       "    <tr>\n",
       "      <th>Your main technology / programming language</th>\n",
       "      <td>10.135674</td>\n",
       "    </tr>\n",
       "    <tr>\n",
       "      <th>Number of vacation days</th>\n",
       "      <td>5.426975</td>\n",
       "    </tr>\n",
       "    <tr>\n",
       "      <th>Years of experience in Germany</th>\n",
       "      <td>2.553871</td>\n",
       "    </tr>\n",
       "    <tr>\n",
       "      <th>Сontract duration</th>\n",
       "      <td>2.314445</td>\n",
       "    </tr>\n",
       "    <tr>\n",
       "      <th>Age</th>\n",
       "      <td>2.154828</td>\n",
       "    </tr>\n",
       "    <tr>\n",
       "      <th>Company type</th>\n",
       "      <td>1.995211</td>\n",
       "    </tr>\n",
       "    <tr>\n",
       "      <th>Have you lost your job due to the coronavirus outbreak?</th>\n",
       "      <td>1.596169</td>\n",
       "    </tr>\n",
       "    <tr>\n",
       "      <th>Company size</th>\n",
       "      <td>1.436552</td>\n",
       "    </tr>\n",
       "    <tr>\n",
       "      <th>Employment status</th>\n",
       "      <td>1.356744</td>\n",
       "    </tr>\n",
       "    <tr>\n",
       "      <th>Main language at work</th>\n",
       "      <td>1.276935</td>\n",
       "    </tr>\n",
       "    <tr>\n",
       "      <th>Total years of experience</th>\n",
       "      <td>1.276935</td>\n",
       "    </tr>\n",
       "    <tr>\n",
       "      <th>Seniority level</th>\n",
       "      <td>0.957702</td>\n",
       "    </tr>\n",
       "    <tr>\n",
       "      <th>Gender</th>\n",
       "      <td>0.798085</td>\n",
       "    </tr>\n",
       "    <tr>\n",
       "      <th>Position</th>\n",
       "      <td>0.478851</td>\n",
       "    </tr>\n",
       "    <tr>\n",
       "      <th>Yearly brutto salary (without bonus and stocks) in EUR</th>\n",
       "      <td>0.000000</td>\n",
       "    </tr>\n",
       "    <tr>\n",
       "      <th>City</th>\n",
       "      <td>0.000000</td>\n",
       "    </tr>\n",
       "  </tbody>\n",
       "</table>\n",
       "</div>"
      ],
      "text/plain": [
       "                                                    Процент пропущенных значений\n",
       "Have you been forced to have a shorter working ...                     70.231445\n",
       "Have you received additional monetary support f...                     63.128492\n",
       "Annual bonus+stocks one year ago. Only answer i...                     50.997606\n",
       "Yearly bonus + stocks in EUR                                           33.838787\n",
       "Annual brutto salary (without bonus and stocks)...                     29.369513\n",
       "Other technologies/programming languages you us...                     12.529928\n",
       "Your main technology / programming language                            10.135674\n",
       "Number of vacation days                                                 5.426975\n",
       "Years of experience in Germany                                          2.553871\n",
       "Сontract duration                                                       2.314445\n",
       "Age                                                                     2.154828\n",
       "Company type                                                            1.995211\n",
       "Have you lost your job due to the coronavirus o...                      1.596169\n",
       "Company size                                                            1.436552\n",
       "Employment status                                                       1.356744\n",
       "Main language at work                                                   1.276935\n",
       "Total years of experience                                               1.276935\n",
       "Seniority level                                                         0.957702\n",
       "Gender                                                                  0.798085\n",
       "Position                                                                0.478851\n",
       "Yearly brutto salary (without bonus and stocks)...                      0.000000\n",
       "City                                                                    0.000000"
      ]
     },
     "execution_count": 193,
     "metadata": {},
     "output_type": "execute_result"
    }
   ],
   "source": [
    "#Процент пропущенных значений по переменным, содержащим пропуски\n",
    "missing = (df.isna().sum() / len(df)) * 100\n",
    "missing = missing[missing >= 0].sort_values(ascending=False)\n",
    "missing = pd.DataFrame({'Процент пропущенных значений' : missing})\n",
    "missing"
   ]
  },
  {
   "cell_type": "markdown",
   "metadata": {},
   "source": [
    "## Независимые переменные"
   ]
  },
  {
   "cell_type": "markdown",
   "metadata": {},
   "source": [
    "#### Выпишем независимые переменные\n",
    "- Возраст (Age)\n",
    "- Общий опыт работы (Total years of experience)\n",
    "- Опыт работы в Германии (Years of experience in Germany)\n",
    "\n",
    "Из них категориальные:\n",
    "- Основной язык в работе (Main language at work)\n",
    "- Размер компании (Company size)"
   ]
  },
  {
   "cell_type": "code",
   "execution_count": 194,
   "metadata": {},
   "outputs": [],
   "source": [
    "df = df.dropna(subset=['Age'])\n"
   ]
  },
  {
   "cell_type": "markdown",
   "metadata": {},
   "source": [
    "#### Основной язык в работе"
   ]
  },
  {
   "cell_type": "code",
   "execution_count": 195,
   "metadata": {},
   "outputs": [
    {
     "data": {
      "text/plain": [
       "English               1002\n",
       "German                 181\n",
       "Russian                 12\n",
       "Italian                  3\n",
       "Spanish                  3\n",
       "Русский                  2\n",
       "English and German       2\n",
       "Polish                   2\n",
       "Czech                    2\n",
       "50/50                    1\n",
       "Russian, English         1\n",
       "both                     1\n",
       "French                   1\n",
       "Deuglisch                1\n",
       "Name: Main language at work, dtype: int64"
      ]
     },
     "execution_count": 195,
     "metadata": {},
     "output_type": "execute_result"
    }
   ],
   "source": [
    "df['Main language at work'].value_counts()\n"
   ]
  },
  {
   "cell_type": "markdown",
   "metadata": {},
   "source": [
    "Оставим только английский и немецкий, случаями их комбинации (например, English and German) пренебрежём в силу их малого количества."
   ]
  },
  {
   "cell_type": "code",
   "execution_count": 196,
   "metadata": {},
   "outputs": [],
   "source": [
    "lang_dict = {'English' : 1, 'German' : 0}\n",
    "\n",
    "df['is_main_lang_english'] = df['Main language at work'].apply(lambda x: lang_dict.get(x))\n",
    "df['is_main_lang_english'].value_counts()\n",
    "df = df.dropna(subset=['is_main_lang_english'])\n"
   ]
  },
  {
   "cell_type": "code",
   "execution_count": 197,
   "metadata": {},
   "outputs": [],
   "source": [
    "df['Total years of experience'] = df['Total years of experience'].replace('less than year',0)\n",
    "df['Total years of experience'] = df['Total years of experience'].replace('1,5',1.5)\n",
    "df['Total years of experience'] = df['Total years of experience'].replace('2,5',2.5)\n",
    "df['Total years of experience'] = df['Total years of experience'].replace('1 (as QA Engineer) / 11 in total', None)\n",
    "df['Total years of experience'] = df['Total years of experience'].replace('15, thereof 8 as CTO', None)\n",
    "df['Total years of experience'] = df['Total years of experience'].replace('16 (not as a data scientist, but as a lab scientist)', None)\n",
    "df['Total years of experience'] = df['Total years of experience'].replace('6 (not as a data scientist, but as a lab scientist)', None)\n",
    "\n",
    "df['Total_years_of_experience'] = df['Total years of experience'].apply(lambda x: float(x))\n",
    "df = df.dropna(subset=['Total_years_of_experience'])"
   ]
  },
  {
   "cell_type": "code",
   "execution_count": 198,
   "metadata": {},
   "outputs": [],
   "source": [
    "df['Years of experience in Germany'] = df['Years of experience in Germany'].replace('4 (in Switzerland). 0 (in Germany)', 0)\n",
    "df['Years of experience in Germany'] = df['Years of experience in Germany'].replace('4 month', 0.3)\n",
    "df['Years of experience in Germany'] = df['Years of experience in Germany'].replace('3 months', 0.25)\n",
    "df['Years of experience in Germany'] = df['Years of experience in Germany'].replace('3 (in Poland)', 0)\n",
    "\n",
    "df['Years of experience in Germany'] = df['Years of experience in Germany'].apply(lambda x: str(x).replace(',', '.'))\n",
    "values = df['Years of experience in Germany'].values.tolist()\n",
    "for i in values:\n",
    "    try:\n",
    "        float(i)\n",
    "    except ValueError:\n",
    "        df['Years of experience in Germany'] = df['Years of experience in Germany'].replace(i, None)\n",
    "\n",
    "\n",
    "\n",
    "df['Years_of_experience_in_Germany']= df['Years of experience in Germany'].apply(lambda x: float(x))\n",
    "\n",
    "df = df.dropna(subset=['Years_of_experience_in_Germany'])\n"
   ]
  },
  {
   "cell_type": "code",
   "execution_count": 199,
   "metadata": {},
   "outputs": [
    {
     "data": {
      "text/plain": [
       "1000+       414\n",
       "101-1000    384\n",
       "11-50       163\n",
       "51-100      137\n",
       "up to 10     57\n",
       "Name: Company_size, dtype: int64"
      ]
     },
     "execution_count": 199,
     "metadata": {},
     "output_type": "execute_result"
    }
   ],
   "source": [
    "df = df.rename(columns={'Company size' : 'Company_size'})\n",
    "df['Company_size'].value_counts() "
   ]
  },
  {
   "cell_type": "code",
   "execution_count": 200,
   "metadata": {},
   "outputs": [],
   "source": [
    "df = df.dropna(subset=['Company_size'])\n"
   ]
  },
  {
   "cell_type": "code",
   "execution_count": 201,
   "metadata": {},
   "outputs": [],
   "source": [
    "company_size_dummies = pd.get_dummies(df.Company_size, prefix='Company_size', prefix_sep='_')\n",
    "\n",
    "df = pd.concat([df, company_size_dummies], axis=1) "
   ]
  },
  {
   "cell_type": "code",
   "execution_count": 202,
   "metadata": {},
   "outputs": [],
   "source": [
    "independent_vars = [\n",
    "    'Company_size_1000+', 'Company_size_101-1000', 'Company_size_11-50', 'Company_size_51-100',\\\n",
    "    'Age', 'Total_years_of_experience', 'Years_of_experience_in_Germany', 'is_main_lang_english'\n",
    "]"
   ]
  },
  {
   "cell_type": "markdown",
   "metadata": {},
   "source": [
    "## Зависимая переменная (brutto_salary)"
   ]
  },
  {
   "cell_type": "code",
   "execution_count": 203,
   "metadata": {},
   "outputs": [],
   "source": [
    "df['brutto_salary'] = df['Yearly brutto salary (without bonus and stocks) in EUR'].apply(lambda x : int(x))\n",
    "\n",
    "# Удалим особо исключительные значения\n",
    "df = df.drop(df[df.brutto_salary == 99999999999].index)\n",
    "df = df.drop(df[df.brutto_salary == 500000000].index)"
   ]
  },
  {
   "cell_type": "code",
   "execution_count": 204,
   "metadata": {},
   "outputs": [
    {
     "data": {
      "text/plain": [
       "count      1154.000000\n",
       "mean      72457.286828\n",
       "std       33070.043937\n",
       "min       10001.000000\n",
       "25%       60000.000000\n",
       "50%       70000.000000\n",
       "75%       80000.000000\n",
       "max      850000.000000\n",
       "Name: brutto_salary, dtype: float64"
      ]
     },
     "execution_count": 204,
     "metadata": {},
     "output_type": "execute_result"
    }
   ],
   "source": [
    "df['brutto_salary'].describe()\n"
   ]
  },
  {
   "cell_type": "code",
   "execution_count": 205,
   "metadata": {},
   "outputs": [
    {
     "data": {
      "text/plain": [
       "70000.0"
      ]
     },
     "execution_count": 205,
     "metadata": {},
     "output_type": "execute_result"
    }
   ],
   "source": [
    "df['brutto_salary'].median()"
   ]
  },
  {
   "cell_type": "code",
   "execution_count": 206,
   "metadata": {},
   "outputs": [
    {
     "data": {
      "text/plain": [
       "<matplotlib.axes._subplots.AxesSubplot at 0x7ff0d00e51d0>"
      ]
     },
     "execution_count": 206,
     "metadata": {},
     "output_type": "execute_result"
    },
    {
     "data": {
      "image/png": "[encoded data removed]",
      "text/plain": [
       "<Figure size 432x288 with 1 Axes>"
      ]
     },
     "metadata": {
      "needs_background": "light"
     },
     "output_type": "display_data"
    }
   ],
   "source": [
    "sns.distplot(df.brutto_salary, fit=stats.norm) "
   ]
  },
  {
   "cell_type": "code",
   "execution_count": 207,
   "metadata": {},
   "outputs": [
    {
     "name": "stdout",
     "output_type": "stream",
     "text": [
      "Skewness: 12.1954\n",
      "Kurtosis: 268.3750\n",
      "Quartile Deviation: 10000.0000\n",
      "Decile Ratio: 1.9000\n"
     ]
    }
   ],
   "source": [
    "print('Skewness: {:.4f}'.format(df['brutto_salary'].skew()))\n",
    "print('Kurtosis: {:.4f}'.format(df['brutto_salary'].kurt()))\n",
    "print('Quartile Deviation: {:.4f}'.format((df['brutto_salary'].quantile(0.75) - df['brutto_salary'].quantile(0.25))/2))\n",
    "print('Decile Ratio: {:.4f}'.format(df['brutto_salary'].quantile(0.9)/df['brutto_salary'].quantile(0.1)))"
   ]
  },
  {
   "cell_type": "code",
   "execution_count": 208,
   "metadata": {},
   "outputs": [
    {
     "data": {
      "text/plain": [
       "KstestResult(statistic=0.18499665257983888, pvalue=4.826316853618776e-35)"
      ]
     },
     "execution_count": 208,
     "metadata": {},
     "output_type": "execute_result"
    }
   ],
   "source": [
    "stats.kstest(df.brutto_salary, 'norm', args=(df.brutto_salary.mean(), df.brutto_salary.std()))"
   ]
  },
  {
   "cell_type": "markdown",
   "metadata": {},
   "source": [
    "Зависимая переменная \"brutto_salary\" имеет распределение отличное от нормального (pvalue < 0.05). Также оно асимметрично (сдвиг в сторону меньших значений) и характеризуется пиковостью. Среднее значение - 72.5 тысяч евро, стандартное отклонение довольно высокое - 33 тысячи евро. Медиана  - 70 тысяч евро. Межквартильная широта - 10 тысяч евро, что также характеризует довольно большой разброс серединных 50% значений относительно медианы. Децильное отношение - 1.9."
   ]
  },
  {
   "cell_type": "markdown",
   "metadata": {},
   "source": [
    "## Гипотезы\n",
    "- \n",
    "- \n",
    "- \n",
    "- "
   ]
  },
  {
   "cell_type": "markdown",
   "metadata": {},
   "source": [
    "## Формирование модели"
   ]
  },
  {
   "cell_type": "code",
   "execution_count": 209,
   "metadata": {},
   "outputs": [
    {
     "data": {
      "text/plain": [
       "(1154, 31)"
      ]
     },
     "execution_count": 209,
     "metadata": {},
     "output_type": "execute_result"
    }
   ],
   "source": [
    "import statsmodels.api as sm\n",
    "\n",
    "df.shape"
   ]
  },
  {
   "cell_type": "code",
   "execution_count": 210,
   "metadata": {},
   "outputs": [],
   "source": [
    "y = df['brutto_salary']\n",
    "x_mult = df[independent_vars]\n",
    "x_mult_constant = sm.add_constant(x_mult)"
   ]
  },
  {
   "cell_type": "code",
   "execution_count": 211,
   "metadata": {},
   "outputs": [
    {
     "name": "stdout",
     "output_type": "stream",
     "text": [
      "                            OLS Regression Results                            \n",
      "==============================================================================\n",
      "Dep. Variable:          brutto_salary   R-squared:                       0.085\n",
      "Model:                            OLS   Adj. R-squared:                  0.078\n",
      "Method:                 Least Squares   F-statistic:                     13.27\n",
      "Date:                Tue, 14 Nov 2023   Prob (F-statistic):           1.85e-18\n",
      "Time:                        19:23:33   Log-Likelihood:                -13595.\n",
      "No. Observations:                1154   AIC:                         2.721e+04\n",
      "Df Residuals:                    1145   BIC:                         2.725e+04\n",
      "Df Model:                           8                                         \n",
      "Covariance Type:            nonrobust                                         \n",
      "==================================================================================================\n",
      "                                     coef    std err          t      P>|t|      [0.025      0.975]\n",
      "--------------------------------------------------------------------------------------------------\n",
      "const                           3.114e+04   7887.418      3.948      0.000    1.57e+04    4.66e+04\n",
      "Company_size_1000+              7389.0296   4542.251      1.627      0.104   -1523.040    1.63e+04\n",
      "Company_size_101-1000           3913.1181   4573.434      0.856      0.392   -5060.134    1.29e+04\n",
      "Company_size_11-50             -3518.8164   4949.766     -0.711      0.477   -1.32e+04    6192.812\n",
      "Company_size_51-100            -3610.2295   5061.248     -0.713      0.476   -1.35e+04    6320.130\n",
      "Age                              613.9957    218.873      2.805      0.005     184.559    1043.433\n",
      "Total_years_of_experience        144.0354     87.814      1.640      0.101     -28.258     316.329\n",
      "Years_of_experience_in_Germany  1530.5459    323.007      4.738      0.000     896.794    2164.298\n",
      "is_main_lang_english            1.336e+04   2749.601      4.860      0.000    7969.230    1.88e+04\n",
      "==============================================================================\n",
      "Omnibus:                     2174.408   Durbin-Watson:                   2.006\n",
      "Prob(Omnibus):                  0.000   Jarque-Bera (JB):          4377046.922\n",
      "Skew:                          13.320   Prob(JB):                         0.00\n",
      "Kurtosis:                     303.534   Cond. No.                         382.\n",
      "==============================================================================\n",
      "\n",
      "Warnings:\n",
      "[1] Standard Errors assume that the covariance matrix of the errors is correctly specified.\n"
     ]
    }
   ],
   "source": [
    "df.head(25)\n",
    "\n",
    "model2 = sm.OLS(y, x_mult_constant).fit()\n",
    "print(model2.summary())"
   ]
  },
  {
   "cell_type": "markdown",
   "metadata": {},
   "source": [
    "## Уравнение регрессии"
   ]
  },
  {
   "cell_type": "code",
   "execution_count": 212,
   "metadata": {},
   "outputs": [
    {
     "name": "stdout",
     "output_type": "stream",
     "text": [
      "R^2 = 0.084840\n",
      "F-test significance = 0.000000\n"
     ]
    }
   ],
   "source": [
    "print('R^2 = {:f}'.format(model2.rsquared))\n",
    "print('F-test significance = {:f}'.format(model2.f_pvalue))"
   ]
  },
  {
   "cell_type": "markdown",
   "metadata": {},
   "source": [
    "Модель статистически значима. Объясняет 84,8% вариации значений зависимой переменной."
   ]
  },
  {
   "cell_type": "code",
   "execution_count": 213,
   "metadata": {},
   "outputs": [
    {
     "data": {
      "text/plain": [
       "\"Статистически значимые параметры модели: ['const' 'Age' 'Years_of_experience_in_Germany' 'is_main_lang_english']\""
      ]
     },
     "execution_count": 213,
     "metadata": {},
     "output_type": "execute_result"
    }
   ],
   "source": [
    "f'Статистически значимые параметры модели: {model2.pvalues[model2.pvalues < 0.05].index.values}'"
   ]
  },
  {
   "cell_type": "code",
   "execution_count": 214,
   "metadata": {},
   "outputs": [
    {
     "data": {
      "text/plain": [
       "\"Статистически не значимые параметры модели: ['Company_size_1000+' 'Company_size_101-1000' 'Company_size_11-50'\\n 'Company_size_51-100' 'Total_years_of_experience']\""
      ]
     },
     "execution_count": 214,
     "metadata": {},
     "output_type": "execute_result"
    }
   ],
   "source": [
    "f'Статистически не значимые параметры модели: {model2.pvalues[model2.pvalues > 0.05].index.values}'"
   ]
  },
  {
   "cell_type": "code",
   "execution_count": 215,
   "metadata": {},
   "outputs": [
    {
     "name": "stdout",
     "output_type": "stream",
     "text": [
      "Y = 31136.652814 +\n",
      "7389.03 * Company_size_1000+ + \n",
      "3913.12 * Company_size_101-1000 + \n",
      "-3518.82 * Company_size_11-50 + \n",
      "-3610.23 * Company_size_51-100 + \n",
      "614.00 * Age + \n",
      "144.04 * Total_years_of_experience + \n",
      "1530.55 * Years_of_experience_in_Germany + \n",
      "13364.05 * is_main_lang_english\n"
     ]
    }
   ],
   "source": [
    "l = []\n",
    "for (param, index) in zip(model2.params[1:], model2.params.index[1:]):\n",
    "    l.append('{:.2f} * {}'.format(param, index))\n",
    "    \n",
    "print('Y = {:2f} +\\n{}'.format(model2.params[0], ' + \\n'.join(l)))"
   ]
  },
  {
   "cell_type": "markdown",
   "metadata": {},
   "source": [
    "## Характеристики регрессионной модели и значимость коэффициентов"
   ]
  },
  {
   "cell_type": "markdown",
   "metadata": {},
   "source": [
    "- \n",
    "-\n",
    "-\n"
   ]
  },
  {
   "cell_type": "markdown",
   "metadata": {},
   "source": [
    "## Диагностика модели"
   ]
  },
  {
   "cell_type": "code",
   "execution_count": 216,
   "metadata": {},
   "outputs": [
    {
     "name": "stdout",
     "output_type": "stream",
     "text": [
      "P-value: 0.000\n"
     ]
    }
   ],
   "source": [
    "p = stats.kstest(model2.resid, 'norm', args=(model2.resid.mean(), model2.resid.std())).pvalue\n",
    "print('P-value: {:.3f}'.format(p))"
   ]
  },
  {
   "cell_type": "code",
   "execution_count": 217,
   "metadata": {},
   "outputs": [
    {
     "data": {
      "text/plain": [
       "<matplotlib.axes._subplots.AxesSubplot at 0x7ff0a373aa10>"
      ]
     },
     "execution_count": 217,
     "metadata": {},
     "output_type": "execute_result"
    },
    {
     "data": {
      "image/png": "[encoded data removed]",
      "text/plain": [
       "<Figure size 432x288 with 1 Axes>"
      ]
     },
     "metadata": {
      "needs_background": "light"
     },
     "output_type": "display_data"
    }
   ],
   "source": [
    "sns.distplot(model2.resid, fit=stats.norm) "
   ]
  },
  {
   "cell_type": "markdown",
   "metadata": {},
   "source": [
    "Распределение остатков отличается от нормального."
   ]
  },
  {
   "cell_type": "markdown",
   "metadata": {},
   "source": [
    "### Гетероскедастичность"
   ]
  },
  {
   "cell_type": "code",
   "execution_count": 218,
   "metadata": {},
   "outputs": [
    {
     "data": {
      "image/png": "[encoded data removed]",
      "text/plain": [
       "<Figure size 576x360 with 1 Axes>"
      ]
     },
     "metadata": {
      "needs_background": "light"
     },
     "output_type": "display_data"
    }
   ],
   "source": [
    "plt.figure(figsize=(8,5))\n",
    "plt.scatter(x=model2.fittedvalues, y=model2.resid, color='blue', edgecolor='k')\n",
    "plt.grid(True)\n",
    "plt.xlabel('Fitted value', fontsize=14)\n",
    "plt.ylabel('Residual', fontsize=14)\n",
    "plt.show()"
   ]
  },
  {
   "cell_type": "markdown",
   "metadata": {},
   "source": [
    "Наблюдается взаимосвязь между остатками и спредсказанными значениями зависимой переменной. Следовательно существует проблема гетероскедастичности."
   ]
  },
  {
   "cell_type": "markdown",
   "metadata": {},
   "source": [
    "### Мультиколлинеарность"
   ]
  },
  {
   "cell_type": "code",
   "execution_count": 219,
   "metadata": {},
   "outputs": [],
   "source": [
    "vifs = np.array([vif(model2.model.exog, i) for i in range(model2.model.exog.shape[1])])"
   ]
  },
  {
   "cell_type": "code",
   "execution_count": 220,
   "metadata": {},
   "outputs": [
    {
     "data": {
      "text/html": [
       "<div>\n",
       "<style scoped>\n",
       "    .dataframe tbody tr th:only-of-type {\n",
       "        vertical-align: middle;\n",
       "    }\n",
       "\n",
       "    .dataframe tbody tr th {\n",
       "        vertical-align: top;\n",
       "    }\n",
       "\n",
       "    .dataframe thead th {\n",
       "        text-align: right;\n",
       "    }\n",
       "</style>\n",
       "<table border=\"1\" class=\"dataframe\">\n",
       "  <thead>\n",
       "    <tr style=\"text-align: right;\">\n",
       "      <th></th>\n",
       "      <th>VIF</th>\n",
       "      <th>Features</th>\n",
       "    </tr>\n",
       "  </thead>\n",
       "  <tbody>\n",
       "    <tr>\n",
       "      <th>7</th>\n",
       "      <td>1.139658</td>\n",
       "      <td>is_main_lang_english</td>\n",
       "    </tr>\n",
       "    <tr>\n",
       "      <th>5</th>\n",
       "      <td>1.314942</td>\n",
       "      <td>Total_years_of_experience</td>\n",
       "    </tr>\n",
       "    <tr>\n",
       "      <th>6</th>\n",
       "      <td>1.509644</td>\n",
       "      <td>Years_of_experience_in_Germany</td>\n",
       "    </tr>\n",
       "    <tr>\n",
       "      <th>4</th>\n",
       "      <td>1.729516</td>\n",
       "      <td>Age</td>\n",
       "    </tr>\n",
       "    <tr>\n",
       "      <th>3</th>\n",
       "      <td>3.068741</td>\n",
       "      <td>Company_size_51-100</td>\n",
       "    </tr>\n",
       "    <tr>\n",
       "      <th>2</th>\n",
       "      <td>3.402782</td>\n",
       "      <td>Company_size_11-50</td>\n",
       "    </tr>\n",
       "    <tr>\n",
       "      <th>1</th>\n",
       "      <td>5.317536</td>\n",
       "      <td>Company_size_101-1000</td>\n",
       "    </tr>\n",
       "    <tr>\n",
       "      <th>0</th>\n",
       "      <td>5.434730</td>\n",
       "      <td>Company_size_1000+</td>\n",
       "    </tr>\n",
       "  </tbody>\n",
       "</table>\n",
       "</div>"
      ],
      "text/plain": [
       "        VIF                        Features\n",
       "7  1.139658            is_main_lang_english\n",
       "5  1.314942       Total_years_of_experience\n",
       "6  1.509644  Years_of_experience_in_Germany\n",
       "4  1.729516                             Age\n",
       "3  3.068741             Company_size_51-100\n",
       "2  3.402782              Company_size_11-50\n",
       "1  5.317536           Company_size_101-1000\n",
       "0  5.434730              Company_size_1000+"
      ]
     },
     "execution_count": 220,
     "metadata": {},
     "output_type": "execute_result"
    }
   ],
   "source": [
    "vif_df = pd.DataFrame()\n",
    "vif_df['VIF'] = vifs[1:]\n",
    "vif_df['Features'] = model2.params.index[1:]\n",
    "vif_df.sort_values(by=['VIF'])"
   ]
  },
  {
   "cell_type": "markdown",
   "metadata": {},
   "source": [
    "Нет значений VIF, превышающих 10. Проблема мультиколлинеарности отсутствует."
   ]
  },
  {
   "cell_type": "markdown",
   "metadata": {},
   "source": [
    "### Выбросы и влияющие наблюдения"
   ]
  },
  {
   "cell_type": "code",
   "execution_count": 221,
   "metadata": {},
   "outputs": [
    {
     "data": {
      "text/html": [
       "<div>\n",
       "<style scoped>\n",
       "    .dataframe tbody tr th:only-of-type {\n",
       "        vertical-align: middle;\n",
       "    }\n",
       "\n",
       "    .dataframe tbody tr th {\n",
       "        vertical-align: top;\n",
       "    }\n",
       "\n",
       "    .dataframe thead th {\n",
       "        text-align: right;\n",
       "    }\n",
       "</style>\n",
       "<table border=\"1\" class=\"dataframe\">\n",
       "  <thead>\n",
       "    <tr style=\"text-align: right;\">\n",
       "      <th></th>\n",
       "      <th>dfb_const</th>\n",
       "      <th>dfb_Company_size_1000+</th>\n",
       "      <th>dfb_Company_size_101-1000</th>\n",
       "      <th>dfb_Company_size_11-50</th>\n",
       "      <th>dfb_Company_size_51-100</th>\n",
       "      <th>dfb_Age</th>\n",
       "      <th>dfb_Total_years_of_experience</th>\n",
       "      <th>dfb_Years_of_experience_in_Germany</th>\n",
       "      <th>dfb_is_main_lang_english</th>\n",
       "      <th>cooks_d</th>\n",
       "      <th>standard_resid</th>\n",
       "      <th>hat_diag</th>\n",
       "      <th>dffits_internal</th>\n",
       "      <th>student_resid</th>\n",
       "      <th>dffits</th>\n",
       "    </tr>\n",
       "    <tr>\n",
       "      <th>Timestamp</th>\n",
       "      <th></th>\n",
       "      <th></th>\n",
       "      <th></th>\n",
       "      <th></th>\n",
       "      <th></th>\n",
       "      <th></th>\n",
       "      <th></th>\n",
       "      <th></th>\n",
       "      <th></th>\n",
       "      <th></th>\n",
       "      <th></th>\n",
       "      <th></th>\n",
       "      <th></th>\n",
       "      <th></th>\n",
       "      <th></th>\n",
       "    </tr>\n",
       "  </thead>\n",
       "  <tbody>\n",
       "    <tr>\n",
       "      <th>01/01/2021 10:51:57</th>\n",
       "      <td>0.003090</td>\n",
       "      <td>-0.000325</td>\n",
       "      <td>0.004064</td>\n",
       "      <td>-0.000353</td>\n",
       "      <td>-0.000082</td>\n",
       "      <td>-0.005101</td>\n",
       "      <td>0.002805</td>\n",
       "      <td>0.003590</td>\n",
       "      <td>0.002870</td>\n",
       "      <td>2.057797e-05</td>\n",
       "      <td>0.239901</td>\n",
       "      <td>0.003208</td>\n",
       "      <td>0.013609</td>\n",
       "      <td>0.239802</td>\n",
       "      <td>0.013603</td>\n",
       "    </tr>\n",
       "    <tr>\n",
       "      <th>01/01/2021 13:40:08</th>\n",
       "      <td>-0.007788</td>\n",
       "      <td>0.008018</td>\n",
       "      <td>-0.000576</td>\n",
       "      <td>-0.000999</td>\n",
       "      <td>-0.000770</td>\n",
       "      <td>0.011256</td>\n",
       "      <td>0.003423</td>\n",
       "      <td>-0.019296</td>\n",
       "      <td>0.001677</td>\n",
       "      <td>1.139221e-04</td>\n",
       "      <td>0.480421</td>\n",
       "      <td>0.004423</td>\n",
       "      <td>0.032020</td>\n",
       "      <td>0.480260</td>\n",
       "      <td>0.032010</td>\n",
       "    </tr>\n",
       "    <tr>\n",
       "      <th>01/12/2020 00:06:49</th>\n",
       "      <td>0.009125</td>\n",
       "      <td>0.010082</td>\n",
       "      <td>0.003552</td>\n",
       "      <td>0.003143</td>\n",
       "      <td>0.002856</td>\n",
       "      <td>-0.001344</td>\n",
       "      <td>-0.004317</td>\n",
       "      <td>-0.003780</td>\n",
       "      <td>-0.029468</td>\n",
       "      <td>1.500114e-04</td>\n",
       "      <td>0.425359</td>\n",
       "      <td>0.007407</td>\n",
       "      <td>0.036744</td>\n",
       "      <td>0.425207</td>\n",
       "      <td>0.036731</td>\n",
       "    </tr>\n",
       "    <tr>\n",
       "      <th>01/12/2020 00:16:18</th>\n",
       "      <td>0.001012</td>\n",
       "      <td>0.000012</td>\n",
       "      <td>-0.003172</td>\n",
       "      <td>0.000179</td>\n",
       "      <td>0.000126</td>\n",
       "      <td>-0.001713</td>\n",
       "      <td>0.000333</td>\n",
       "      <td>0.004067</td>\n",
       "      <td>-0.000569</td>\n",
       "      <td>1.178479e-05</td>\n",
       "      <td>-0.181242</td>\n",
       "      <td>0.003218</td>\n",
       "      <td>-0.010299</td>\n",
       "      <td>-0.181165</td>\n",
       "      <td>-0.010294</td>\n",
       "    </tr>\n",
       "    <tr>\n",
       "      <th>01/12/2020 00:20:42</th>\n",
       "      <td>0.000097</td>\n",
       "      <td>-0.000010</td>\n",
       "      <td>0.000018</td>\n",
       "      <td>0.000044</td>\n",
       "      <td>-0.002278</td>\n",
       "      <td>-0.000345</td>\n",
       "      <td>0.000297</td>\n",
       "      <td>0.001381</td>\n",
       "      <td>-0.000110</td>\n",
       "      <td>2.334482e-06</td>\n",
       "      <td>-0.049994</td>\n",
       "      <td>0.008336</td>\n",
       "      <td>-0.004584</td>\n",
       "      <td>-0.049973</td>\n",
       "      <td>-0.004582</td>\n",
       "    </tr>\n",
       "    <tr>\n",
       "      <th>...</th>\n",
       "      <td>...</td>\n",
       "      <td>...</td>\n",
       "      <td>...</td>\n",
       "      <td>...</td>\n",
       "      <td>...</td>\n",
       "      <td>...</td>\n",
       "      <td>...</td>\n",
       "      <td>...</td>\n",
       "      <td>...</td>\n",
       "      <td>...</td>\n",
       "      <td>...</td>\n",
       "      <td>...</td>\n",
       "      <td>...</td>\n",
       "      <td>...</td>\n",
       "      <td>...</td>\n",
       "    </tr>\n",
       "    <tr>\n",
       "      <th>30/11/2020 23:38:05</th>\n",
       "      <td>0.000394</td>\n",
       "      <td>0.002002</td>\n",
       "      <td>-0.000104</td>\n",
       "      <td>-0.000202</td>\n",
       "      <td>-0.000070</td>\n",
       "      <td>-0.000341</td>\n",
       "      <td>0.000762</td>\n",
       "      <td>-0.002161</td>\n",
       "      <td>0.000754</td>\n",
       "      <td>5.103413e-06</td>\n",
       "      <td>0.121888</td>\n",
       "      <td>0.003082</td>\n",
       "      <td>0.006777</td>\n",
       "      <td>0.121835</td>\n",
       "      <td>0.006774</td>\n",
       "    </tr>\n",
       "    <tr>\n",
       "      <th>30/12/2020 02:23:59</th>\n",
       "      <td>-0.002264</td>\n",
       "      <td>0.000262</td>\n",
       "      <td>-0.007849</td>\n",
       "      <td>0.000163</td>\n",
       "      <td>0.000106</td>\n",
       "      <td>0.003492</td>\n",
       "      <td>0.003730</td>\n",
       "      <td>-0.001634</td>\n",
       "      <td>-0.003923</td>\n",
       "      <td>6.656940e-05</td>\n",
       "      <td>-0.449768</td>\n",
       "      <td>0.002953</td>\n",
       "      <td>-0.024477</td>\n",
       "      <td>-0.449611</td>\n",
       "      <td>-0.024468</td>\n",
       "    </tr>\n",
       "    <tr>\n",
       "      <th>30/12/2020 13:18:32</th>\n",
       "      <td>0.001519</td>\n",
       "      <td>-0.000073</td>\n",
       "      <td>-0.000116</td>\n",
       "      <td>-0.000273</td>\n",
       "      <td>0.008689</td>\n",
       "      <td>-0.001628</td>\n",
       "      <td>0.001159</td>\n",
       "      <td>-0.002592</td>\n",
       "      <td>0.001001</td>\n",
       "      <td>3.205324e-05</td>\n",
       "      <td>0.189967</td>\n",
       "      <td>0.007930</td>\n",
       "      <td>0.016985</td>\n",
       "      <td>0.189887</td>\n",
       "      <td>0.016978</td>\n",
       "    </tr>\n",
       "    <tr>\n",
       "      <th>30/12/2020 16:32:25</th>\n",
       "      <td>0.000207</td>\n",
       "      <td>-0.000019</td>\n",
       "      <td>0.000219</td>\n",
       "      <td>-0.000010</td>\n",
       "      <td>-0.000001</td>\n",
       "      <td>-0.000344</td>\n",
       "      <td>0.000020</td>\n",
       "      <td>0.000355</td>\n",
       "      <td>0.000188</td>\n",
       "      <td>6.984142e-08</td>\n",
       "      <td>0.012857</td>\n",
       "      <td>0.003788</td>\n",
       "      <td>0.000793</td>\n",
       "      <td>0.012852</td>\n",
       "      <td>0.000792</td>\n",
       "    </tr>\n",
       "    <tr>\n",
       "      <th>31/12/2020 17:56:25</th>\n",
       "      <td>-0.003654</td>\n",
       "      <td>0.006776</td>\n",
       "      <td>-0.000920</td>\n",
       "      <td>-0.000907</td>\n",
       "      <td>-0.000799</td>\n",
       "      <td>0.001857</td>\n",
       "      <td>0.004235</td>\n",
       "      <td>0.000271</td>\n",
       "      <td>0.006713</td>\n",
       "      <td>6.203121e-05</td>\n",
       "      <td>0.444636</td>\n",
       "      <td>0.002816</td>\n",
       "      <td>0.023628</td>\n",
       "      <td>0.444480</td>\n",
       "      <td>0.023620</td>\n",
       "    </tr>\n",
       "  </tbody>\n",
       "</table>\n",
       "<p>1160 rows × 15 columns</p>\n",
       "</div>"
      ],
      "text/plain": [
       "                     dfb_const  dfb_Company_size_1000+  \\\n",
       "Timestamp                                                \n",
       "01/01/2021 10:51:57   0.003090               -0.000325   \n",
       "01/01/2021 13:40:08  -0.007788                0.008018   \n",
       "01/12/2020 00:06:49   0.009125                0.010082   \n",
       "01/12/2020 00:16:18   0.001012                0.000012   \n",
       "01/12/2020 00:20:42   0.000097               -0.000010   \n",
       "...                        ...                     ...   \n",
       "30/11/2020 23:38:05   0.000394                0.002002   \n",
       "30/12/2020 02:23:59  -0.002264                0.000262   \n",
       "30/12/2020 13:18:32   0.001519               -0.000073   \n",
       "30/12/2020 16:32:25   0.000207               -0.000019   \n",
       "31/12/2020 17:56:25  -0.003654                0.006776   \n",
       "\n",
       "                     dfb_Company_size_101-1000  dfb_Company_size_11-50  \\\n",
       "Timestamp                                                                \n",
       "01/01/2021 10:51:57                   0.004064               -0.000353   \n",
       "01/01/2021 13:40:08                  -0.000576               -0.000999   \n",
       "01/12/2020 00:06:49                   0.003552                0.003143   \n",
       "01/12/2020 00:16:18                  -0.003172                0.000179   \n",
       "01/12/2020 00:20:42                   0.000018                0.000044   \n",
       "...                                        ...                     ...   \n",
       "30/11/2020 23:38:05                  -0.000104               -0.000202   \n",
       "30/12/2020 02:23:59                  -0.007849                0.000163   \n",
       "30/12/2020 13:18:32                  -0.000116               -0.000273   \n",
       "30/12/2020 16:32:25                   0.000219               -0.000010   \n",
       "31/12/2020 17:56:25                  -0.000920               -0.000907   \n",
       "\n",
       "                     dfb_Company_size_51-100   dfb_Age  \\\n",
       "Timestamp                                                \n",
       "01/01/2021 10:51:57                -0.000082 -0.005101   \n",
       "01/01/2021 13:40:08                -0.000770  0.011256   \n",
       "01/12/2020 00:06:49                 0.002856 -0.001344   \n",
       "01/12/2020 00:16:18                 0.000126 -0.001713   \n",
       "01/12/2020 00:20:42                -0.002278 -0.000345   \n",
       "...                                      ...       ...   \n",
       "30/11/2020 23:38:05                -0.000070 -0.000341   \n",
       "30/12/2020 02:23:59                 0.000106  0.003492   \n",
       "30/12/2020 13:18:32                 0.008689 -0.001628   \n",
       "30/12/2020 16:32:25                -0.000001 -0.000344   \n",
       "31/12/2020 17:56:25                -0.000799  0.001857   \n",
       "\n",
       "                     dfb_Total_years_of_experience  \\\n",
       "Timestamp                                            \n",
       "01/01/2021 10:51:57                       0.002805   \n",
       "01/01/2021 13:40:08                       0.003423   \n",
       "01/12/2020 00:06:49                      -0.004317   \n",
       "01/12/2020 00:16:18                       0.000333   \n",
       "01/12/2020 00:20:42                       0.000297   \n",
       "...                                            ...   \n",
       "30/11/2020 23:38:05                       0.000762   \n",
       "30/12/2020 02:23:59                       0.003730   \n",
       "30/12/2020 13:18:32                       0.001159   \n",
       "30/12/2020 16:32:25                       0.000020   \n",
       "31/12/2020 17:56:25                       0.004235   \n",
       "\n",
       "                     dfb_Years_of_experience_in_Germany  \\\n",
       "Timestamp                                                 \n",
       "01/01/2021 10:51:57                            0.003590   \n",
       "01/01/2021 13:40:08                           -0.019296   \n",
       "01/12/2020 00:06:49                           -0.003780   \n",
       "01/12/2020 00:16:18                            0.004067   \n",
       "01/12/2020 00:20:42                            0.001381   \n",
       "...                                                 ...   \n",
       "30/11/2020 23:38:05                           -0.002161   \n",
       "30/12/2020 02:23:59                           -0.001634   \n",
       "30/12/2020 13:18:32                           -0.002592   \n",
       "30/12/2020 16:32:25                            0.000355   \n",
       "31/12/2020 17:56:25                            0.000271   \n",
       "\n",
       "                     dfb_is_main_lang_english       cooks_d  standard_resid  \\\n",
       "Timestamp                                                                     \n",
       "01/01/2021 10:51:57                  0.002870  2.057797e-05        0.239901   \n",
       "01/01/2021 13:40:08                  0.001677  1.139221e-04        0.480421   \n",
       "01/12/2020 00:06:49                 -0.029468  1.500114e-04        0.425359   \n",
       "01/12/2020 00:16:18                 -0.000569  1.178479e-05       -0.181242   \n",
       "01/12/2020 00:20:42                 -0.000110  2.334482e-06       -0.049994   \n",
       "...                                       ...           ...             ...   \n",
       "30/11/2020 23:38:05                  0.000754  5.103413e-06        0.121888   \n",
       "30/12/2020 02:23:59                 -0.003923  6.656940e-05       -0.449768   \n",
       "30/12/2020 13:18:32                  0.001001  3.205324e-05        0.189967   \n",
       "30/12/2020 16:32:25                  0.000188  6.984142e-08        0.012857   \n",
       "31/12/2020 17:56:25                  0.006713  6.203121e-05        0.444636   \n",
       "\n",
       "                     hat_diag  dffits_internal  student_resid    dffits  \n",
       "Timestamp                                                                \n",
       "01/01/2021 10:51:57  0.003208         0.013609       0.239802  0.013603  \n",
       "01/01/2021 13:40:08  0.004423         0.032020       0.480260  0.032010  \n",
       "01/12/2020 00:06:49  0.007407         0.036744       0.425207  0.036731  \n",
       "01/12/2020 00:16:18  0.003218        -0.010299      -0.181165 -0.010294  \n",
       "01/12/2020 00:20:42  0.008336        -0.004584      -0.049973 -0.004582  \n",
       "...                       ...              ...            ...       ...  \n",
       "30/11/2020 23:38:05  0.003082         0.006777       0.121835  0.006774  \n",
       "30/12/2020 02:23:59  0.002953        -0.024477      -0.449611 -0.024468  \n",
       "30/12/2020 13:18:32  0.007930         0.016985       0.189887  0.016978  \n",
       "30/12/2020 16:32:25  0.003788         0.000793       0.012852  0.000792  \n",
       "31/12/2020 17:56:25  0.002816         0.023628       0.444480  0.023620  \n",
       "\n",
       "[1160 rows x 15 columns]"
      ]
     },
     "execution_count": 221,
     "metadata": {},
     "output_type": "execute_result"
    }
   ],
   "source": [
    "influence = model2.get_influence()\n",
    "inf_sum = influence.summary_frame()\n",
    "inf_sum"
   ]
  },
  {
   "cell_type": "code",
   "execution_count": 222,
   "metadata": {},
   "outputs": [
    {
     "data": {
      "text/plain": [
       "Timestamp\n",
       "06/12/2020 21:51:21   -17.966454\n",
       "26/11/2020 17:08:47     2.579853\n",
       "Name: dffits, dtype: float64"
      ]
     },
     "execution_count": 222,
     "metadata": {},
     "output_type": "execute_result"
    }
   ],
   "source": [
    "inf_sum['dffits'][(inf_sum['dffits']>1) | (inf_sum['dffits']<-1)].sort_values()\n",
    "#потенциальные влияющие наблюдения"
   ]
  },
  {
   "cell_type": "code",
   "execution_count": 224,
   "metadata": {},
   "outputs": [
    {
     "data": {
      "text/plain": [
       "Timestamp\n",
       "06/12/2020 21:51:21    -5.926134\n",
       "25/11/2020 13:12:26     3.117899\n",
       "26/11/2020 05:53:19     3.336793\n",
       "05/01/2021 23:03:40     3.456932\n",
       "25/11/2020 13:16:43     3.774251\n",
       "24/11/2020 21:36:24     3.923304\n",
       "27/11/2020 13:02:41     4.017120\n",
       "30/11/2020 14:36:32     4.030744\n",
       "25/11/2020 15:53:21     5.397562\n",
       "26/11/2020 22:41:33     5.441045\n",
       "25/11/2020 13:26:21     7.425434\n",
       "26/11/2020 17:08:47    24.181708\n",
       "Name: standard_resid, dtype: float64"
      ]
     },
     "execution_count": 224,
     "metadata": {},
     "output_type": "execute_result"
    }
   ],
   "source": [
    "inf_sum['standard_resid'][(inf_sum['standard_resid']>3) | (inf_sum['standard_resid']<-3)].sort_values()\n",
    "#потенциальные выбросы"
   ]
  },
  {
   "cell_type": "markdown",
   "metadata": {},
   "source": [
    "## Выводы"
   ]
  },
  {
   "cell_type": "markdown",
   "metadata": {},
   "source": [
    "# Этот файл нужно сохранить как Notebook (.ipynb) и загрузить в Smart LMS до 23:55 16 ноября."
   ]
  }
 ],
 "metadata": {
  "kernelspec": {
   "display_name": "Python 3 (ipykernel)",
   "language": "python",
   "name": "python3"
  },
  "language_info": {
   "codemirror_mode": {
    "name": "ipython",
    "version": 3
   },
   "file_extension": ".py",
   "mimetype": "text/x-python",
   "name": "python",
   "nbconvert_exporter": "python",
   "pygments_lexer": "ipython3",
   "version": "3.7.6"
  }
 },
 "nbformat": 4,
 "nbformat_minor": 2
}
