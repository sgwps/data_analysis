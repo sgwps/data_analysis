{
  "cells": [
    {
      "cell_type": "markdown",
      "metadata": {
        "id": "2zowFSx1tsHz"
      },
      "source": [
        "# Домашее задание №4"
      ]
    },
    {
      "cell_type": "markdown",
      "metadata": {
        "id": "Kzd25HOqtsH3"
      },
      "source": [
        "С 2015 года ежегодно проводится анонимный опрос европейских ИТ-специалистов, включающий информацию об их доходах.\n",
        "\n",
        "Источник: https://www.kaggle.com/parulpandey/2020-it-salary-survey-for-eu-region\n",
        "\n",
        "В файле IT_Salary_Survey_EU_2020.csv содержаться следующие переменные:\n",
        "\n",
        "    - Age\n",
        "    - Gender\n",
        "    - City\n",
        "    - Position\n",
        "    - Total years of experience\n",
        "    - Years of experience in Germany\n",
        "    - Seniority level\n",
        "    - Your main technology / programming language\n",
        "    - Other technologies/programming languages you use often\n",
        "    - Yearly brutto salary (without bonus and stocks) in EUR\n",
        "    - Yearly bonus + stocks in EUR\n",
        "    - Annual brutto salary (without bonus and stocks) one year ago. Only answer if staying in the same country\n",
        "    - Annual bonus+stocks one year ago. Only answer if staying in same country\n",
        "    - Number of vacation days\n",
        "    - Employment status\n",
        "    - Сontract duration\n",
        "    - Main language at work\n",
        "    - Company size\n",
        "    - Company type\n",
        "    - Have you lost your job due to the coronavirus outbreak?\n",
        "    - Have you been forced to have a shorter working week (Kurzarbeit)? If yes, how many hours per week\n",
        "    - Have you received additional monetary support from your employer due to Work From Home? If yes, how much in 2020 in EUR!\n",
        "\n",
        "\n",
        "\n",
        "Задания:\n",
        "\n",
        "    •\tПостройте модель множественной линейной регрессии выбрав в качестве зависимой одну из переменных, характеризующих доход IT-специалиста. Выберите не менее 7-ми переменных в качестве независимых. Среди независимых переменных должно быть не менее 2 категориальных.\n",
        "    \n",
        "    •\tСформулируйте гипотезы исследования.\n",
        "    \n",
        "    •\tНапишите уравнение регрессии.\n",
        "    \n",
        "    •\tОцените характеристики регрессионной модели в целом.\n",
        "    \n",
        "    •\tОцените значимость регрессионных коэффициентов. Сравните их между собой по силе взаимосвязи с зависимой переменной.\n",
        "    \n",
        "    •\tПодробно интерпретируйте особенности взаимосвязи между каждым из предикторов и зависимой переменной. Это очень важный пункт задания, поскольку именно в нем мы делаем выводы о том, какие факторы и как могут влиять за зарплату IT-специалиста!\n",
        "    \n",
        "    •\tПроведите диагностику модели. Есть ли в модели выбросы и/или влияющие наблюдения? Чем это может объясняться?\n",
        "    \n",
        "    •\tСформулируйте общие содержательные выводы по результатам регрессионного анализа данных. Какие результаты анализа данных для вас оказались очевидными, а какие неожиданными?"
      ]
    },
    {
      "cell_type": "markdown",
      "metadata": {
        "id": "C_h_EhC0tsH4"
      },
      "source": [
        "Обратите внимание, что все пункты задания должны сопровождаться _выполненным_ фрагментом кода!"
      ]
    },
    {
      "cell_type": "markdown",
      "metadata": {
        "id": "qo7OXyoXtsH5"
      },
      "source": [
        "## Let's get it started"
      ]
    },
    {
      "cell_type": "code",
      "execution_count": 1,
      "metadata": {
        "id": "v_CRMyRstsH5"
      },
      "outputs": [],
      "source": [
        "import pandas as pd\n",
        "import seaborn as sns\n",
        "import matplotlib.pyplot as plt\n",
        "from scipy import stats\n",
        "import numpy as np\n",
        "from statsmodels.stats.outliers_influence import variance_inflation_factor as vif"
      ]
    },
    {
      "cell_type": "code",
      "execution_count": 2,
      "metadata": {
        "colab": {
          "base_uri": "https://localhost:8080/"
        },
        "id": "hRs3-haLtsH6",
        "outputId": "02b3934f-e0c0-41bc-c71e-3b7fb67ef2a1"
      },
      "outputs": [
        {
          "data": {
            "text/plain": [
              "(1253, 22)"
            ]
          },
          "execution_count": 2,
          "metadata": {},
          "output_type": "execute_result"
        }
      ],
      "source": [
        "df = pd.read_csv('IT_Salary_Survey_EU_2020.csv', index_col=0)\n",
        "df.shape"
      ]
    },
    {
      "cell_type": "code",
      "execution_count": 36,
      "metadata": {
        "colab": {
          "base_uri": "https://localhost:8080/"
        },
        "id": "3F5iuyp8tsH7",
        "outputId": "5f56fed9-6127-4589-f0c6-8e20567b3310"
      },
      "outputs": [
        {
          "name": "stdout",
          "output_type": "stream",
          "text": [
            "Type: float64\n",
            "['Age' 'Yearly brutto salary (without bonus and stocks) in EUR'\n",
            " 'Annual brutto salary (without bonus and stocks) one year ago. Only answer if staying in the same country'\n",
            " 'Have you been forced to have a shorter working week (Kurzarbeit)? If yes, how many hours per week'\n",
            " 'is_main_lang_english' 'Total_years_of_experience'\n",
            " 'Years_of_experience_in_Germany' 'is_male' 'grade']\n",
            "\n",
            "Type: object\n",
            "['Gender' 'City' 'Position ' 'Total years of experience'\n",
            " 'Years of experience in Germany' 'Seniority level'\n",
            " 'Your main technology / programming language'\n",
            " 'Other technologies/programming languages you use often'\n",
            " 'Yearly bonus + stocks in EUR'\n",
            " 'Annual bonus+stocks one year ago. Only answer if staying in same country'\n",
            " 'Number of vacation days' 'Employment status' 'Сontract duration'\n",
            " 'Main language at work' 'Company_size' 'Company type'\n",
            " 'Have you lost your job due to the coronavirus outbreak?'\n",
            " 'Have you received additional monetary support from your employer due to Work From Home? If yes, how much in 2020 in EUR']\n",
            "\n",
            "Type: bool\n",
            "['Company_size_1000+' 'Company_size_101-1000' 'Company_size_11-50'\n",
            " 'Company_size_51-100' 'Company_size_up to 10']\n",
            "\n",
            "Type: int64\n",
            "['brutto_salary']\n",
            "\n"
          ]
        }
      ],
      "source": [
        "# Названия переменных, сгруппированные по типам данных\n",
        "for t in df.dtypes.unique():\n",
        "     print('Type: {}\\n{}\\n'.format(t, df.dtypes[df.dtypes==t].index.values))"
      ]
    },
    {
      "cell_type": "code",
      "execution_count": 4,
      "metadata": {
        "colab": {
          "base_uri": "https://localhost:8080/",
          "height": 739
        },
        "id": "5eckJEOmtsH8",
        "outputId": "d997f23a-132e-4e68-9576-c734c328d8d9"
      },
      "outputs": [
        {
          "data": {
            "text/html": [
              "<div>\n",
              "<style scoped>\n",
              "    .dataframe tbody tr th:only-of-type {\n",
              "        vertical-align: middle;\n",
              "    }\n",
              "\n",
              "    .dataframe tbody tr th {\n",
              "        vertical-align: top;\n",
              "    }\n",
              "\n",
              "    .dataframe thead th {\n",
              "        text-align: right;\n",
              "    }\n",
              "</style>\n",
              "<table border=\"1\" class=\"dataframe\">\n",
              "  <thead>\n",
              "    <tr style=\"text-align: right;\">\n",
              "      <th></th>\n",
              "      <th>Процент пропущенных значений</th>\n",
              "    </tr>\n",
              "  </thead>\n",
              "  <tbody>\n",
              "    <tr>\n",
              "      <th>Have you been forced to have a shorter working week (Kurzarbeit)? If yes, how many hours per week</th>\n",
              "      <td>70.231445</td>\n",
              "    </tr>\n",
              "    <tr>\n",
              "      <th>Have you received additional monetary support from your employer due to Work From Home? If yes, how much in 2020 in EUR</th>\n",
              "      <td>63.128492</td>\n",
              "    </tr>\n",
              "    <tr>\n",
              "      <th>Annual bonus+stocks one year ago. Only answer if staying in same country</th>\n",
              "      <td>50.997606</td>\n",
              "    </tr>\n",
              "    <tr>\n",
              "      <th>Yearly bonus + stocks in EUR</th>\n",
              "      <td>33.838787</td>\n",
              "    </tr>\n",
              "    <tr>\n",
              "      <th>Annual brutto salary (without bonus and stocks) one year ago. Only answer if staying in the same country</th>\n",
              "      <td>29.369513</td>\n",
              "    </tr>\n",
              "    <tr>\n",
              "      <th>Other technologies/programming languages you use often</th>\n",
              "      <td>12.529928</td>\n",
              "    </tr>\n",
              "    <tr>\n",
              "      <th>Your main technology / programming language</th>\n",
              "      <td>10.135674</td>\n",
              "    </tr>\n",
              "    <tr>\n",
              "      <th>Number of vacation days</th>\n",
              "      <td>5.426975</td>\n",
              "    </tr>\n",
              "    <tr>\n",
              "      <th>Years of experience in Germany</th>\n",
              "      <td>2.553871</td>\n",
              "    </tr>\n",
              "    <tr>\n",
              "      <th>Сontract duration</th>\n",
              "      <td>2.314445</td>\n",
              "    </tr>\n",
              "    <tr>\n",
              "      <th>Age</th>\n",
              "      <td>2.154828</td>\n",
              "    </tr>\n",
              "    <tr>\n",
              "      <th>Company type</th>\n",
              "      <td>1.995211</td>\n",
              "    </tr>\n",
              "    <tr>\n",
              "      <th>Have you lost your job due to the coronavirus outbreak?</th>\n",
              "      <td>1.596169</td>\n",
              "    </tr>\n",
              "    <tr>\n",
              "      <th>Company size</th>\n",
              "      <td>1.436552</td>\n",
              "    </tr>\n",
              "    <tr>\n",
              "      <th>Employment status</th>\n",
              "      <td>1.356744</td>\n",
              "    </tr>\n",
              "    <tr>\n",
              "      <th>Total years of experience</th>\n",
              "      <td>1.276935</td>\n",
              "    </tr>\n",
              "    <tr>\n",
              "      <th>Main language at work</th>\n",
              "      <td>1.276935</td>\n",
              "    </tr>\n",
              "    <tr>\n",
              "      <th>Seniority level</th>\n",
              "      <td>0.957702</td>\n",
              "    </tr>\n",
              "    <tr>\n",
              "      <th>Gender</th>\n",
              "      <td>0.798085</td>\n",
              "    </tr>\n",
              "    <tr>\n",
              "      <th>Position</th>\n",
              "      <td>0.478851</td>\n",
              "    </tr>\n",
              "    <tr>\n",
              "      <th>Yearly brutto salary (without bonus and stocks) in EUR</th>\n",
              "      <td>0.000000</td>\n",
              "    </tr>\n",
              "    <tr>\n",
              "      <th>City</th>\n",
              "      <td>0.000000</td>\n",
              "    </tr>\n",
              "  </tbody>\n",
              "</table>\n",
              "</div>"
            ],
            "text/plain": [
              "                                                    Процент пропущенных значений\n",
              "Have you been forced to have a shorter working ...                     70.231445\n",
              "Have you received additional monetary support f...                     63.128492\n",
              "Annual bonus+stocks one year ago. Only answer i...                     50.997606\n",
              "Yearly bonus + stocks in EUR                                           33.838787\n",
              "Annual brutto salary (without bonus and stocks)...                     29.369513\n",
              "Other technologies/programming languages you us...                     12.529928\n",
              "Your main technology / programming language                            10.135674\n",
              "Number of vacation days                                                 5.426975\n",
              "Years of experience in Germany                                          2.553871\n",
              "Сontract duration                                                       2.314445\n",
              "Age                                                                     2.154828\n",
              "Company type                                                            1.995211\n",
              "Have you lost your job due to the coronavirus o...                      1.596169\n",
              "Company size                                                            1.436552\n",
              "Employment status                                                       1.356744\n",
              "Total years of experience                                               1.276935\n",
              "Main language at work                                                   1.276935\n",
              "Seniority level                                                         0.957702\n",
              "Gender                                                                  0.798085\n",
              "Position                                                                0.478851\n",
              "Yearly brutto salary (without bonus and stocks)...                      0.000000\n",
              "City                                                                    0.000000"
            ]
          },
          "execution_count": 4,
          "metadata": {},
          "output_type": "execute_result"
        }
      ],
      "source": [
        "#Процент пропущенных значений по переменным, содержащим пропуски\n",
        "missing = (df.isna().sum() / len(df)) * 100\n",
        "missing = missing[missing >= 0].sort_values(ascending=False)\n",
        "missing = pd.DataFrame({'Процент пропущенных значений' : missing})\n",
        "missing"
      ]
    },
    {
      "cell_type": "markdown",
      "metadata": {
        "id": "_Uk2NIkytsH8"
      },
      "source": [
        "## Независимые переменные"
      ]
    },
    {
      "cell_type": "markdown",
      "metadata": {
        "id": "yvEH5X0ItsH8"
      },
      "source": [
        "#### Выпишем независимые переменные\n",
        "- Возраст (Age)\n",
        "- Общий опыт работы (Total years of experience)\n",
        "- Опыт работы в Германии (Years of experience in Germany)\n",
        "\n",
        "Из них категориальные:\n",
        "- Основной язык в работе (Main language at work)\n",
        "- Размер компании (Company size)\n",
        "- Пол (Gender)\n",
        "- Грейд (Seniority level)"
      ]
    },
    {
      "cell_type": "code",
      "execution_count": 5,
      "metadata": {
        "id": "D5eW9pNYtsH9"
      },
      "outputs": [],
      "source": [
        "df = df.dropna(subset=['Age'])\n"
      ]
    },
    {
      "cell_type": "markdown",
      "metadata": {
        "id": "vo1bz1rptsH9"
      },
      "source": [
        "#### Основной язык в работе"
      ]
    },
    {
      "cell_type": "code",
      "execution_count": 6,
      "metadata": {
        "colab": {
          "base_uri": "https://localhost:8080/"
        },
        "id": "pu_AGejptsH9",
        "outputId": "fe60bb13-5360-4d02-b7a7-e4dce4a210f3"
      },
      "outputs": [
        {
          "data": {
            "text/plain": [
              "Main language at work\n",
              "English               1002\n",
              "German                 181\n",
              "Russian                 12\n",
              "Italian                  3\n",
              "Spanish                  3\n",
              "English and German       2\n",
              "Polish                   2\n",
              "Русский                  2\n",
              "Czech                    2\n",
              "50/50                    1\n",
              "Deuglisch                1\n",
              "French                   1\n",
              "both                     1\n",
              "Russian, English         1\n",
              "Name: count, dtype: int64"
            ]
          },
          "execution_count": 6,
          "metadata": {},
          "output_type": "execute_result"
        }
      ],
      "source": [
        "df['Main language at work'].value_counts()\n"
      ]
    },
    {
      "cell_type": "markdown",
      "metadata": {
        "id": "XBW3g2mstsH9"
      },
      "source": [
        "Оставим только английский и немецкий, случаями их комбинации (например, English and German) пренебрежём в силу их малого количества."
      ]
    },
    {
      "cell_type": "code",
      "execution_count": 7,
      "metadata": {
        "id": "YOhqp4uStsH-"
      },
      "outputs": [],
      "source": [
        "lang_dict = {'English' : 1, 'German' : 0}\n",
        "\n",
        "df['is_main_lang_english'] = df['Main language at work'].apply(lambda x: lang_dict.get(x))\n",
        "df['is_main_lang_english'].value_counts()\n",
        "df = df.dropna(subset=['is_main_lang_english'])\n"
      ]
    },
    {
      "cell_type": "markdown",
      "metadata": {
        "id": "aXlqDmsj2tzC"
      },
      "source": [
        "#### Общий опыт работы"
      ]
    },
    {
      "cell_type": "code",
      "execution_count": 8,
      "metadata": {
        "colab": {
          "base_uri": "https://localhost:8080/"
        },
        "id": "NTqqeGyg2P-g",
        "outputId": "4ff9632e-688a-4bfc-f325-58be6871e1cf"
      },
      "outputs": [
        {
          "data": {
            "text/plain": [
              "Total years of experience\n",
              "10                                                     132\n",
              "5                                                      126\n",
              "6                                                       97\n",
              "8                                                       86\n",
              "7                                                       83\n",
              "4                                                       75\n",
              "12                                                      65\n",
              "15                                                      60\n",
              "3                                                       60\n",
              "9                                                       59\n",
              "2                                                       50\n",
              "13                                                      41\n",
              "11                                                      41\n",
              "14                                                      38\n",
              "1                                                       29\n",
              "20                                                      27\n",
              "16                                                      19\n",
              "18                                                      15\n",
              "17                                                      12\n",
              "19                                                       7\n",
              "25                                                       6\n",
              "0                                                        6\n",
              "30                                                       4\n",
              "22                                                       4\n",
              "21                                                       3\n",
              "2.5                                                      3\n",
              "0.8                                                      2\n",
              "1.5                                                      2\n",
              "1,5                                                      2\n",
              "3.5                                                      2\n",
              "4.5                                                      2\n",
              "27                                                       2\n",
              "23                                                       2\n",
              "1 (as QA Engineer) / 11 in total                         1\n",
              "6 (not as a data scientist, but as a lab scientist)      1\n",
              "383                                                      1\n",
              "31                                                       1\n",
              "15, thereof 8 as CTO                                     1\n",
              "2,5                                                      1\n",
              "5.5                                                      1\n",
              "24                                                       1\n",
              "29                                                       1\n",
              "28                                                       1\n",
              "6.5                                                      1\n",
              "26                                                       1\n",
              "40                                                       1\n",
              "less than year                                           1\n",
              "Name: count, dtype: int64"
            ]
          },
          "execution_count": 8,
          "metadata": {},
          "output_type": "execute_result"
        }
      ],
      "source": [
        "df['Total years of experience'].value_counts()\n"
      ]
    },
    {
      "cell_type": "markdown",
      "metadata": {
        "id": "G25lkyrt2hmC"
      },
      "source": [
        "Заменим недопустимые встречающиеся значения переменной 'Total years of experience':"
      ]
    },
    {
      "cell_type": "code",
      "execution_count": 9,
      "metadata": {
        "id": "pFQFQY3DtsH-"
      },
      "outputs": [],
      "source": [
        "df['Total years of experience'] = df['Total years of experience'].replace('less than year',0)\n",
        "df['Total years of experience'] = df['Total years of experience'].replace('1,5',1.5)\n",
        "df['Total years of experience'] = df['Total years of experience'].replace('2,5',2.5)\n",
        "df['Total years of experience'] = df['Total years of experience'].replace('1 (as QA Engineer) / 11 in total', None)\n",
        "df['Total years of experience'] = df['Total years of experience'].replace('15, thereof 8 as CTO', None)\n",
        "df['Total years of experience'] = df['Total years of experience'].replace('16 (not as a data scientist, but as a lab scientist)', None)\n",
        "df['Total years of experience'] = df['Total years of experience'].replace('6 (not as a data scientist, but as a lab scientist)', None)\n",
        "df = df.dropna(subset=['Total years of experience'])\n",
        "df['Total_years_of_experience'] = df['Total years of experience'].apply(lambda x: float(x))\n",
        "df = df.dropna(subset=['Total_years_of_experience'])\n"
      ]
    },
    {
      "cell_type": "markdown",
      "metadata": {
        "id": "KMXphpbI28yc"
      },
      "source": [
        "#### Опыт работы в Германии"
      ]
    },
    {
      "cell_type": "markdown",
      "metadata": {
        "id": "huz-4mZU3In8"
      },
      "source": [
        "Аналогично убираем недопустимые принимаемые значения:"
      ]
    },
    {
      "cell_type": "code",
      "execution_count": 10,
      "metadata": {
        "id": "s0NtnrNPtsH-"
      },
      "outputs": [],
      "source": [
        "df['Years of experience in Germany'] = df['Years of experience in Germany'].replace('4 (in Switzerland). 0 (in Germany)', 0)\n",
        "df['Years of experience in Germany'] = df['Years of experience in Germany'].replace('4 month', 0.3)\n",
        "df['Years of experience in Germany'] = df['Years of experience in Germany'].replace('3 months', 0.25)\n",
        "df['Years of experience in Germany'] = df['Years of experience in Germany'].replace('3 (in Poland)', 0)\n",
        "\n",
        "df['Years of experience in Germany'] = df['Years of experience in Germany'].apply(lambda x: str(x).replace(',', '.'))\n",
        "values = df['Years of experience in Germany'].values.tolist()\n",
        "for i in values:\n",
        "    try:\n",
        "        float(i)\n",
        "    except ValueError:\n",
        "        df['Years of experience in Germany'] = df['Years of experience in Germany'].replace(i, None)\n",
        "\n",
        "\n",
        "df = df.dropna(subset=['Years of experience in Germany'])\n",
        "df['Years_of_experience_in_Germany']= df['Years of experience in Germany'].apply(lambda x: float(x))\n",
        "\n",
        "df = df.dropna(subset=['Years_of_experience_in_Germany'])\n"
      ]
    },
    {
      "cell_type": "markdown",
      "metadata": {
        "id": "mHAhG4c_3PQS"
      },
      "source": [
        "#### Размер компании"
      ]
    },
    {
      "cell_type": "code",
      "execution_count": 11,
      "metadata": {
        "colab": {
          "base_uri": "https://localhost:8080/"
        },
        "id": "1owMO27btsH-",
        "outputId": "d5cca790-7292-4d5f-cf45-48e99fa2ed14"
      },
      "outputs": [
        {
          "data": {
            "text/plain": [
              "Company_size\n",
              "1000+       411\n",
              "101-1000    382\n",
              "11-50       160\n",
              "51-100      137\n",
              "up to 10     57\n",
              "Name: count, dtype: int64"
            ]
          },
          "execution_count": 11,
          "metadata": {},
          "output_type": "execute_result"
        }
      ],
      "source": [
        "df = df.rename(columns={'Company size' : 'Company_size'})\n",
        "df['Company_size'].value_counts()"
      ]
    },
    {
      "cell_type": "markdown",
      "metadata": {
        "id": "wCKsqX6s3Xnv"
      },
      "source": [
        "Убираем пропуски:"
      ]
    },
    {
      "cell_type": "code",
      "execution_count": 12,
      "metadata": {
        "id": "Oo9wmSiQtsH-"
      },
      "outputs": [],
      "source": [
        "df = df.dropna(subset=['Company_size'])"
      ]
    },
    {
      "cell_type": "markdown",
      "metadata": {
        "id": "T1tkxJFQ3elt"
      },
      "source": [
        "Создаем дамми-переменные:"
      ]
    },
    {
      "cell_type": "code",
      "execution_count": 13,
      "metadata": {
        "id": "r843o8I_tsH_"
      },
      "outputs": [],
      "source": [
        "company_size_dummies = pd.get_dummies(df.Company_size, prefix='Company_size', prefix_sep='_')\n",
        "\n",
        "df = pd.concat([df, company_size_dummies], axis=1)"
      ]
    },
    {
      "cell_type": "markdown",
      "metadata": {},
      "source": [
        "### Пол"
      ]
    },
    {
      "cell_type": "code",
      "execution_count": 14,
      "metadata": {},
      "outputs": [
        {
          "data": {
            "text/plain": [
              "Gender\n",
              "Male       963\n",
              "Female     179\n",
              "Diverse      2\n",
              "Name: count, dtype: int64"
            ]
          },
          "execution_count": 14,
          "metadata": {},
          "output_type": "execute_result"
        }
      ],
      "source": [
        "df['Gender'].value_counts()"
      ]
    },
    {
      "cell_type": "code",
      "execution_count": 15,
      "metadata": {},
      "outputs": [],
      "source": [
        "gender_dict = {'Male' : 1, 'Female' : 0}\n",
        "\n",
        "df['is_male'] = df['Gender'].apply(lambda x: gender_dict.get(x))\n",
        "df = df.dropna(subset=['is_male'])"
      ]
    },
    {
      "cell_type": "markdown",
      "metadata": {},
      "source": [
        "### Грейд\n"
      ]
    },
    {
      "cell_type": "code",
      "execution_count": 16,
      "metadata": {},
      "outputs": [
        {
          "data": {
            "text/plain": [
              "Seniority level\n",
              "Senior                                       520\n",
              "Middle                                       331\n",
              "Lead                                         155\n",
              "Junior                                        71\n",
              "Head                                          40\n",
              "Principal                                      3\n",
              "C-level executive manager                      1\n",
              "Intern                                         1\n",
              "Entry level                                    1\n",
              "Working Student                                1\n",
              "no idea, there are no ranges in the firm       1\n",
              "Student                                        1\n",
              "intern                                         1\n",
              "Director                                       1\n",
              "Key                                            1\n",
              "No level                                       1\n",
              "CTO                                            1\n",
              "Work Center Manager                            1\n",
              "Manager                                        1\n",
              "VP                                             1\n",
              "No level                                       1\n",
              "Self employed                                  1\n",
              "Name: count, dtype: int64"
            ]
          },
          "execution_count": 16,
          "metadata": {},
          "output_type": "execute_result"
        }
      ],
      "source": [
        "col = 'Seniority level'\n",
        "df[col].value_counts()"
      ]
    },
    {
      "cell_type": "code",
      "execution_count": 17,
      "metadata": {},
      "outputs": [],
      "source": [
        "grade_dict = {\n",
        "    # Intern\n",
        "    'intern' : 0,\n",
        "    'Entry level': 0,\n",
        "    'Working Student' : 0,\n",
        "    'Student': 0,\n",
        "\n",
        "    #Junior\n",
        "    'Junior' : 1,\n",
        "\n",
        "    # Middle\n",
        "    'Middle' : 2,\n",
        "\n",
        "    # Senior\n",
        "    'Senior' : 3,\n",
        "\n",
        "    # Managers\n",
        "    'Head' : 4,\n",
        "    'Lead': 4,\n",
        "    'Manager' : 4,\n",
        "    'Work Center Manager' : 4, \n",
        "\n",
        "    # Top managers\n",
        "    'Principal' : 5,\n",
        "    'C-level executive manager' : 5,\n",
        "    'Director' : 5,\n",
        "    'Key' : 5,\n",
        "    'CTO' : 5,\n",
        "    'VP' : 5\n",
        "}"
      ]
    },
    {
      "cell_type": "code",
      "execution_count": 18,
      "metadata": {},
      "outputs": [],
      "source": [
        "df['grade'] = df[col].apply(lambda x: grade_dict.get(x))\n",
        "df = df.dropna(subset=['grade'])"
      ]
    },
    {
      "cell_type": "code",
      "execution_count": 51,
      "metadata": {
        "id": "4DIhV0wHtsH_"
      },
      "outputs": [],
      "source": [
        "independent_vars = [\n",
        "    #'Company_size_1000+', \n",
        "    #'Company_size_101-1000', \n",
        "    #'Company_size_11-50', \n",
        "    #'Company_size_51-100', \n",
        "    #'Company_size_up to 10',\n",
        "    'Age', \n",
        "    'Total_years_of_experience', \n",
        "    'Years_of_experience_in_Germany', \n",
        "    'is_main_lang_english',\\\n",
        "    'is_male', \n",
        "    'grade'\n",
        "]"
      ]
    },
    {
      "cell_type": "markdown",
      "metadata": {
        "id": "m2iDBw_FtsH_"
      },
      "source": [
        "## Зависимая переменная (brutto_salary)"
      ]
    },
    {
      "cell_type": "code",
      "execution_count": 20,
      "metadata": {
        "id": "kXyuURLCtsH_"
      },
      "outputs": [],
      "source": [
        "df['brutto_salary'] = df['Yearly brutto salary (without bonus and stocks) in EUR'].apply(lambda x : int(x))\n",
        "\n",
        "# Удалим особо исключительные значения\n",
        "df = df.drop(df[df.brutto_salary == 99999999999].index)\n",
        "df = df.drop(df[df.brutto_salary == 500000000].index)"
      ]
    },
    {
      "cell_type": "code",
      "execution_count": 21,
      "metadata": {
        "colab": {
          "base_uri": "https://localhost:8080/"
        },
        "id": "EPHOUBybtsH_",
        "outputId": "3941b1e6-a469-405f-9561-719cb965cb2a"
      },
      "outputs": [
        {
          "data": {
            "text/plain": [
              "count      1130.000000\n",
              "mean      72326.361062\n",
              "std       32705.435988\n",
              "min       10001.000000\n",
              "25%       60000.000000\n",
              "50%       70000.000000\n",
              "75%       80000.000000\n",
              "max      850000.000000\n",
              "Name: brutto_salary, dtype: float64"
            ]
          },
          "execution_count": 21,
          "metadata": {},
          "output_type": "execute_result"
        }
      ],
      "source": [
        "df['brutto_salary'].describe()\n"
      ]
    },
    {
      "cell_type": "code",
      "execution_count": 22,
      "metadata": {
        "colab": {
          "base_uri": "https://localhost:8080/"
        },
        "id": "vGCo3eNqtsH_",
        "outputId": "01bf0ae5-834f-41e8-e7db-56da267816dc"
      },
      "outputs": [
        {
          "data": {
            "text/plain": [
              "70000.0"
            ]
          },
          "execution_count": 22,
          "metadata": {},
          "output_type": "execute_result"
        }
      ],
      "source": [
        "df['brutto_salary'].median()"
      ]
    },
    {
      "cell_type": "code",
      "execution_count": 23,
      "metadata": {
        "id": "gvGRowLEtsIA",
        "outputId": "fd2cab03-5c86-4243-a3b5-fb39a383115f"
      },
      "outputs": [
        {
          "name": "stderr",
          "output_type": "stream",
          "text": [
            "/tmp/ipykernel_8171/2742582698.py:1: UserWarning: \n",
            "\n",
            "`distplot` is a deprecated function and will be removed in seaborn v0.14.0.\n",
            "\n",
            "Please adapt your code to use either `displot` (a figure-level function with\n",
            "similar flexibility) or `histplot` (an axes-level function for histograms).\n",
            "\n",
            "For a guide to updating your code to use the new functions, please see\n",
            "https://gist.github.com/mwaskom/de44147ed2974457ad6372750bbe5751\n",
            "\n",
            "  sns.distplot(df.brutto_salary, fit=stats.norm)\n"
          ]
        },
        {
          "data": {
            "text/plain": [
              "<Axes: xlabel='brutto_salary', ylabel='Density'>"
            ]
          },
          "execution_count": 23,
          "metadata": {},
          "output_type": "execute_result"
        },
        {
          "data": {
            "image/png": "[encoded data removed]",
            "text/plain": [
              "<Figure size 640x480 with 1 Axes>"
            ]
          },
          "metadata": {},
          "output_type": "display_data"
        }
      ],
      "source": [
        "sns.distplot(df.brutto_salary, fit=stats.norm)"
      ]
    },
    {
      "cell_type": "code",
      "execution_count": 24,
      "metadata": {
        "id": "Fi8bkadptsIA",
        "outputId": "447373c1-4808-4d41-d403-a87a892668e4"
      },
      "outputs": [
        {
          "name": "stdout",
          "output_type": "stream",
          "text": [
            "Skewness: 12.8098\n",
            "Kurtosis: 286.6223\n",
            "Quartile Deviation: 10000.0000\n",
            "Decile Ratio: 1.9000\n"
          ]
        }
      ],
      "source": [
        "print('Skewness: {:.4f}'.format(df['brutto_salary'].skew()))\n",
        "print('Kurtosis: {:.4f}'.format(df['brutto_salary'].kurt()))\n",
        "print('Quartile Deviation: {:.4f}'.format((df['brutto_salary'].quantile(0.75) - df['brutto_salary'].quantile(0.25))/2))\n",
        "print('Decile Ratio: {:.4f}'.format(df['brutto_salary'].quantile(0.9)/df['brutto_salary'].quantile(0.1)))"
      ]
    },
    {
      "cell_type": "code",
      "execution_count": 25,
      "metadata": {
        "id": "MhLGwr7rtsIA",
        "outputId": "958f3360-5025-4e70-f3dd-e3d9c2ec5cb4"
      },
      "outputs": [
        {
          "data": {
            "text/plain": [
              "KstestResult(statistic=0.18458807593399418, pvalue=3.574308557505665e-34, statistic_location=85000, statistic_sign=1)"
            ]
          },
          "execution_count": 25,
          "metadata": {},
          "output_type": "execute_result"
        }
      ],
      "source": [
        "stats.kstest(df.brutto_salary, 'norm', args=(df.brutto_salary.mean(), df.brutto_salary.std()))"
      ]
    },
    {
      "cell_type": "markdown",
      "metadata": {
        "id": "MbXPgvGrtsIA"
      },
      "source": [
        "Зависимая переменная \"brutto_salary\" имеет распределение отличное от нормального (pvalue < 0.05). Также оно асимметрично (сдвиг в сторону меньших значений) и характеризуется пиковостью. Среднее значение - 72.5 тысяч евро, стандартное отклонение довольно высокое - 33 тысячи евро. Медиана  - 70 тысяч евро. Межквартильная широта - 10 тысяч евро, что также характеризует довольно большой разброс серединных 50% значений относительно медианы. Децильное отношение - 1.9."
      ]
    },
    {
      "cell_type": "markdown",
      "metadata": {
        "id": "qQZxPKUgEQx4"
      },
      "source": [
        "## Гипотезы"
      ]
    },
    {
      "cell_type": "markdown",
      "metadata": {
        "id": "eZ8eEOV8tsIA"
      },
      "source": [
        "О зависимой переменной:\n",
        "- H0 (нулевая гипотеза): Средний доход IT-специалиста не зависит от возраста, общего опыта работа, опыта работы в Германии и размера компании.\n",
        "- H1 (альтернативная гипотеза): Существует статистически значимая зависимость между выбранными факторами и доходом IT-специалиста.\n",
        "\n",
        "О независимых переменных:\n",
        "- H0 (нулевая гипотеза): Каждая из независимых переменных не оказывает статистически значимого влияния на доход IT-специалиста.\n",
        "- H1 (альтернативная гипотеза): Некоторые из независимых переменных оказывают статистически значимое влияние на доход IT-специалиста.\n",
        "\n",
        "\n",
        "\n",
        "\n",
        "\n",
        "\n"
      ]
    },
    {
      "cell_type": "markdown",
      "metadata": {
        "id": "ppc2XGEYtsIA"
      },
      "source": [
        "## Формирование модели"
      ]
    },
    {
      "cell_type": "code",
      "execution_count": 26,
      "metadata": {
        "colab": {
          "base_uri": "https://localhost:8080/"
        },
        "id": "uuS6U7-HtsIB",
        "outputId": "fcd0662e-af7e-40ae-b284-11d59181cb84"
      },
      "outputs": [
        {
          "data": {
            "text/plain": [
              "(1130, 33)"
            ]
          },
          "execution_count": 26,
          "metadata": {},
          "output_type": "execute_result"
        }
      ],
      "source": [
        "import statsmodels.api as sm\n",
        "\n",
        "df.shape"
      ]
    },
    {
      "cell_type": "code",
      "execution_count": 52,
      "metadata": {
        "id": "7DX5gAumtsIB"
      },
      "outputs": [],
      "source": [
        "y = df['brutto_salary']\n",
        "x_mult = df[independent_vars]\n",
        "x_mult_constant = sm.add_constant(x_mult)"
      ]
    },
    {
      "cell_type": "code",
      "execution_count": 53,
      "metadata": {
        "colab": {
          "base_uri": "https://localhost:8080/"
        },
        "id": "sUD94ao_tsIB",
        "outputId": "129efd9b-7200-4f61-ebaa-8738e4dc388d"
      },
      "outputs": [
        {
          "name": "stdout",
          "output_type": "stream",
          "text": [
            "                            OLS Regression Results                            \n",
            "==============================================================================\n",
            "Dep. Variable:          brutto_salary   R-squared:                       0.161\n",
            "Model:                            OLS   Adj. R-squared:                  0.157\n",
            "Method:                 Least Squares   F-statistic:                     35.98\n",
            "Date:                Tue, 14 Nov 2023   Prob (F-statistic):           5.58e-40\n",
            "Time:                        22:54:41   Log-Likelihood:                -13250.\n",
            "No. Observations:                1130   AIC:                         2.651e+04\n",
            "Df Residuals:                    1123   BIC:                         2.655e+04\n",
            "Df Model:                           6                                         \n",
            "Covariance Type:            nonrobust                                         \n",
            "==================================================================================================\n",
            "                                     coef    std err          t      P>|t|      [0.025      0.975]\n",
            "--------------------------------------------------------------------------------------------------\n",
            "const                           1.943e+04   6892.699      2.819      0.005    5906.377     3.3e+04\n",
            "Age                              130.8718    213.826      0.612      0.541    -288.672     550.416\n",
            "Total_years_of_experience         11.9526     83.743      0.143      0.887    -152.358     176.263\n",
            "Years_of_experience_in_Germany   848.4152    323.915      2.619      0.009     212.868    1483.963\n",
            "is_main_lang_english            6874.6257   2727.198      2.521      0.012    1523.649    1.22e+04\n",
            "is_male                         7080.8232   2556.792      2.769      0.006    2064.197    1.21e+04\n",
            "grade                           1.217e+04   1206.539     10.085      0.000    9800.760    1.45e+04\n",
            "==============================================================================\n",
            "Omnibus:                     2325.863   Durbin-Watson:                   2.015\n",
            "Prob(Omnibus):                  0.000   Jarque-Bera (JB):          7260438.403\n",
            "Skew:                          16.116   Prob(JB):                         0.00\n",
            "Kurtosis:                     394.363   Cond. No.                         274.\n",
            "==============================================================================\n",
            "\n",
            "Notes:\n",
            "[1] Standard Errors assume that the covariance matrix of the errors is correctly specified.\n"
          ]
        }
      ],
      "source": [
        "df.head(25)\n",
        "\n",
        "model2 = sm.OLS(y, x_mult_constant).fit()\n",
        "print(model2.summary())"
      ]
    },
    {
      "cell_type": "markdown",
      "metadata": {
        "id": "7KsZscA8FuMq"
      },
      "source": []
    },
    {
      "cell_type": "markdown",
      "metadata": {
        "id": "CafaCu5mtsID"
      },
      "source": [
        "## Характеристики регрессионной модели и значимость коэффициентов"
      ]
    },
    {
      "cell_type": "code",
      "execution_count": null,
      "metadata": {
        "id": "KLRW_YyPtsIB",
        "outputId": "2d86598c-31d7-427d-ef29-2140e7b339b4"
      },
      "outputs": [
        {
          "name": "stdout",
          "output_type": "stream",
          "text": [
            "R^2 = 0.084840\n",
            "F-test significance = 0.000000\n"
          ]
        }
      ],
      "source": [
        "print('R^2 = {:f}'.format(model2.rsquared))\n",
        "print('F-test significance = {:f}'.format(model2.f_pvalue))"
      ]
    },
    {
      "cell_type": "markdown",
      "metadata": {
        "id": "QW2xE-HStsIB"
      },
      "source": [
        "Модель статистически значима. Объясняет 84,8% вариации значений зависимой переменной."
      ]
    },
    {
      "cell_type": "code",
      "execution_count": null,
      "metadata": {
        "id": "fpgnEHOYtsIC",
        "outputId": "5a3c8e53-8323-43fa-e76e-a46191abad78"
      },
      "outputs": [
        {
          "data": {
            "text/plain": [
              "\"Статистически значимые параметры модели: ['const' 'Age' 'Years_of_experience_in_Germany' 'is_main_lang_english']\""
            ]
          },
          "execution_count": 213,
          "metadata": {},
          "output_type": "execute_result"
        }
      ],
      "source": [
        "f'Статистически значимые параметры модели: {model2.pvalues[model2.pvalues < 0.05].index.values}'"
      ]
    },
    {
      "cell_type": "code",
      "execution_count": null,
      "metadata": {
        "id": "7saF7YsDtsIC",
        "outputId": "b011b394-e3eb-4d93-999b-49f224e6fea3"
      },
      "outputs": [
        {
          "data": {
            "text/plain": [
              "\"Статистически не значимые параметры модели: ['Company_size_1000+' 'Company_size_101-1000' 'Company_size_11-50'\\n 'Company_size_51-100' 'Total_years_of_experience']\""
            ]
          },
          "execution_count": 214,
          "metadata": {},
          "output_type": "execute_result"
        }
      ],
      "source": [
        "f'Статистически не значимые параметры модели: {model2.pvalues[model2.pvalues > 0.05].index.values}'"
      ]
    },
    {
      "cell_type": "markdown",
      "metadata": {
        "id": "HwJYt6YPO02G"
      },
      "source": [
        "Уравнение модели:"
      ]
    },
    {
      "cell_type": "code",
      "execution_count": null,
      "metadata": {
        "id": "f16irBA3tsID",
        "outputId": "71947f75-1c8b-4dd4-e254-538ef9d4a523"
      },
      "outputs": [
        {
          "name": "stdout",
          "output_type": "stream",
          "text": [
            "Y = 31136.652814 +\n",
            "7389.03 * Company_size_1000+ + \n",
            "3913.12 * Company_size_101-1000 + \n",
            "-3518.82 * Company_size_11-50 + \n",
            "-3610.23 * Company_size_51-100 + \n",
            "614.00 * Age + \n",
            "144.04 * Total_years_of_experience + \n",
            "1530.55 * Years_of_experience_in_Germany + \n",
            "13364.05 * is_main_lang_english\n"
          ]
        }
      ],
      "source": [
        "l = []\n",
        "for (param, index) in zip(model2.params[1:], model2.params.index[1:]):\n",
        "    l.append('{:.2f} * {}'.format(param, index))\n",
        "\n",
        "print('Y = {:2f} +\\n{}'.format(model2.params[0], ' + \\n'.join(l)))"
      ]
    },
    {
      "cell_type": "markdown",
      "metadata": {
        "id": "czjHYtk7tsID"
      },
      "source": [
        "- Количество сотрудников компании не влияет на зарплату.\n",
        "- При увеличении **возраста** на год, зарплата в среднем увеличивается на **614**.\n",
        "- Опыт работы не влияет на зарплату.\n",
        "- **С каждым годом стажа в Германии** зарплата увеличивается на **1530.55**.\n",
        "- **Владение английским языком**, как основным, увелечивает зарплату на **13364.05**.\n",
        "\n"
      ]
    },
    {
      "cell_type": "markdown",
      "metadata": {
        "id": "FEskoUw6tsIE"
      },
      "source": [
        "## Диагностика модели"
      ]
    },
    {
      "cell_type": "code",
      "execution_count": null,
      "metadata": {
        "id": "KbeDGTrFtsIE",
        "outputId": "c63da585-e956-496f-8ebf-1bf5a7002f0d"
      },
      "outputs": [
        {
          "name": "stdout",
          "output_type": "stream",
          "text": [
            "P-value: 0.000\n"
          ]
        }
      ],
      "source": [
        "p = stats.kstest(model2.resid, 'norm', args=(model2.resid.mean(), model2.resid.std())).pvalue\n",
        "print('P-value: {:.3f}'.format(p))"
      ]
    },
    {
      "cell_type": "code",
      "execution_count": null,
      "metadata": {
        "id": "QRjOPvhgtsIE",
        "outputId": "ce13bbe4-af9f-4f13-8ff6-c7d22a61795d"
      },
      "outputs": [
        {
          "data": {
            "text/plain": [
              "<matplotlib.axes._subplots.AxesSubplot at 0x7ff0a373aa10>"
            ]
          },
          "execution_count": 217,
          "metadata": {},
          "output_type": "execute_result"
        },
        {
          "data": {
            "image/png": "[encoded data removed]",
            "text/plain": [
              "<Figure size 432x288 with 1 Axes>"
            ]
          },
          "metadata": {
            "needs_background": "light"
          },
          "output_type": "display_data"
        }
      ],
      "source": [
        "sns.distplot(model2.resid, fit=stats.norm)"
      ]
    },
    {
      "cell_type": "markdown",
      "metadata": {
        "id": "7YK7j6ystsIE"
      },
      "source": [
        "Распределение остатков отличается от нормального."
      ]
    },
    {
      "cell_type": "markdown",
      "metadata": {
        "id": "XR51uE3-tsIE"
      },
      "source": [
        "### Гетероскедастичность"
      ]
    },
    {
      "cell_type": "code",
      "execution_count": null,
      "metadata": {
        "id": "JKrmtbzntsIF",
        "outputId": "77703b4f-28f7-4062-fb18-a60cc5efd634"
      },
      "outputs": [
        {
          "data": {
            "image/png": "[encoded data removed]",
            "text/plain": [
              "<Figure size 576x360 with 1 Axes>"
            ]
          },
          "metadata": {
            "needs_background": "light"
          },
          "output_type": "display_data"
        }
      ],
      "source": [
        "plt.figure(figsize=(8,5))\n",
        "plt.scatter(x=model2.fittedvalues, y=model2.resid, color='blue', edgecolor='k')\n",
        "plt.grid(True)\n",
        "plt.xlabel('Fitted value', fontsize=14)\n",
        "plt.ylabel('Residual', fontsize=14)\n",
        "plt.show()"
      ]
    },
    {
      "cell_type": "markdown",
      "metadata": {
        "id": "YvCmM0n5tsIF"
      },
      "source": [
        "Наблюдается взаимосвязь между остатками и спредсказанными значениями зависимой переменной. Следовательно существует проблема гетероскедастичности."
      ]
    },
    {
      "cell_type": "markdown",
      "metadata": {
        "id": "sHnEKKQYtsIF"
      },
      "source": [
        "### Мультиколлинеарность"
      ]
    },
    {
      "cell_type": "code",
      "execution_count": null,
      "metadata": {
        "id": "D6a4Ouy0tsIF"
      },
      "outputs": [],
      "source": [
        "vifs = np.array([vif(model2.model.exog, i) for i in range(model2.model.exog.shape[1])])"
      ]
    },
    {
      "cell_type": "code",
      "execution_count": null,
      "metadata": {
        "id": "STDMTruVtsIF",
        "outputId": "ae9d79f1-2435-4f28-990e-1d5b70c8a043"
      },
      "outputs": [
        {
          "data": {
            "text/html": [
              "<div>\n",
              "<style scoped>\n",
              "    .dataframe tbody tr th:only-of-type {\n",
              "        vertical-align: middle;\n",
              "    }\n",
              "\n",
              "    .dataframe tbody tr th {\n",
              "        vertical-align: top;\n",
              "    }\n",
              "\n",
              "    .dataframe thead th {\n",
              "        text-align: right;\n",
              "    }\n",
              "</style>\n",
              "<table border=\"1\" class=\"dataframe\">\n",
              "  <thead>\n",
              "    <tr style=\"text-align: right;\">\n",
              "      <th></th>\n",
              "      <th>VIF</th>\n",
              "      <th>Features</th>\n",
              "    </tr>\n",
              "  </thead>\n",
              "  <tbody>\n",
              "    <tr>\n",
              "      <th>7</th>\n",
              "      <td>1.139658</td>\n",
              "      <td>is_main_lang_english</td>\n",
              "    </tr>\n",
              "    <tr>\n",
              "      <th>5</th>\n",
              "      <td>1.314942</td>\n",
              "      <td>Total_years_of_experience</td>\n",
              "    </tr>\n",
              "    <tr>\n",
              "      <th>6</th>\n",
              "      <td>1.509644</td>\n",
              "      <td>Years_of_experience_in_Germany</td>\n",
              "    </tr>\n",
              "    <tr>\n",
              "      <th>4</th>\n",
              "      <td>1.729516</td>\n",
              "      <td>Age</td>\n",
              "    </tr>\n",
              "    <tr>\n",
              "      <th>3</th>\n",
              "      <td>3.068741</td>\n",
              "      <td>Company_size_51-100</td>\n",
              "    </tr>\n",
              "    <tr>\n",
              "      <th>2</th>\n",
              "      <td>3.402782</td>\n",
              "      <td>Company_size_11-50</td>\n",
              "    </tr>\n",
              "    <tr>\n",
              "      <th>1</th>\n",
              "      <td>5.317536</td>\n",
              "      <td>Company_size_101-1000</td>\n",
              "    </tr>\n",
              "    <tr>\n",
              "      <th>0</th>\n",
              "      <td>5.434730</td>\n",
              "      <td>Company_size_1000+</td>\n",
              "    </tr>\n",
              "  </tbody>\n",
              "</table>\n",
              "</div>"
            ],
            "text/plain": [
              "        VIF                        Features\n",
              "7  1.139658            is_main_lang_english\n",
              "5  1.314942       Total_years_of_experience\n",
              "6  1.509644  Years_of_experience_in_Germany\n",
              "4  1.729516                             Age\n",
              "3  3.068741             Company_size_51-100\n",
              "2  3.402782              Company_size_11-50\n",
              "1  5.317536           Company_size_101-1000\n",
              "0  5.434730              Company_size_1000+"
            ]
          },
          "execution_count": 220,
          "metadata": {},
          "output_type": "execute_result"
        }
      ],
      "source": [
        "vif_df = pd.DataFrame()\n",
        "vif_df['VIF'] = vifs[1:]\n",
        "vif_df['Features'] = model2.params.index[1:]\n",
        "vif_df.sort_values(by=['VIF'])"
      ]
    },
    {
      "cell_type": "markdown",
      "metadata": {
        "id": "9eKEV4MftsIG"
      },
      "source": [
        "Нет значений VIF, превышающих 10. Проблема мультиколлинеарности отсутствует."
      ]
    },
    {
      "cell_type": "markdown",
      "metadata": {
        "id": "p5mVdr_stsIG"
      },
      "source": [
        "### Выбросы и влияющие наблюдения"
      ]
    },
    {
      "cell_type": "code",
      "execution_count": null,
      "metadata": {
        "id": "ZXqYGVVJtsIG",
        "outputId": "741a0f42-c420-4cd0-cc10-f7d7864ceeb1"
      },
      "outputs": [
        {
          "data": {
            "text/html": [
              "<div>\n",
              "<style scoped>\n",
              "    .dataframe tbody tr th:only-of-type {\n",
              "        vertical-align: middle;\n",
              "    }\n",
              "\n",
              "    .dataframe tbody tr th {\n",
              "        vertical-align: top;\n",
              "    }\n",
              "\n",
              "    .dataframe thead th {\n",
              "        text-align: right;\n",
              "    }\n",
              "</style>\n",
              "<table border=\"1\" class=\"dataframe\">\n",
              "  <thead>\n",
              "    <tr style=\"text-align: right;\">\n",
              "      <th></th>\n",
              "      <th>dfb_const</th>\n",
              "      <th>dfb_Company_size_1000+</th>\n",
              "      <th>dfb_Company_size_101-1000</th>\n",
              "      <th>dfb_Company_size_11-50</th>\n",
              "      <th>dfb_Company_size_51-100</th>\n",
              "      <th>dfb_Age</th>\n",
              "      <th>dfb_Total_years_of_experience</th>\n",
              "      <th>dfb_Years_of_experience_in_Germany</th>\n",
              "      <th>dfb_is_main_lang_english</th>\n",
              "      <th>cooks_d</th>\n",
              "      <th>standard_resid</th>\n",
              "      <th>hat_diag</th>\n",
              "      <th>dffits_internal</th>\n",
              "      <th>student_resid</th>\n",
              "      <th>dffits</th>\n",
              "    </tr>\n",
              "    <tr>\n",
              "      <th>Timestamp</th>\n",
              "      <th></th>\n",
              "      <th></th>\n",
              "      <th></th>\n",
              "      <th></th>\n",
              "      <th></th>\n",
              "      <th></th>\n",
              "      <th></th>\n",
              "      <th></th>\n",
              "      <th></th>\n",
              "      <th></th>\n",
              "      <th></th>\n",
              "      <th></th>\n",
              "      <th></th>\n",
              "      <th></th>\n",
              "      <th></th>\n",
              "    </tr>\n",
              "  </thead>\n",
              "  <tbody>\n",
              "    <tr>\n",
              "      <th>01/01/2021 10:51:57</th>\n",
              "      <td>0.003090</td>\n",
              "      <td>-0.000325</td>\n",
              "      <td>0.004064</td>\n",
              "      <td>-0.000353</td>\n",
              "      <td>-0.000082</td>\n",
              "      <td>-0.005101</td>\n",
              "      <td>0.002805</td>\n",
              "      <td>0.003590</td>\n",
              "      <td>0.002870</td>\n",
              "      <td>2.057797e-05</td>\n",
              "      <td>0.239901</td>\n",
              "      <td>0.003208</td>\n",
              "      <td>0.013609</td>\n",
              "      <td>0.239802</td>\n",
              "      <td>0.013603</td>\n",
              "    </tr>\n",
              "    <tr>\n",
              "      <th>01/01/2021 13:40:08</th>\n",
              "      <td>-0.007788</td>\n",
              "      <td>0.008018</td>\n",
              "      <td>-0.000576</td>\n",
              "      <td>-0.000999</td>\n",
              "      <td>-0.000770</td>\n",
              "      <td>0.011256</td>\n",
              "      <td>0.003423</td>\n",
              "      <td>-0.019296</td>\n",
              "      <td>0.001677</td>\n",
              "      <td>1.139221e-04</td>\n",
              "      <td>0.480421</td>\n",
              "      <td>0.004423</td>\n",
              "      <td>0.032020</td>\n",
              "      <td>0.480260</td>\n",
              "      <td>0.032010</td>\n",
              "    </tr>\n",
              "    <tr>\n",
              "      <th>01/12/2020 00:06:49</th>\n",
              "      <td>0.009125</td>\n",
              "      <td>0.010082</td>\n",
              "      <td>0.003552</td>\n",
              "      <td>0.003143</td>\n",
              "      <td>0.002856</td>\n",
              "      <td>-0.001344</td>\n",
              "      <td>-0.004317</td>\n",
              "      <td>-0.003780</td>\n",
              "      <td>-0.029468</td>\n",
              "      <td>1.500114e-04</td>\n",
              "      <td>0.425359</td>\n",
              "      <td>0.007407</td>\n",
              "      <td>0.036744</td>\n",
              "      <td>0.425207</td>\n",
              "      <td>0.036731</td>\n",
              "    </tr>\n",
              "    <tr>\n",
              "      <th>01/12/2020 00:16:18</th>\n",
              "      <td>0.001012</td>\n",
              "      <td>0.000012</td>\n",
              "      <td>-0.003172</td>\n",
              "      <td>0.000179</td>\n",
              "      <td>0.000126</td>\n",
              "      <td>-0.001713</td>\n",
              "      <td>0.000333</td>\n",
              "      <td>0.004067</td>\n",
              "      <td>-0.000569</td>\n",
              "      <td>1.178479e-05</td>\n",
              "      <td>-0.181242</td>\n",
              "      <td>0.003218</td>\n",
              "      <td>-0.010299</td>\n",
              "      <td>-0.181165</td>\n",
              "      <td>-0.010294</td>\n",
              "    </tr>\n",
              "    <tr>\n",
              "      <th>01/12/2020 00:20:42</th>\n",
              "      <td>0.000097</td>\n",
              "      <td>-0.000010</td>\n",
              "      <td>0.000018</td>\n",
              "      <td>0.000044</td>\n",
              "      <td>-0.002278</td>\n",
              "      <td>-0.000345</td>\n",
              "      <td>0.000297</td>\n",
              "      <td>0.001381</td>\n",
              "      <td>-0.000110</td>\n",
              "      <td>2.334482e-06</td>\n",
              "      <td>-0.049994</td>\n",
              "      <td>0.008336</td>\n",
              "      <td>-0.004584</td>\n",
              "      <td>-0.049973</td>\n",
              "      <td>-0.004582</td>\n",
              "    </tr>\n",
              "    <tr>\n",
              "      <th>...</th>\n",
              "      <td>...</td>\n",
              "      <td>...</td>\n",
              "      <td>...</td>\n",
              "      <td>...</td>\n",
              "      <td>...</td>\n",
              "      <td>...</td>\n",
              "      <td>...</td>\n",
              "      <td>...</td>\n",
              "      <td>...</td>\n",
              "      <td>...</td>\n",
              "      <td>...</td>\n",
              "      <td>...</td>\n",
              "      <td>...</td>\n",
              "      <td>...</td>\n",
              "      <td>...</td>\n",
              "    </tr>\n",
              "    <tr>\n",
              "      <th>30/11/2020 23:38:05</th>\n",
              "      <td>0.000394</td>\n",
              "      <td>0.002002</td>\n",
              "      <td>-0.000104</td>\n",
              "      <td>-0.000202</td>\n",
              "      <td>-0.000070</td>\n",
              "      <td>-0.000341</td>\n",
              "      <td>0.000762</td>\n",
              "      <td>-0.002161</td>\n",
              "      <td>0.000754</td>\n",
              "      <td>5.103413e-06</td>\n",
              "      <td>0.121888</td>\n",
              "      <td>0.003082</td>\n",
              "      <td>0.006777</td>\n",
              "      <td>0.121835</td>\n",
              "      <td>0.006774</td>\n",
              "    </tr>\n",
              "    <tr>\n",
              "      <th>30/12/2020 02:23:59</th>\n",
              "      <td>-0.002264</td>\n",
              "      <td>0.000262</td>\n",
              "      <td>-0.007849</td>\n",
              "      <td>0.000163</td>\n",
              "      <td>0.000106</td>\n",
              "      <td>0.003492</td>\n",
              "      <td>0.003730</td>\n",
              "      <td>-0.001634</td>\n",
              "      <td>-0.003923</td>\n",
              "      <td>6.656940e-05</td>\n",
              "      <td>-0.449768</td>\n",
              "      <td>0.002953</td>\n",
              "      <td>-0.024477</td>\n",
              "      <td>-0.449611</td>\n",
              "      <td>-0.024468</td>\n",
              "    </tr>\n",
              "    <tr>\n",
              "      <th>30/12/2020 13:18:32</th>\n",
              "      <td>0.001519</td>\n",
              "      <td>-0.000073</td>\n",
              "      <td>-0.000116</td>\n",
              "      <td>-0.000273</td>\n",
              "      <td>0.008689</td>\n",
              "      <td>-0.001628</td>\n",
              "      <td>0.001159</td>\n",
              "      <td>-0.002592</td>\n",
              "      <td>0.001001</td>\n",
              "      <td>3.205324e-05</td>\n",
              "      <td>0.189967</td>\n",
              "      <td>0.007930</td>\n",
              "      <td>0.016985</td>\n",
              "      <td>0.189887</td>\n",
              "      <td>0.016978</td>\n",
              "    </tr>\n",
              "    <tr>\n",
              "      <th>30/12/2020 16:32:25</th>\n",
              "      <td>0.000207</td>\n",
              "      <td>-0.000019</td>\n",
              "      <td>0.000219</td>\n",
              "      <td>-0.000010</td>\n",
              "      <td>-0.000001</td>\n",
              "      <td>-0.000344</td>\n",
              "      <td>0.000020</td>\n",
              "      <td>0.000355</td>\n",
              "      <td>0.000188</td>\n",
              "      <td>6.984142e-08</td>\n",
              "      <td>0.012857</td>\n",
              "      <td>0.003788</td>\n",
              "      <td>0.000793</td>\n",
              "      <td>0.012852</td>\n",
              "      <td>0.000792</td>\n",
              "    </tr>\n",
              "    <tr>\n",
              "      <th>31/12/2020 17:56:25</th>\n",
              "      <td>-0.003654</td>\n",
              "      <td>0.006776</td>\n",
              "      <td>-0.000920</td>\n",
              "      <td>-0.000907</td>\n",
              "      <td>-0.000799</td>\n",
              "      <td>0.001857</td>\n",
              "      <td>0.004235</td>\n",
              "      <td>0.000271</td>\n",
              "      <td>0.006713</td>\n",
              "      <td>6.203121e-05</td>\n",
              "      <td>0.444636</td>\n",
              "      <td>0.002816</td>\n",
              "      <td>0.023628</td>\n",
              "      <td>0.444480</td>\n",
              "      <td>0.023620</td>\n",
              "    </tr>\n",
              "  </tbody>\n",
              "</table>\n",
              "<p>1160 rows × 15 columns</p>\n",
              "</div>"
            ],
            "text/plain": [
              "                     dfb_const  dfb_Company_size_1000+  \\\n",
              "Timestamp                                                \n",
              "01/01/2021 10:51:57   0.003090               -0.000325   \n",
              "01/01/2021 13:40:08  -0.007788                0.008018   \n",
              "01/12/2020 00:06:49   0.009125                0.010082   \n",
              "01/12/2020 00:16:18   0.001012                0.000012   \n",
              "01/12/2020 00:20:42   0.000097               -0.000010   \n",
              "...                        ...                     ...   \n",
              "30/11/2020 23:38:05   0.000394                0.002002   \n",
              "30/12/2020 02:23:59  -0.002264                0.000262   \n",
              "30/12/2020 13:18:32   0.001519               -0.000073   \n",
              "30/12/2020 16:32:25   0.000207               -0.000019   \n",
              "31/12/2020 17:56:25  -0.003654                0.006776   \n",
              "\n",
              "                     dfb_Company_size_101-1000  dfb_Company_size_11-50  \\\n",
              "Timestamp                                                                \n",
              "01/01/2021 10:51:57                   0.004064               -0.000353   \n",
              "01/01/2021 13:40:08                  -0.000576               -0.000999   \n",
              "01/12/2020 00:06:49                   0.003552                0.003143   \n",
              "01/12/2020 00:16:18                  -0.003172                0.000179   \n",
              "01/12/2020 00:20:42                   0.000018                0.000044   \n",
              "...                                        ...                     ...   \n",
              "30/11/2020 23:38:05                  -0.000104               -0.000202   \n",
              "30/12/2020 02:23:59                  -0.007849                0.000163   \n",
              "30/12/2020 13:18:32                  -0.000116               -0.000273   \n",
              "30/12/2020 16:32:25                   0.000219               -0.000010   \n",
              "31/12/2020 17:56:25                  -0.000920               -0.000907   \n",
              "\n",
              "                     dfb_Company_size_51-100   dfb_Age  \\\n",
              "Timestamp                                                \n",
              "01/01/2021 10:51:57                -0.000082 -0.005101   \n",
              "01/01/2021 13:40:08                -0.000770  0.011256   \n",
              "01/12/2020 00:06:49                 0.002856 -0.001344   \n",
              "01/12/2020 00:16:18                 0.000126 -0.001713   \n",
              "01/12/2020 00:20:42                -0.002278 -0.000345   \n",
              "...                                      ...       ...   \n",
              "30/11/2020 23:38:05                -0.000070 -0.000341   \n",
              "30/12/2020 02:23:59                 0.000106  0.003492   \n",
              "30/12/2020 13:18:32                 0.008689 -0.001628   \n",
              "30/12/2020 16:32:25                -0.000001 -0.000344   \n",
              "31/12/2020 17:56:25                -0.000799  0.001857   \n",
              "\n",
              "                     dfb_Total_years_of_experience  \\\n",
              "Timestamp                                            \n",
              "01/01/2021 10:51:57                       0.002805   \n",
              "01/01/2021 13:40:08                       0.003423   \n",
              "01/12/2020 00:06:49                      -0.004317   \n",
              "01/12/2020 00:16:18                       0.000333   \n",
              "01/12/2020 00:20:42                       0.000297   \n",
              "...                                            ...   \n",
              "30/11/2020 23:38:05                       0.000762   \n",
              "30/12/2020 02:23:59                       0.003730   \n",
              "30/12/2020 13:18:32                       0.001159   \n",
              "30/12/2020 16:32:25                       0.000020   \n",
              "31/12/2020 17:56:25                       0.004235   \n",
              "\n",
              "                     dfb_Years_of_experience_in_Germany  \\\n",
              "Timestamp                                                 \n",
              "01/01/2021 10:51:57                            0.003590   \n",
              "01/01/2021 13:40:08                           -0.019296   \n",
              "01/12/2020 00:06:49                           -0.003780   \n",
              "01/12/2020 00:16:18                            0.004067   \n",
              "01/12/2020 00:20:42                            0.001381   \n",
              "...                                                 ...   \n",
              "30/11/2020 23:38:05                           -0.002161   \n",
              "30/12/2020 02:23:59                           -0.001634   \n",
              "30/12/2020 13:18:32                           -0.002592   \n",
              "30/12/2020 16:32:25                            0.000355   \n",
              "31/12/2020 17:56:25                            0.000271   \n",
              "\n",
              "                     dfb_is_main_lang_english       cooks_d  standard_resid  \\\n",
              "Timestamp                                                                     \n",
              "01/01/2021 10:51:57                  0.002870  2.057797e-05        0.239901   \n",
              "01/01/2021 13:40:08                  0.001677  1.139221e-04        0.480421   \n",
              "01/12/2020 00:06:49                 -0.029468  1.500114e-04        0.425359   \n",
              "01/12/2020 00:16:18                 -0.000569  1.178479e-05       -0.181242   \n",
              "01/12/2020 00:20:42                 -0.000110  2.334482e-06       -0.049994   \n",
              "...                                       ...           ...             ...   \n",
              "30/11/2020 23:38:05                  0.000754  5.103413e-06        0.121888   \n",
              "30/12/2020 02:23:59                 -0.003923  6.656940e-05       -0.449768   \n",
              "30/12/2020 13:18:32                  0.001001  3.205324e-05        0.189967   \n",
              "30/12/2020 16:32:25                  0.000188  6.984142e-08        0.012857   \n",
              "31/12/2020 17:56:25                  0.006713  6.203121e-05        0.444636   \n",
              "\n",
              "                     hat_diag  dffits_internal  student_resid    dffits  \n",
              "Timestamp                                                                \n",
              "01/01/2021 10:51:57  0.003208         0.013609       0.239802  0.013603  \n",
              "01/01/2021 13:40:08  0.004423         0.032020       0.480260  0.032010  \n",
              "01/12/2020 00:06:49  0.007407         0.036744       0.425207  0.036731  \n",
              "01/12/2020 00:16:18  0.003218        -0.010299      -0.181165 -0.010294  \n",
              "01/12/2020 00:20:42  0.008336        -0.004584      -0.049973 -0.004582  \n",
              "...                       ...              ...            ...       ...  \n",
              "30/11/2020 23:38:05  0.003082         0.006777       0.121835  0.006774  \n",
              "30/12/2020 02:23:59  0.002953        -0.024477      -0.449611 -0.024468  \n",
              "30/12/2020 13:18:32  0.007930         0.016985       0.189887  0.016978  \n",
              "30/12/2020 16:32:25  0.003788         0.000793       0.012852  0.000792  \n",
              "31/12/2020 17:56:25  0.002816         0.023628       0.444480  0.023620  \n",
              "\n",
              "[1160 rows x 15 columns]"
            ]
          },
          "execution_count": 221,
          "metadata": {},
          "output_type": "execute_result"
        }
      ],
      "source": [
        "influence = model2.get_influence()\n",
        "inf_sum = influence.summary_frame()\n",
        "inf_sum"
      ]
    },
    {
      "cell_type": "code",
      "execution_count": null,
      "metadata": {
        "id": "HaaX8-DYtsIG",
        "outputId": "407461b1-2cce-4d21-db2a-111986574507"
      },
      "outputs": [
        {
          "data": {
            "text/plain": [
              "Timestamp\n",
              "06/12/2020 21:51:21   -17.966454\n",
              "26/11/2020 17:08:47     2.579853\n",
              "Name: dffits, dtype: float64"
            ]
          },
          "execution_count": 222,
          "metadata": {},
          "output_type": "execute_result"
        }
      ],
      "source": [
        "inf_sum['dffits'][(inf_sum['dffits']>1) | (inf_sum['dffits']<-1)].sort_values()\n",
        "#потенциальные влияющие наблюдения"
      ]
    },
    {
      "cell_type": "code",
      "execution_count": null,
      "metadata": {
        "id": "Zs11J9yWtsIG",
        "outputId": "3d082057-8d69-4c9b-9d75-8a91f4d7b66f"
      },
      "outputs": [
        {
          "data": {
            "text/plain": [
              "Timestamp\n",
              "06/12/2020 21:51:21    -5.926134\n",
              "25/11/2020 13:12:26     3.117899\n",
              "26/11/2020 05:53:19     3.336793\n",
              "05/01/2021 23:03:40     3.456932\n",
              "25/11/2020 13:16:43     3.774251\n",
              "24/11/2020 21:36:24     3.923304\n",
              "27/11/2020 13:02:41     4.017120\n",
              "30/11/2020 14:36:32     4.030744\n",
              "25/11/2020 15:53:21     5.397562\n",
              "26/11/2020 22:41:33     5.441045\n",
              "25/11/2020 13:26:21     7.425434\n",
              "26/11/2020 17:08:47    24.181708\n",
              "Name: standard_resid, dtype: float64"
            ]
          },
          "execution_count": 224,
          "metadata": {},
          "output_type": "execute_result"
        }
      ],
      "source": [
        "inf_sum['standard_resid'][(inf_sum['standard_resid']>3) | (inf_sum['standard_resid']<-3)].sort_values()\n",
        "#потенциальные выбросы"
      ]
    },
    {
      "cell_type": "markdown",
      "metadata": {
        "id": "dx0OsMbztsIG"
      },
      "source": [
        "## Выводы\n",
        "- На доход IT-специалиста оказывают статистическую значимость его возраст, опыт работы в Германии и знание английского языка. У них полодительные коэффициенты, то есть с увеличением этих характеристик, доход будет расти.\n",
        "- Модель статистически значима, объясняет 84,8% вариации значений зависимой переменной.\n",
        "- Неожиданными результатами можно выделить"
      ]
    },
    {
      "cell_type": "markdown",
      "metadata": {
        "id": "-SVZTSSMQFGi"
      },
      "source": []
    },
    {
      "cell_type": "markdown",
      "metadata": {
        "id": "ThAXAT68tsIH"
      },
      "source": [
        "# Этот файл нужно сохранить как Notebook (.ipynb) и загрузить в Smart LMS до 23:55 16 ноября."
      ]
    }
  ],
  "metadata": {
    "colab": {
      "collapsed_sections": [
        "qo7OXyoXtsH5",
        "yvEH5X0ItsH8",
        "vo1bz1rptsH9",
        "aXlqDmsj2tzC",
        "KMXphpbI28yc",
        "m2iDBw_FtsH_",
        "qQZxPKUgEQx4"
      ],
      "provenance": []
    },
    "kernelspec": {
      "display_name": "Python 3 (ipykernel)",
      "language": "python",
      "name": "python3"
    },
    "language_info": {
      "codemirror_mode": {
        "name": "ipython",
        "version": 3
      },
      "file_extension": ".py",
      "mimetype": "text/x-python",
      "name": "python",
      "nbconvert_exporter": "python",
      "pygments_lexer": "ipython3",
      "version": "3.10.12"
    }
  },
  "nbformat": 4,
  "nbformat_minor": 0
}
