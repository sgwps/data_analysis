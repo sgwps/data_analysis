{
  "cells": [
    {
      "cell_type": "markdown",
      "metadata": {
        "id": "UuBxvzmqc4UC"
      },
      "source": [
        "# Домашее задание №3"
      ]
    },
    {
      "cell_type": "markdown",
      "metadata": {
        "id": "Hk9BI7Mpc4UD"
      },
      "source": [
        "## Задание 1\n",
        "\n",
        "В файле Worldbank_tech.xlsx содержаться данные Всемирного банка по ряду показателей за 2015 год. В файле следующие переменные:\n",
        "    \n",
        "    - country_name: Country Name\n",
        "    - country_code: Country Code\n",
        "    - internet: Internet users (per 100 people)\n",
        "    - secure: Secure Internet servers (per 1 million people)\n",
        "    - export: Communications, computer, etc. (% of service exports)\n",
        "    - import: Communications, computer, etc. (% of service imports)\n",
        "    - telephone: Fixed telephone subscriptions (per 100 people)\n",
        "    - hightech: High-technology exports (current US$)\n",
        "    - mobile: Mobile cellular subscriptions (per 100 people)\n",
        "    \n",
        "\n",
        "Проведите иерархический кластерный анализ данных с использованием не менее 4-х метрических переменных. Выполните следующие пункты:\n",
        "\n",
        "1.\tВыберите оптимальный алгоритм кластеризации и обоснуйте свой выбор.\n",
        "\n",
        "\n",
        "2.\tСоздайте дендрограмму, опишите её.\n",
        "\n",
        "\n",
        "3.\tОпределите число кластеров, объясните своё решение.\n",
        "\n",
        "\n",
        "4.\tОпишите получившиеся кластеры на основе описательной статистки. Нужно не просто рассчитать статистики в таблицах, но детально описать полученные результаты.\n",
        "\n",
        "\n",
        "5.\tДайте названия кластерам и обоснуйте их.\n",
        "\n",
        "\n",
        "6.\tПочему получилась именно такая кластерная структура? Полученные результаты соответствуют вашем изначальным предположениям или оказались неожиданными?"
      ]
    },
    {
      "cell_type": "code",
      "execution_count": 19,
      "metadata": {
        "colab": {
          "base_uri": "https://localhost:8080/",
          "height": 825
        },
        "id": "pe0TuDPGc4UE",
        "outputId": "ff3e00b4-c4d7-4c49-9157-c0c5d130f95b"
      },
      "outputs": [
        {
          "data": {
            "image/png": "[encoded data removed]",
            "text/plain": [
              "<Figure size 1080x720 with 1 Axes>"
            ]
          },
          "metadata": {
            "needs_background": "light"
          },
          "output_type": "display_data"
        }
      ],
      "source": [
        "import pandas as pd\n",
        "from scipy.cluster.hierarchy import dendrogram, linkage, fcluster\n",
        "import matplotlib.pyplot as plt\n",
        "\n",
        "\n",
        "df = pd.read_excel('Worldbank_tech.xlsx')\n",
        "df = df.dropna()\n",
        "metric_vars = ['internet', 'secure', 'telephone', 'mobile']\n",
        "for i in metric_vars:\n",
        "    df['z_' + i] = (df[i] - df[i].mean()) / df[i].std()\n",
        "\n",
        "metric_vars_norm = list(map(lambda x: 'z_' + x, metric_vars))\n",
        "plt.figure(figsize=(15, 10))\n",
        "dn = dendrogram(linkage(df[metric_vars_norm], 'ward')) # используем метод Варда, т.к. он минимизует внутрикластерный разброс"
      ]
    },
    {
      "cell_type": "markdown",
      "metadata": {
        "id": "hQIcqAgbsoo5"
      },
      "source": [
        "Дендрограмма получилась не самая однозначная, сложно визуально определить количество кластеров, кейсы распределены +- равномерно."
      ]
    },
    {
      "cell_type": "code",
      "execution_count": 20,
      "metadata": {
        "colab": {
          "base_uri": "https://localhost:8080/"
        },
        "id": "QxnU98hVc4UF",
        "outputId": "96c5f2e3-e3eb-4667-ae40-eaede15823ae"
      },
      "outputs": [
        {
          "name": "stdout",
          "output_type": "stream",
          "text": [
            "Число кластеров: 2, индекс 57.55697345701384\n",
            "Число кластеров: 3, индекс 59.63494326175003\n",
            "Число кластеров: 4, индекс 59.65229280948813\n",
            "Число кластеров: 5, индекс 55.6469384584428\n",
            "Число кластеров: 6, индекс 53.04627324337107\n",
            "Число кластеров: 7, индекс 53.614828964197585\n",
            "Число кластеров: 8, индекс 54.48373711223874\n",
            "Число кластеров: 9, индекс 55.48139162166415\n"
          ]
        }
      ],
      "source": [
        "from sklearn.metrics import calinski_harabasz_score\n",
        "Z = linkage(df[metric_vars_norm], method='ward', metric='euclidean')\n",
        "\n",
        "for k in range (2, 10):\n",
        "    labels = fcluster(Z, t=k, criterion='maxclust')\n",
        "    print('Число кластеров: {}, индекс {}'.format(k, calinski_harabasz_score(df[metric_vars_norm], labels)))"
      ]
    },
    {
      "cell_type": "markdown",
      "metadata": {
        "id": "2t9SQ8WQs-ye"
      },
      "source": [
        "Максимальное расстояние при 4-х кластерах $⟹$ берем 4 кластера."
      ]
    },
    {
      "cell_type": "code",
      "execution_count": 21,
      "metadata": {
        "colab": {
          "base_uri": "https://localhost:8080/",
          "height": 206
        },
        "id": "V2aypMBac4UF",
        "outputId": "4b50294a-5d9d-4bda-8fdd-5687cd7ee15c"
      },
      "outputs": [
        {
          "data": {
            "text/html": [
              "<div>\n",
              "<style scoped>\n",
              "    .dataframe tbody tr th:only-of-type {\n",
              "        vertical-align: middle;\n",
              "    }\n",
              "\n",
              "    .dataframe tbody tr th {\n",
              "        vertical-align: top;\n",
              "    }\n",
              "\n",
              "    .dataframe thead th {\n",
              "        text-align: right;\n",
              "    }\n",
              "</style>\n",
              "<table border=\"1\" class=\"dataframe\">\n",
              "  <thead>\n",
              "    <tr style=\"text-align: right;\">\n",
              "      <th></th>\n",
              "      <th>internet</th>\n",
              "      <th>secure</th>\n",
              "      <th>telephone</th>\n",
              "      <th>mobile</th>\n",
              "    </tr>\n",
              "    <tr>\n",
              "      <th>culster_labels</th>\n",
              "      <th></th>\n",
              "      <th></th>\n",
              "      <th></th>\n",
              "      <th></th>\n",
              "    </tr>\n",
              "  </thead>\n",
              "  <tbody>\n",
              "    <tr>\n",
              "      <th>1</th>\n",
              "      <td>82.609582</td>\n",
              "      <td>1258.358820</td>\n",
              "      <td>40.591920</td>\n",
              "      <td>120.694216</td>\n",
              "    </tr>\n",
              "    <tr>\n",
              "      <th>2</th>\n",
              "      <td>98.323610</td>\n",
              "      <td>7204.721392</td>\n",
              "      <td>18.298820</td>\n",
              "      <td>57.946262</td>\n",
              "    </tr>\n",
              "    <tr>\n",
              "      <th>3</th>\n",
              "      <td>33.265935</td>\n",
              "      <td>35.145877</td>\n",
              "      <td>7.994002</td>\n",
              "      <td>92.723449</td>\n",
              "    </tr>\n",
              "    <tr>\n",
              "      <th>4</th>\n",
              "      <td>63.048928</td>\n",
              "      <td>175.557576</td>\n",
              "      <td>17.601072</td>\n",
              "      <td>142.698217</td>\n",
              "    </tr>\n",
              "  </tbody>\n",
              "</table>\n",
              "</div>"
            ],
            "text/plain": [
              "                 internet       secure  telephone      mobile\n",
              "culster_labels                                               \n",
              "1               82.609582  1258.358820  40.591920  120.694216\n",
              "2               98.323610  7204.721392  18.298820   57.946262\n",
              "3               33.265935    35.145877   7.994002   92.723449\n",
              "4               63.048928   175.557576  17.601072  142.698217"
            ]
          },
          "execution_count": 21,
          "metadata": {},
          "output_type": "execute_result"
        }
      ],
      "source": [
        "labels = fcluster(Z, t=4, criterion='maxclust') #проводим рассчёты для 3-х кластеров\n",
        "df['culster_labels'] = labels\n",
        "df.groupby('culster_labels')[metric_vars].mean()"
      ]
    },
    {
      "cell_type": "code",
      "execution_count": 22,
      "metadata": {},
      "outputs": [
        {
          "name": "stdout",
          "output_type": "stream",
          "text": [
            "Кластер 1\n",
            "['Aruba' 'Australia' 'Austria' 'Bahamas, The' 'Belarus' 'Belgium' 'Canada'\n",
            " 'Croatia' 'Cyprus' 'Denmark' 'Estonia' 'Finland' 'France' 'Germany'\n",
            " 'Greece' 'Hungary' 'Iceland' 'Ireland' 'Israel' 'Japan' 'Korea, Rep.'\n",
            " 'Luxembourg' 'Malta' 'Moldova' 'Netherlands' 'New Zealand' 'Norway'\n",
            " 'Portugal' 'Singapore' 'Slovenia' 'Spain' 'Sweden' 'Switzerland'\n",
            " 'United Kingdom' 'United States']\n",
            "Кластер 2\n",
            "['Bermuda']\n",
            "Кластер 3\n",
            "['Algeria' 'Belize' 'Bosnia and Herzegovina' 'Cabo Verde' 'China'\n",
            " 'Dominican Republic' 'Ecuador' 'Guatemala' 'Guyana' 'Jamaica'\n",
            " 'Kyrgyz Republic' 'Mexico' 'Mongolia' 'Mozambique' 'Nepal' 'Nicaragua'\n",
            " 'Pakistan' 'Paraguay' 'Peru' 'Philippines' 'Rwanda'\n",
            " 'Sao Tome and Principe' 'Solomon Islands' 'Sri Lanka' 'Tanzania'\n",
            " 'Thailand' 'Turkey' 'Uganda' 'Zimbabwe']\n",
            "Кластер 4\n",
            "['Albania' 'Argentina' 'Armenia' 'Azerbaijan' 'Botswana' 'Brazil'\n",
            " 'Brunei Darussalam' 'Chile' 'Colombia' 'Costa Rica' 'Czech Republic'\n",
            " 'El Salvador' 'Georgia' 'Italy' 'Jordan' 'Kuwait' 'Latvia' 'Lithuania'\n",
            " 'Macedonia, FYR' 'Malaysia' 'Mauritius' 'Montenegro' 'Morocco' 'Panama'\n",
            " 'Poland' 'Qatar' 'Romania' 'Russian Federation' 'Saudi Arabia'\n",
            " 'Seychelles' 'Slovak Republic' 'South Africa' 'Ukraine' 'Uruguay']\n"
          ]
        }
      ],
      "source": [
        "for i in range (1, 5):\n",
        "    print(\"Кластер {}\".format(i))\n",
        "    print(df[df['culster_labels'] == i][[\"country_name\"]].to_numpy().flatten())"
      ]
    },
    {
      "cell_type": "code",
      "execution_count": 23,
      "metadata": {
        "colab": {
          "base_uri": "https://localhost:8080/"
        },
        "id": "qnyXu7dawQ2H",
        "outputId": "aef59601-8462-4706-9258-ab49e5399891"
      },
      "outputs": [
        {
          "data": {
            "text/plain": [
              "internet      61.596310\n",
              "secure       588.237052\n",
              "telephone     22.922005\n",
              "mobile       119.423871\n",
              "dtype: float64"
            ]
          },
          "execution_count": 23,
          "metadata": {},
          "output_type": "execute_result"
        }
      ],
      "source": [
        "df[metric_vars].mean()"
      ]
    },
    {
      "cell_type": "markdown",
      "metadata": {
        "id": "pVEfnizcc4UF"
      },
      "source": [
        "### Кластер 1 \n",
        "#### В основном развитые страны, такие как Австралия, Дания, США\n",
        "*   Число пользователей интернета значительно выше среднего;\n",
        "*   Количество безопасных серверов больше среднего более чем в 2 раза;\n",
        "*   Абонентская плата за телефон выше среднего почти в два раза;\n",
        "*   Абонентская плата за мобильный интернет близка к среднему. \n",
        "В развитых странах стоимость жизни выше, чем в среднем по миру, поэтому и плата за телефон и интернет также выше. Также, развитые страны популярны как направление для подключения VPN. \n",
        "\n",
        "### Кластер 2 \n",
        "#### Бермудские острова\n",
        "*   Число пользователей интернета значительно выше среднего;\n",
        "*   Количество безопасных серверов многократно больше среднего;\n",
        "*   Абонентская плата за телефон ниже среднего;\n",
        "*   Абонентская плата за мобильный интернет ниже среднего в два раза.\n",
        "Уникальный кластер для Бермудских островов можно объяснить тем, что несмотря на низкий уровень развития, через Бермудские острова пользователи подключаются через VPN\n",
        "\n",
        "### Кластер 3 \n",
        "#### Страны с низким уровнем развития (Соломоновы острова, Гватемальская республика) или с сильными юридическими ограничениями на использование интернета (Китай)\n",
        "*   Число пользователей интернета ниже среднего в два раза;\n",
        "*   Количество безопасных серверов многократно меньше среднего;\n",
        "*   Абонентская плата за телефон более чем в три раза меньше среднего;\n",
        "*   Абонентская плата за мобильный интернет значительно ниже среднего.  \n",
        "\n",
        "### Кластер 4 \n",
        "#### Страны с высоким уровнем развития, но менее развитые, чем страны из первого кластера\n",
        "#### Присутствие Италии в данном списке можно объяснить тем, что в Италии достаточно возрастное население, представители которого пользуются интернетом меньше, чем представители более молодых поколений\n",
        "*   Число пользователей интернета близко к среднему;\n",
        "*   Количество безопасных серверов более чем в три раза меньше среднего;\n",
        "*   Абонентская плата за телефон ниже среднего;\n",
        "*   Абонентская плата за мобильный интернет незначительно выше среднего.  \n",
        "\n",
        "В этот кластер могли попасть страны, в которых пользуются интерентом и связью не меньше, чем в остальном мире, но где нет потребности в защищенных серверах. Это могут быть страны со средним уровнем развития, где нельзя установить высокие цены из-за материального состояния большинства населения, при этом хватает активных пользователей интернета, которые вряд ли пользуются защищенными серверами.\n",
        "\n",
        "Распределение кластеров соответсвует дейтствительности, и имеет право на существование, однако стоит учесть и поподробнее рассмотреть не перечисленные части света."
      ]
    },
    {
      "cell_type": "markdown",
      "metadata": {
        "id": "YlLMkm6Gc4UF"
      },
      "source": [
        "## Задание 2\n",
        "\n",
        "В файле Video_Games_Sales.csv содержаться данные о продажах видеоигр.\n",
        "Источник: https://www.kaggle.com/rush4ratio/video-game-sales-with-ratings\n",
        "\n",
        "В файле следующие переменные::\n",
        "    \n",
        "    - Name: The game’s name\n",
        "    - Platform: Platform of the game’s release (i.e. PC, PS4, etc.)\n",
        "    - Year_of_Release: Year of the game's release\n",
        "    - Genre: Genre of the game\n",
        "    - Publisher: Publisher of the game\n",
        "    - NA_Sales: Sales in North America (in millions)\n",
        "    - EU_Sales: Sales in Europe (in millions)\n",
        "    - JP_Sales: Sales in Japan (in millions)\n",
        "    - Other_Sales: Sales in the rest of the world (in millions)\n",
        "    - Global_Sales: Total worldwide sales.\n",
        "    - Critic_score: Aggregate score compiled by Metacritic staff\n",
        "    - Criticcount: The number of critics used in coming up with the Criticscore\n",
        "    - User_score: Score by Metacritic's subscribers\n",
        "    - Usercount: Number of users who gave the userscore\n",
        "    - Developer: Party responsible for creating the game\n",
        "    - Rating: The ESRB ratings\n",
        "\n",
        "\n",
        "Проведите кластерный анализ по методу k-средних с использованием не менее 4-х метрических переменных. Выполните следующие пункты:\n",
        "\n",
        "1.\tОпределите число кластеров, объясните своё решение.\n",
        "\n",
        "\n",
        "2.\tОпишите получившиеся кластеры с помощью описательной статистки. Нужно не просто рассчитать статистики в таблицах, но детально описать полученные результаты.\n",
        "\n",
        "\n",
        "3.\tДайте названия кластерам и обоснуйте их.\n",
        "\n",
        "\n",
        "4.\tПочему получилась именно такая кластерная структура? Полученные результаты соответствуют вашем изначальным предположениям или оказались неожиданными?\n"
      ]
    },
    {
      "cell_type": "code",
      "execution_count": 24,
      "metadata": {
        "id": "894yYDjMc4UF"
      },
      "outputs": [],
      "source": [
        "df = pd.read_csv('video_games_sales.csv')\n",
        "metric_vars = ['NA_Sales', 'EU_Sales', 'JP_Sales', 'Critic_Score', 'User_Score']\n",
        "for  i in metric_vars:\n",
        "    df[i] = pd.to_numeric(df[i], errors='coerce')\n",
        "    df = df.dropna(subset=[i])\n",
        "metric_vars_norm = []\n",
        "for i in metric_vars:\n",
        "    df['z_' + i] = (df[i] - df[i].mean()) / df[i].std()\n",
        "    metric_vars_norm.append('z_' + i)"
      ]
    },
    {
      "cell_type": "code",
      "execution_count": 25,
      "metadata": {
        "colab": {
          "base_uri": "https://localhost:8080/"
        },
        "id": "NiLovfN4c4UF",
        "outputId": "74ec6ea9-2110-4b2c-cf29-bcb2159978cb"
      },
      "outputs": [
        {
          "name": "stdout",
          "output_type": "stream",
          "text": [
            "Число кластеров: 2, индекс 2080.8529655241987\n",
            "Число кластеров: 3, индекс 2692.8985300949694\n",
            "Число кластеров: 4, индекс 2667.3562679029387\n",
            "Число кластеров: 5, индекс 2594.5106900287983\n",
            "Число кластеров: 6, индекс 2619.498874330853\n",
            "Число кластеров: 7, индекс 2608.6927742235944\n",
            "Число кластеров: 8, индекс 2610.0887152399428\n",
            "Число кластеров: 9, индекс 2628.7191539678556\n",
            "Число кластеров: 10, индекс 2679.8185329024514\n",
            "Число кластеров: 11, индекс 2711.5560488688634\n",
            "Число кластеров: 12, индекс 2648.6115716495483\n",
            "Число кластеров: 13, индекс 2612.1544450433767\n",
            "Число кластеров: 14, индекс 2563.32464793588\n"
          ]
        }
      ],
      "source": [
        "from sklearn.cluster import KMeans\n",
        "X = df[metric_vars_norm]\n",
        "n_init = 'auto'\n",
        "for k in range (2, 15):\n",
        "    labels = KMeans(n_clusters=k, n_init=10).fit_predict(X)\n",
        "    print('Число кластеров: {}, индекс {}'.format(k, calinski_harabasz_score(X, labels)))\n"
      ]
    },
    {
      "cell_type": "markdown",
      "metadata": {
        "id": "kW2Tss1h6RAR"
      },
      "source": [
        "Максимальное расстояние при 3-х кластерах  ⟹  будет 3 кластера (у нас всего 5 переменных, поэтому мы не будет выбирать 11 кластеров, несмотря на то, что при нем значение индекса незначительно больше, т. к. вряд ли по пяти переменным мы сможем корректно разбить на такое большое количество кластеров.)"
      ]
    },
    {
      "cell_type": "code",
      "execution_count": 26,
      "metadata": {
        "colab": {
          "base_uri": "https://localhost:8080/",
          "height": 175
        },
        "id": "ujR2bufec4UG",
        "outputId": "673fe98f-64a4-4c5a-8bbf-481a2af82db0"
      },
      "outputs": [
        {
          "data": {
            "text/html": [
              "<div>\n",
              "<style scoped>\n",
              "    .dataframe tbody tr th:only-of-type {\n",
              "        vertical-align: middle;\n",
              "    }\n",
              "\n",
              "    .dataframe tbody tr th {\n",
              "        vertical-align: top;\n",
              "    }\n",
              "\n",
              "    .dataframe thead th {\n",
              "        text-align: right;\n",
              "    }\n",
              "</style>\n",
              "<table border=\"1\" class=\"dataframe\">\n",
              "  <thead>\n",
              "    <tr style=\"text-align: right;\">\n",
              "      <th></th>\n",
              "      <th>0</th>\n",
              "      <th>z_NA_Sales</th>\n",
              "      <th>z_EU_Sales</th>\n",
              "      <th>z_JP_Sales</th>\n",
              "      <th>z_Critic_Score</th>\n",
              "      <th>z_User_Score</th>\n",
              "    </tr>\n",
              "    <tr>\n",
              "      <th>Clusters</th>\n",
              "      <th></th>\n",
              "      <th></th>\n",
              "      <th></th>\n",
              "      <th></th>\n",
              "      <th></th>\n",
              "      <th></th>\n",
              "    </tr>\n",
              "  </thead>\n",
              "  <tbody>\n",
              "    <tr>\n",
              "      <th>0</th>\n",
              "      <td>4826</td>\n",
              "      <td>0.017530</td>\n",
              "      <td>0.009864</td>\n",
              "      <td>-0.019727</td>\n",
              "      <td>0.463745</td>\n",
              "      <td>0.465219</td>\n",
              "    </tr>\n",
              "    <tr>\n",
              "      <th>1</th>\n",
              "      <td>2127</td>\n",
              "      <td>-0.220043</td>\n",
              "      <td>-0.201507</td>\n",
              "      <td>-0.170708</td>\n",
              "      <td>-1.087564</td>\n",
              "      <td>-1.069680</td>\n",
              "    </tr>\n",
              "    <tr>\n",
              "      <th>2</th>\n",
              "      <td>64</td>\n",
              "      <td>5.991149</td>\n",
              "      <td>5.953191</td>\n",
              "      <td>7.160930</td>\n",
              "      <td>1.175210</td>\n",
              "      <td>0.469697</td>\n",
              "    </tr>\n",
              "  </tbody>\n",
              "</table>\n",
              "</div>"
            ],
            "text/plain": [
              "             0  z_NA_Sales  z_EU_Sales  z_JP_Sales  z_Critic_Score  \\\n",
              "Clusters                                                             \n",
              "0         4826    0.017530    0.009864   -0.019727        0.463745   \n",
              "1         2127   -0.220043   -0.201507   -0.170708       -1.087564   \n",
              "2           64    5.991149    5.953191    7.160930        1.175210   \n",
              "\n",
              "          z_User_Score  \n",
              "Clusters                \n",
              "0             0.465219  \n",
              "1            -1.069680  \n",
              "2             0.469697  "
            ]
          },
          "execution_count": 26,
          "metadata": {},
          "output_type": "execute_result"
        }
      ],
      "source": [
        "kmeans_model = KMeans(n_clusters=3, n_init=10).fit_predict(X)\n",
        "df['Clusters'] = kmeans_model\n",
        "result = pd.DataFrame(df.groupby('Clusters').size())\n",
        "for i in metric_vars_norm:\n",
        "    result[i] =  df.groupby('Clusters')[i].mean()\n",
        "\n",
        "result"
      ]
    },
    {
      "cell_type": "markdown",
      "metadata": {
        "id": "MN-FpZe0c4UG"
      },
      "source": [
        "### Кластер 1 (\"На любителя\")\n",
        "*   Продажи в Северной Америке незначительно больше среднего;\n",
        "*   Продажи в Европе незначительно больше среднего;\n",
        "*   Продажи в Японии незначительно меньше среднего;\n",
        "*   Рейтинг критиков значительно выше среднего;\n",
        "*   Рейтинг игроков значительно выше среднего.\n",
        "\n",
        "Можно сделать вывод, что это кластер игр \"на любителя\". Они средне продаются, но их целевая аудитория довольна.\n",
        "### Кластер 2 (Экспериментальные игры)\n",
        "*   Продажи в Северной Америке ниже среднего;\n",
        "*   Продажи в Европе ниже среднего;\n",
        "*   Продажи в Японии ниже среднего;\n",
        "*   Рейтинг критиков значительно ниже среднего;\n",
        "*   Рейтинг игроков значительно ниже среднего.\n",
        "\n",
        "Можно сделать вывод, что это кластер экспериментальных игр: разработчики решили попробовать что-то новое, но промахнулись, отсюда плохие продажи и низкие рейтинги.\n",
        "### Кластер 3 (Успешные игры)\n",
        "*   Продажи в Северной Америке многократно выше среднего;\n",
        "*   Продажи в Европе многократно выше среднего;\n",
        "*   Продажи в Японии многократно выше среднего;\n",
        "*   Рейтинг критиков значительно выше среднего;\n",
        "*   Рейтинг игроков значительно выше среднего.\n",
        "\n",
        "Можно сделать вывод, что это кластер популярных игр, рассчитанных на широкую аудиторию или просто успешные проекты: большие продажи по всему миру, высокие рейтинги - возможно это игры от всеми любимых студий или просто внезапно выстреливших новичков.\n",
        "\n",
        "Деление на кластеры получилось довольно близким реальности, если мы учитываем только продажи и рейтинги, это три наибольших группы, которые мы можем выделить. Наверняка найдутся игры, не отвечающие никаким из этих кластеров, но их количество будет пренебрежимо мало и это можно списать, учитывая незначительность количества таких отклонений."
      ]
    },
    {
      "cell_type": "markdown",
      "metadata": {
        "id": "MWE02fWVc4UG"
      },
      "source": [
        "Обратите внимание, что все пункты задания должны сопровождаться _выполненным_ фрагментом кода!"
      ]
    },
    {
      "cell_type": "markdown",
      "metadata": {
        "id": "dJvwUhPVc4UG"
      },
      "source": [
        "# Этот файл нужно сохранить как Notebook (.ipynb) и загрузить в Smart LMS до 23:55 2 ноября."
      ]
    }
  ],
  "metadata": {
    "colab": {
      "provenance": []
    },
    "kernelspec": {
      "display_name": "Python 3 (ipykernel)",
      "language": "python",
      "name": "python3"
    },
    "language_info": {
      "codemirror_mode": {
        "name": "ipython",
        "version": 3
      },
      "file_extension": ".py",
      "mimetype": "text/x-python",
      "name": "python",
      "nbconvert_exporter": "python",
      "pygments_lexer": "ipython3",
      "version": "3.7.6"
    }
  },
  "nbformat": 4,
  "nbformat_minor": 0
}
